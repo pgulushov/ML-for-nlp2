{
 "cells": [
  {
   "cell_type": "markdown",
   "metadata": {},
   "source": [
    "### Challange: Use the senator speeches in the folder 105-extracted-date and use doc2vec to find whose senator speech is closest to senator Biden. Use sen105kh_fix.csv and/or Wikipedia to validate your findings (i.e., understand if the most similar speeches are senators from the same state and/party). Describe your findings. Compare with the outcome you got/will get using cosine similarity."
   ]
  },
  {
   "cell_type": "code",
   "execution_count": 249,
   "metadata": {},
   "outputs": [],
   "source": [
    "import pandas as pd\n",
    "import os\n",
    "import glob\n",
    "from nltk.corpus import stopwords\n",
    "import string\n",
    "from nltk.tokenize import word_tokenize\n",
    "import gensim\n",
    "from gensim.models.doc2vec import TaggedDocument\n",
    "import warnings\n",
    "from collections import Counter\n",
    "from gensim.models import Word2Vec\n",
    "\n",
    "from tqdm.notebook import tqdm\n",
    "\n",
    "warnings.filterwarnings(\"ignore\")\n",
    "tqdm.pandas()"
   ]
  },
  {
   "cell_type": "code",
   "execution_count": 197,
   "metadata": {},
   "outputs": [
    {
     "data": {
      "text/plain": [
       "'c:\\\\Users\\\\99450\\\\Desktop\\\\ML-for-NLP-main\\\\Inputs\\\\105-extracted-date'"
      ]
     },
     "execution_count": 197,
     "metadata": {},
     "output_type": "execute_result"
    }
   ],
   "source": [
    "pwd"
   ]
  },
  {
   "cell_type": "code",
   "execution_count": 198,
   "metadata": {},
   "outputs": [],
   "source": [
    "os.chdir('c:\\\\Users\\\\99450\\\\Desktop\\\\ML-for-NLP-main\\\\Inputs\\\\105-extracted-date')"
   ]
  },
  {
   "cell_type": "code",
   "execution_count": 199,
   "metadata": {},
   "outputs": [],
   "source": [
    "inputdir = \"c:\\\\Users\\\\99450\\\\Desktop\\\\ML-for-NLP-main\\\\Inputs\\\\\""
   ]
  },
  {
   "cell_type": "code",
   "execution_count": 200,
   "metadata": {},
   "outputs": [],
   "source": [
    "def format_congress_text(text_list):\n",
    "    df = pd.DataFrame(text_list, columns=[\"text_raw\"])\n",
    "\n",
    "    df[\"text_raw\"] = df[\"text_raw\"].str.split(\"\\n</TEXT>\\n</DOC>\\n\\n<DOC>\\n<DOCNO>\")\n",
    "\n",
    "    df = df.explode(\"text_raw\")\n",
    "\n",
    "    df[\"text_raw\"] = df[\"text_raw\"].str.replace(\"<DOC>\\n<DOCNO>\", \"\")\n",
    "\n",
    "    df[\"meta\"] = df[\"text_raw\"].str.split(\"</DOCNO>\\n<TEXT>\\n\").str[0]\n",
    "    df[\"congress\"] = df[\"meta\"].str[:3]\n",
    "    df[\"speaker\"] = df[\"meta\"].str.split(\"-\").str[1]\n",
    "    df[\"state\"] = df[\"meta\"].str.split(\"-\").str[2]\n",
    "    df[\"date\"] = df[\"meta\"].str.split(\"-\").str[4]\n",
    "\n",
    "    df[\"text_raw\"] = (\n",
    "        df[\"text_raw\"]\n",
    "        .str.split(\"</DOCNO>\\n<TEXT>\\n\")\n",
    "        .str[1]\n",
    "        .str.strip()\n",
    "        .str.split(\".\")\n",
    "        .str[2:]\n",
    "        .str.join(sep=\"\")\n",
    "        .str.strip()\n",
    "    )\n",
    "\n",
    "    df[\"text_raw\"] = df[\"text_raw\"] + \" \"\n",
    "\n",
    "    # now join this back to congress / speaker level\n",
    "\n",
    "    df = df.groupby([\"congress\", \"speaker\"])[\"text_raw\"].sum().reset_index()\n",
    "\n",
    "    # drop if a congressman did not speek\n",
    "    df = df.loc[lambda x: x[\"text_raw\"].apply(type) == str]\n",
    "    return df"
   ]
  },
  {
   "cell_type": "code",
   "execution_count": 201,
   "metadata": {},
   "outputs": [],
   "source": [
    "droplist = open(inputdir + \"droplist.txt\", encoding=\"utf-8\", newline=\"\\n\").read()\n",
    "droplist = [i.replace('\"', \"\") for i in droplist.split(\"\\n\")]\n",
    "stop_words = stopwords.words(\"english\")\n",
    "stopwords_final = droplist + stop_words"
   ]
  },
  {
   "cell_type": "code",
   "execution_count": 202,
   "metadata": {},
   "outputs": [],
   "source": [
    "text_105 = [\n",
    "    open(inputdir + \"105-extracted-date/\" + i, encoding=\"latin\").read()\n",
    "    for i in os.listdir(inputdir + \"105-extracted-date/\")\n",
    "]\n",
    "\n",
    "df = format_congress_text(text_105)"
   ]
  },
  {
   "cell_type": "code",
   "execution_count": 203,
   "metadata": {},
   "outputs": [
    {
     "data": {
      "text/html": [
       "<div>\n",
       "<style scoped>\n",
       "    .dataframe tbody tr th:only-of-type {\n",
       "        vertical-align: middle;\n",
       "    }\n",
       "\n",
       "    .dataframe tbody tr th {\n",
       "        vertical-align: top;\n",
       "    }\n",
       "\n",
       "    .dataframe thead th {\n",
       "        text-align: right;\n",
       "    }\n",
       "</style>\n",
       "<table border=\"1\" class=\"dataframe\">\n",
       "  <thead>\n",
       "    <tr style=\"text-align: right;\">\n",
       "      <th></th>\n",
       "      <th>congress</th>\n",
       "      <th>speaker</th>\n",
       "      <th>text_raw</th>\n",
       "    </tr>\n",
       "  </thead>\n",
       "  <tbody>\n",
       "    <tr>\n",
       "      <th>0</th>\n",
       "      <td>105</td>\n",
       "      <td>abraham</td>\n",
       "      <td>Mr President, during debate on final passage o...</td>\n",
       "    </tr>\n",
       "    <tr>\n",
       "      <th>1</th>\n",
       "      <td>105</td>\n",
       "      <td>akaka</td>\n",
       "      <td>Mr President, I am pleased that the Senate pas...</td>\n",
       "    </tr>\n",
       "    <tr>\n",
       "      <th>2</th>\n",
       "      <td>105</td>\n",
       "      <td>allard</td>\n",
       "      <td>Mr President, I rise to make a few remarks con...</td>\n",
       "    </tr>\n",
       "    <tr>\n",
       "      <th>3</th>\n",
       "      <td>105</td>\n",
       "      <td>ashcroft</td>\n",
       "      <td>Mr President, the Senate is not in order I wou...</td>\n",
       "    </tr>\n",
       "    <tr>\n",
       "      <th>4</th>\n",
       "      <td>105</td>\n",
       "      <td>baucus</td>\n",
       "      <td>I understand that the House has sent the Senat...</td>\n",
       "    </tr>\n",
       "    <tr>\n",
       "      <th>...</th>\n",
       "      <td>...</td>\n",
       "      <td>...</td>\n",
       "      <td>...</td>\n",
       "    </tr>\n",
       "    <tr>\n",
       "      <th>94</th>\n",
       "      <td>105</td>\n",
       "      <td>thurmond</td>\n",
       "      <td>Mr President, as the Senate considers HR 2263,...</td>\n",
       "    </tr>\n",
       "    <tr>\n",
       "      <th>95</th>\n",
       "      <td>105</td>\n",
       "      <td>torricelli</td>\n",
       "      <td>Mr President I thank Senator Snowe, Senator Mc...</td>\n",
       "    </tr>\n",
       "    <tr>\n",
       "      <th>96</th>\n",
       "      <td>105</td>\n",
       "      <td>warner</td>\n",
       "      <td>During the past two weeks, the Senate Armed Se...</td>\n",
       "    </tr>\n",
       "    <tr>\n",
       "      <th>97</th>\n",
       "      <td>105</td>\n",
       "      <td>wellstone</td>\n",
       "      <td>Mr President, today, I would like to call atte...</td>\n",
       "    </tr>\n",
       "    <tr>\n",
       "      <th>98</th>\n",
       "      <td>105</td>\n",
       "      <td>wyden</td>\n",
       "      <td>Mr President, today Congress passed a version ...</td>\n",
       "    </tr>\n",
       "  </tbody>\n",
       "</table>\n",
       "<p>99 rows × 3 columns</p>\n",
       "</div>"
      ],
      "text/plain": [
       "   congress     speaker                                           text_raw\n",
       "0       105     abraham  Mr President, during debate on final passage o...\n",
       "1       105       akaka  Mr President, I am pleased that the Senate pas...\n",
       "2       105      allard  Mr President, I rise to make a few remarks con...\n",
       "3       105    ashcroft  Mr President, the Senate is not in order I wou...\n",
       "4       105      baucus  I understand that the House has sent the Senat...\n",
       "..      ...         ...                                                ...\n",
       "94      105    thurmond  Mr President, as the Senate considers HR 2263,...\n",
       "95      105  torricelli  Mr President I thank Senator Snowe, Senator Mc...\n",
       "96      105      warner  During the past two weeks, the Senate Armed Se...\n",
       "97      105   wellstone  Mr President, today, I would like to call atte...\n",
       "98      105       wyden  Mr President, today Congress passed a version ...\n",
       "\n",
       "[99 rows x 3 columns]"
      ]
     },
     "execution_count": 203,
     "metadata": {},
     "output_type": "execute_result"
    }
   ],
   "source": [
    "df"
   ]
  },
  {
   "cell_type": "code",
   "execution_count": 204,
   "metadata": {},
   "outputs": [
    {
     "data": {
      "text/plain": [
       "'!\"#$%&\\'()*+,-./:;<=>?@[\\\\]^_`{|}~'"
      ]
     },
     "execution_count": 204,
     "metadata": {},
     "output_type": "execute_result"
    }
   ],
   "source": [
    "string.punctuation"
   ]
  },
  {
   "cell_type": "code",
   "execution_count": 205,
   "metadata": {},
   "outputs": [],
   "source": [
    "def preprocessing_text(text):\n",
    "    words = word_tokenize(text.lower())\n",
    "    tokens = [word for word in words if word not in string.punctuation]\n",
    "    tokens = [token for token in tokens if token not in stopwords_final]\n",
    "    return tokens"
   ]
  },
  {
   "cell_type": "code",
   "execution_count": 206,
   "metadata": {},
   "outputs": [],
   "source": [
    "df['text']=0"
   ]
  },
  {
   "cell_type": "code",
   "execution_count": 207,
   "metadata": {},
   "outputs": [],
   "source": [
    "for text in df['text_raw']:\n",
    "    a=df[df['text_raw']==text].index.values\n",
    "    df['text'][a[0]]=preprocessing_text(text)"
   ]
  },
  {
   "cell_type": "code",
   "execution_count": 208,
   "metadata": {},
   "outputs": [
    {
     "data": {
      "text/html": [
       "<div>\n",
       "<style scoped>\n",
       "    .dataframe tbody tr th:only-of-type {\n",
       "        vertical-align: middle;\n",
       "    }\n",
       "\n",
       "    .dataframe tbody tr th {\n",
       "        vertical-align: top;\n",
       "    }\n",
       "\n",
       "    .dataframe thead th {\n",
       "        text-align: right;\n",
       "    }\n",
       "</style>\n",
       "<table border=\"1\" class=\"dataframe\">\n",
       "  <thead>\n",
       "    <tr style=\"text-align: right;\">\n",
       "      <th></th>\n",
       "      <th>congress</th>\n",
       "      <th>speaker</th>\n",
       "      <th>text_raw</th>\n",
       "      <th>text</th>\n",
       "    </tr>\n",
       "  </thead>\n",
       "  <tbody>\n",
       "    <tr>\n",
       "      <th>0</th>\n",
       "      <td>105</td>\n",
       "      <td>abraham</td>\n",
       "      <td>Mr President, during debate on final passage o...</td>\n",
       "      <td>[president, debate, final, passage, omnibus, a...</td>\n",
       "    </tr>\n",
       "    <tr>\n",
       "      <th>1</th>\n",
       "      <td>105</td>\n",
       "      <td>akaka</td>\n",
       "      <td>Mr President, I am pleased that the Senate pas...</td>\n",
       "      <td>[president, pleased, senate, passed, hr, 4110,...</td>\n",
       "    </tr>\n",
       "    <tr>\n",
       "      <th>2</th>\n",
       "      <td>105</td>\n",
       "      <td>allard</td>\n",
       "      <td>Mr President, I rise to make a few remarks con...</td>\n",
       "      <td>[president, rise, remarks, concerning, auto, c...</td>\n",
       "    </tr>\n",
       "    <tr>\n",
       "      <th>3</th>\n",
       "      <td>105</td>\n",
       "      <td>ashcroft</td>\n",
       "      <td>Mr President, the Senate is not in order I wou...</td>\n",
       "      <td>[president, senate, hear, senator, senate, hap...</td>\n",
       "    </tr>\n",
       "    <tr>\n",
       "      <th>4</th>\n",
       "      <td>105</td>\n",
       "      <td>baucus</td>\n",
       "      <td>I understand that the House has sent the Senat...</td>\n",
       "      <td>[understand, house, sent, senate, substitute, ...</td>\n",
       "    </tr>\n",
       "    <tr>\n",
       "      <th>...</th>\n",
       "      <td>...</td>\n",
       "      <td>...</td>\n",
       "      <td>...</td>\n",
       "      <td>...</td>\n",
       "    </tr>\n",
       "    <tr>\n",
       "      <th>94</th>\n",
       "      <td>105</td>\n",
       "      <td>thurmond</td>\n",
       "      <td>Mr President, as the Senate considers HR 2263,...</td>\n",
       "      <td>[president, senate, considers, hr, 2263, bill,...</td>\n",
       "    </tr>\n",
       "    <tr>\n",
       "      <th>95</th>\n",
       "      <td>105</td>\n",
       "      <td>torricelli</td>\n",
       "      <td>Mr President I thank Senator Snowe, Senator Mc...</td>\n",
       "      <td>[president, thank, senator, senator, majority,...</td>\n",
       "    </tr>\n",
       "    <tr>\n",
       "      <th>96</th>\n",
       "      <td>105</td>\n",
       "      <td>warner</td>\n",
       "      <td>During the past two weeks, the Senate Armed Se...</td>\n",
       "      <td>[past, weeks, senate, armed, services, committ...</td>\n",
       "    </tr>\n",
       "    <tr>\n",
       "      <th>97</th>\n",
       "      <td>105</td>\n",
       "      <td>wellstone</td>\n",
       "      <td>Mr President, today, I would like to call atte...</td>\n",
       "      <td>[president, call, attention, issue, addressed,...</td>\n",
       "    </tr>\n",
       "    <tr>\n",
       "      <th>98</th>\n",
       "      <td>105</td>\n",
       "      <td>wyden</td>\n",
       "      <td>Mr President, today Congress passed a version ...</td>\n",
       "      <td>[president, congress, passed, version, dungene...</td>\n",
       "    </tr>\n",
       "  </tbody>\n",
       "</table>\n",
       "<p>99 rows × 4 columns</p>\n",
       "</div>"
      ],
      "text/plain": [
       "   congress     speaker                                           text_raw  \\\n",
       "0       105     abraham  Mr President, during debate on final passage o...   \n",
       "1       105       akaka  Mr President, I am pleased that the Senate pas...   \n",
       "2       105      allard  Mr President, I rise to make a few remarks con...   \n",
       "3       105    ashcroft  Mr President, the Senate is not in order I wou...   \n",
       "4       105      baucus  I understand that the House has sent the Senat...   \n",
       "..      ...         ...                                                ...   \n",
       "94      105    thurmond  Mr President, as the Senate considers HR 2263,...   \n",
       "95      105  torricelli  Mr President I thank Senator Snowe, Senator Mc...   \n",
       "96      105      warner  During the past two weeks, the Senate Armed Se...   \n",
       "97      105   wellstone  Mr President, today, I would like to call atte...   \n",
       "98      105       wyden  Mr President, today Congress passed a version ...   \n",
       "\n",
       "                                                 text  \n",
       "0   [president, debate, final, passage, omnibus, a...  \n",
       "1   [president, pleased, senate, passed, hr, 4110,...  \n",
       "2   [president, rise, remarks, concerning, auto, c...  \n",
       "3   [president, senate, hear, senator, senate, hap...  \n",
       "4   [understand, house, sent, senate, substitute, ...  \n",
       "..                                                ...  \n",
       "94  [president, senate, considers, hr, 2263, bill,...  \n",
       "95  [president, thank, senator, senator, majority,...  \n",
       "96  [past, weeks, senate, armed, services, committ...  \n",
       "97  [president, call, attention, issue, addressed,...  \n",
       "98  [president, congress, passed, version, dungene...  \n",
       "\n",
       "[99 rows x 4 columns]"
      ]
     },
     "execution_count": 208,
     "metadata": {},
     "output_type": "execute_result"
    }
   ],
   "source": [
    "df"
   ]
  },
  {
   "cell_type": "code",
   "execution_count": 209,
   "metadata": {},
   "outputs": [],
   "source": [
    "#for the next challange\n",
    "biden = df[df['speaker']=='biden']"
   ]
  },
  {
   "cell_type": "code",
   "execution_count": 210,
   "metadata": {},
   "outputs": [],
   "source": [
    "#get the preporcesssed text in list for gensim analysis\n",
    "text_list=[]\n",
    "for i in df['text']:\n",
    "    text_list.append(i)"
   ]
  },
  {
   "cell_type": "code",
   "execution_count": 211,
   "metadata": {},
   "outputs": [],
   "source": [
    "#get index of biden's speech\n",
    "a=df[df['speaker']=='biden'].index.values\n",
    "biden_index=a[0]"
   ]
  },
  {
   "cell_type": "code",
   "execution_count": 212,
   "metadata": {},
   "outputs": [],
   "source": [
    "model = gensim.models.doc2vec.Doc2Vec(vector_size=50, min_count=2, epochs=40)"
   ]
  },
  {
   "cell_type": "code",
   "execution_count": 213,
   "metadata": {},
   "outputs": [],
   "source": [
    "text=[]\n",
    "for i in text_list:\n",
    "    text.append(TaggedDocument(words=i, tags=[text_list.index(i)]))\n",
    "    "
   ]
  },
  {
   "cell_type": "code",
   "execution_count": 214,
   "metadata": {},
   "outputs": [],
   "source": [
    "model.build_vocab(text)"
   ]
  },
  {
   "cell_type": "code",
   "execution_count": 215,
   "metadata": {},
   "outputs": [],
   "source": [
    "model.train(text, total_examples=model.corpus_count, epochs=model.epochs)"
   ]
  },
  {
   "cell_type": "code",
   "execution_count": 216,
   "metadata": {},
   "outputs": [],
   "source": [
    "ranks=[]\n",
    "second_ranks=[]\n",
    "inferred_vector = model.infer_vector(text[biden_index].words)\n",
    "sims = model.dv.most_similar([inferred_vector], topn=len(model.dv))\n",
    "rank = [docid for docid, sim in sims].index(biden_index)\n",
    "ranks.append(rank)\n",
    "\n",
    "second_ranks.append(sims[1])"
   ]
  },
  {
   "cell_type": "code",
   "execution_count": 217,
   "metadata": {},
   "outputs": [
    {
     "data": {
      "text/plain": [
       "[(6, 0.9980720281600952),\n",
       " (74, 0.5982862114906311),\n",
       " (68, 0.5097454786300659),\n",
       " (17, 0.4732208549976349),\n",
       " (15, 0.4730199873447418),\n",
       " (71, 0.4651886522769928),\n",
       " (96, 0.45944440364837646),\n",
       " (90, 0.4591034948825836),\n",
       " (58, 0.45534995198249817),\n",
       " (42, 0.43597540259361267),\n",
       " (33, 0.4340652525424957),\n",
       " (27, 0.4004562795162201),\n",
       " (20, 0.4002732038497925),\n",
       " (11, 0.3913393020629883),\n",
       " (34, 0.3821899890899658),\n",
       " (48, 0.37609317898750305),\n",
       " (45, 0.37391313910484314),\n",
       " (80, 0.36804211139678955),\n",
       " (12, 0.3647206127643585),\n",
       " (41, 0.3628920614719391),\n",
       " (93, 0.3581749200820923),\n",
       " (31, 0.34977468848228455),\n",
       " (61, 0.3490815758705139),\n",
       " (35, 0.3472757935523987),\n",
       " (1, 0.34714967012405396),\n",
       " (9, 0.34450188279151917),\n",
       " (38, 0.3418550491333008),\n",
       " (0, 0.33925896883010864),\n",
       " (66, 0.32945555448532104),\n",
       " (83, 0.31640690565109253),\n",
       " (81, 0.3118187487125397),\n",
       " (47, 0.30910566449165344),\n",
       " (4, 0.3058752417564392),\n",
       " (94, 0.3039426803588867),\n",
       " (13, 0.29458087682724),\n",
       " (26, 0.28929343819618225),\n",
       " (64, 0.28676456212997437),\n",
       " (3, 0.2826175391674042),\n",
       " (2, 0.2750694453716278),\n",
       " (55, 0.2706814110279083),\n",
       " (52, 0.267852246761322),\n",
       " (56, 0.26626482605934143),\n",
       " (95, 0.2626361548900604),\n",
       " (7, 0.25713592767715454),\n",
       " (37, 0.2556709349155426),\n",
       " (51, 0.2532721161842346),\n",
       " (49, 0.2531902492046356),\n",
       " (65, 0.24754220247268677),\n",
       " (78, 0.24170589447021484),\n",
       " (70, 0.23959475755691528),\n",
       " (63, 0.2345060110092163),\n",
       " (88, 0.23054058849811554),\n",
       " (60, 0.22344665229320526),\n",
       " (62, 0.2220579981803894),\n",
       " (73, 0.21044501662254333),\n",
       " (82, 0.2037297487258911),\n",
       " (77, 0.20328471064567566),\n",
       " (24, 0.20010824501514435),\n",
       " (97, 0.19880890846252441),\n",
       " (57, 0.19730383157730103),\n",
       " (87, 0.19412094354629517),\n",
       " (22, 0.19264677166938782),\n",
       " (40, 0.1915402114391327),\n",
       " (28, 0.18818935751914978),\n",
       " (46, 0.1849781572818756),\n",
       " (14, 0.17869818210601807),\n",
       " (91, 0.17313793301582336),\n",
       " (50, 0.17292357981204987),\n",
       " (29, 0.170064777135849),\n",
       " (23, 0.16476838290691376),\n",
       " (76, 0.16400772333145142),\n",
       " (5, 0.16116885840892792),\n",
       " (43, 0.1591390073299408),\n",
       " (67, 0.1467335820198059),\n",
       " (59, 0.14391453564167023),\n",
       " (89, 0.14037612080574036),\n",
       " (85, 0.1333530843257904),\n",
       " (92, 0.12999509274959564),\n",
       " (86, 0.1283286213874817),\n",
       " (39, 0.11885683983564377),\n",
       " (19, 0.11392143368721008),\n",
       " (44, 0.10572481900453568),\n",
       " (36, 0.10286352783441544),\n",
       " (25, 0.09785126894712448),\n",
       " (84, 0.06975135207176208),\n",
       " (53, 0.06401661038398743),\n",
       " (10, 0.050756219774484634),\n",
       " (54, 0.043904859572649),\n",
       " (30, 0.039641764014959335),\n",
       " (75, 0.03874707594513893),\n",
       " (32, 0.037623196840286255),\n",
       " (79, 0.035681113600730896),\n",
       " (18, 0.028935065492987633),\n",
       " (98, 0.027039747685194016),\n",
       " (69, -0.006235132925212383),\n",
       " (21, -0.007668742910027504),\n",
       " (72, -0.053483039140701294),\n",
       " (16, -0.053697340190410614),\n",
       " (8, -0.13391143083572388)]"
      ]
     },
     "execution_count": 217,
     "metadata": {},
     "output_type": "execute_result"
    }
   ],
   "source": [
    "sims"
   ]
  },
  {
   "cell_type": "code",
   "execution_count": 218,
   "metadata": {},
   "outputs": [
    {
     "data": {
      "text/plain": [
       "'moynihan'"
      ]
     },
     "execution_count": 218,
     "metadata": {},
     "output_type": "execute_result"
    }
   ],
   "source": [
    "df['speaker'][sims[1][0]]"
   ]
  },
  {
   "cell_type": "code",
   "execution_count": 219,
   "metadata": {},
   "outputs": [
    {
     "name": "stdout",
     "output_type": "stream",
     "text": [
      "Most similar speech belongs to Senator Moynihan\n"
     ]
    }
   ],
   "source": [
    "print(u'%s %s' %('Most similar speech belongs to Senator', df['speaker'][sims[1][0]].capitalize()))"
   ]
  },
  {
   "cell_type": "markdown",
   "metadata": {},
   "source": [
    "When we did the cosine similarity on the first part of the course, we got that the most similar speech is Senator Smith's speech. However, we get the different result when we tried word2vec. Also one should notice that the result is not reproducable. The reason is the randomization that word2vec uses on the core of the process, everytim we set up the model the similarities change. But if you run the code multiple times, you can see that the it is usually the same three-four senator that have the most similar speeches to Biden. \n"
   ]
  },
  {
   "cell_type": "markdown",
   "metadata": {},
   "source": [
    "### Challenge: What are the top ten words mentioned by Biden in the 105 congress (after stopwords removal)? For each most frequent word, find the 10 most simlar words generated using word2vec. Find the most frequent bigrams in the text. Explore some bigrams and figure out if the tokens appear in the list of most similar words."
   ]
  },
  {
   "cell_type": "code",
   "execution_count": 240,
   "metadata": {},
   "outputs": [],
   "source": [
    "biden=df.loc[df[\"speaker\"] == \"biden\", \"text_raw\"].item()"
   ]
  },
  {
   "cell_type": "code",
   "execution_count": 242,
   "metadata": {},
   "outputs": [],
   "source": [
    "biden_dict=Counter(biden)"
   ]
  },
  {
   "cell_type": "code",
   "execution_count": 247,
   "metadata": {},
   "outputs": [],
   "source": [
    "most_used= sorted(biden_dict.items(), key=lambda kv: kv[1], reverse=True)[1:11]"
   ]
  },
  {
   "cell_type": "code",
   "execution_count": 257,
   "metadata": {},
   "outputs": [
    {
     "data": {
      "text/plain": [
       "[('president', 1517),\n",
       " (\"'s\", 1345),\n",
       " ('senator', 1003),\n",
       " ('nato', 941),\n",
       " ('united', 653),\n",
       " ('time', 635),\n",
       " (\"n't\", 591),\n",
       " ('bill', 570),\n",
       " ('amendment', 480),\n",
       " ('senate', 476)]"
      ]
     },
     "execution_count": 257,
     "metadata": {},
     "output_type": "execute_result"
    }
   ],
   "source": [
    "most_used"
   ]
  },
  {
   "cell_type": "code",
   "execution_count": 260,
   "metadata": {},
   "outputs": [],
   "source": [
    "most_similar={}\n",
    "model = Word2Vec(sentences=most_used, vector_size=100, window=5, min_count=1, workers=4)\n"
   ]
  },
  {
   "cell_type": "code",
   "execution_count": 261,
   "metadata": {},
   "outputs": [
    {
     "data": {
      "text/plain": [
       "{'president': [('nato', 0.31900984048843384),\n",
       "  (591, 0.16207124292850494),\n",
       "  (1003, 0.11074147373437881),\n",
       "  ('time', 0.09731774032115936),\n",
       "  (941, 0.09673886746168137),\n",
       "  (653, 0.08635810762643814),\n",
       "  (476, 0.0024360644165426493),\n",
       "  ('bill', 0.0007033413276076317),\n",
       "  (480, 0.00048271374544128776),\n",
       "  (\"'s\", -0.0017842642264440656)],\n",
       " \"'s\": [(591, 0.17826788127422333),\n",
       "  ('senator', 0.13149337470531464),\n",
       "  (941, 0.07497557997703552),\n",
       "  ('senate', 0.06797593086957932),\n",
       "  (1003, 0.04157734662294388),\n",
       "  ('time', 0.04130810499191284),\n",
       "  ('amendment', 0.0411943756043911),\n",
       "  (653, 0.012979976832866669),\n",
       "  (\"n't\", 0.0065984539687633514),\n",
       "  ('president', -0.001784270629286766)],\n",
       " 'senator': [('time', 0.1669393926858902),\n",
       "  (1345, 0.1388825923204422),\n",
       "  (\"'s\", 0.13149335980415344),\n",
       "  ('amendment', 0.07171675562858582),\n",
       "  (1517, 0.06410215049982071),\n",
       "  (941, 0.06059248372912407),\n",
       "  (570, 0.04768548533320427),\n",
       "  (\"n't\", 0.04410775750875473),\n",
       "  (653, 0.020004643127322197),\n",
       "  (1003, 0.019237635657191277)],\n",
       " 'nato': [('president', 0.31900981068611145),\n",
       "  (570, 0.1747603714466095),\n",
       "  ('amendment', 0.11928387731313705),\n",
       "  ('time', 0.11117951571941376),\n",
       "  (653, 0.1088901162147522),\n",
       "  (591, 0.10560770332813263),\n",
       "  (476, 0.09291724115610123),\n",
       "  ('bill', 0.08058696985244751),\n",
       "  (480, 0.07913302630186081),\n",
       "  (1003, 0.004842496942728758)],\n",
       " 'united': [(476, 0.21617141366004944),\n",
       "  (941, 0.044689226895570755),\n",
       "  (480, 0.020197447389364243),\n",
       "  (653, 0.015025208704173565),\n",
       "  ('bill', 0.010695204138755798),\n",
       "  (570, 0.006408601067960262),\n",
       "  (1003, 0.0019510627025738358),\n",
       "  (1517, -0.03284316137433052),\n",
       "  ('president', -0.03795969486236572),\n",
       "  (591, -0.04552275687456131)],\n",
       " 'time': [(1517, 0.17272792756557465),\n",
       "  ('senator', 0.1669393926858902),\n",
       "  (480, 0.13264630734920502),\n",
       "  ('nato', 0.11117952316999435),\n",
       "  (653, 0.10941851139068604),\n",
       "  ('president', 0.09731774032115936),\n",
       "  (476, 0.079634889960289),\n",
       "  ('amendment', 0.05970083922147751),\n",
       "  (\"'s\", 0.04130807891488075),\n",
       "  (941, 0.037712957710027695)],\n",
       " \"n't\": [(1345, 0.25290459394454956),\n",
       "  (480, 0.14256367087364197),\n",
       "  ('senate', 0.13725271821022034),\n",
       "  ('amendment', 0.1166219636797905),\n",
       "  ('senator', 0.044107768684625626),\n",
       "  (591, 0.02700837142765522),\n",
       "  (1003, 0.012811627238988876),\n",
       "  (\"'s\", 0.006598459556698799),\n",
       "  (653, -0.0011978191323578358),\n",
       "  ('nato', -0.025461023673415184)],\n",
       " 'bill': [('senate', 0.12300864607095718),\n",
       "  ('nato', 0.08058694750070572),\n",
       "  (570, 0.06548558175563812),\n",
       "  (476, 0.054333679378032684),\n",
       "  (1345, 0.016065239906311035),\n",
       "  ('time', 0.013243239372968674),\n",
       "  ('united', 0.010695211589336395),\n",
       "  ('president', 0.0007033654837869108),\n",
       "  (635, -0.0037013643886893988),\n",
       "  (941, -0.014541255310177803)],\n",
       " 'amendment': [(591, 0.24666325747966766),\n",
       "  (480, 0.1193675547838211),\n",
       "  ('nato', 0.11928389966487885),\n",
       "  (\"n't\", 0.1166219711303711),\n",
       "  (653, 0.09614861011505127),\n",
       "  ('senate', 0.08546063303947449),\n",
       "  ('senator', 0.07171675562858582),\n",
       "  ('time', 0.059700846672058105),\n",
       "  (\"'s\", 0.04119439423084259),\n",
       "  (941, 0.012430463917553425)],\n",
       " 'senate': [(591, 0.16072483360767365),\n",
       "  (480, 0.15923379361629486),\n",
       "  (\"n't\", 0.13725273311138153),\n",
       "  ('bill', 0.12300863116979599),\n",
       "  ('amendment', 0.0854606181383133),\n",
       "  (\"'s\", 0.06797593832015991),\n",
       "  (941, 0.03364057466387749),\n",
       "  (570, 0.022314248606562614),\n",
       "  ('senator', 0.009381410665810108),\n",
       "  ('time', 0.008315935730934143)]}"
      ]
     },
     "execution_count": 261,
     "metadata": {},
     "output_type": "execute_result"
    }
   ],
   "source": [
    "for i in most_used:\n",
    "    vector = model.wv[i]\n",
    "    most_similar[i[0]]=model.wv.most_similar(i[0], topn=10)\n",
    " "
   ]
  },
  {
   "cell_type": "markdown",
   "metadata": {},
   "source": [
    "I stored the most similar words to a dictionary, where the keys are the most used words and items are the list of 10 most similar words"
   ]
  },
  {
   "cell_type": "code",
   "execution_count": 264,
   "metadata": {},
   "outputs": [
    {
     "data": {
      "text/plain": [
       "list"
      ]
     },
     "execution_count": 264,
     "metadata": {},
     "output_type": "execute_result"
    }
   ],
   "source": [
    "type(biden)"
   ]
  },
  {
   "cell_type": "code",
   "execution_count": 278,
   "metadata": {},
   "outputs": [
    {
     "data": {
      "text/plain": [
       "[(('united', 'nations'), 161),\n",
       " (('foreign', 'policy'), 160),\n",
       " (('chemical', 'weapons'), 155),\n",
       " (('nato', 'enlargement'), 111),\n",
       " (('foreign', 'relations'), 110),\n",
       " (('yield', 'floor'), 96),\n",
       " (('president', \"'s\"), 92),\n",
       " (('relations', 'committee'), 87),\n",
       " (('nuclear', 'weapons'), 86),\n",
       " (('north', 'carolina'), 80)]"
      ]
     },
     "execution_count": 278,
     "metadata": {},
     "output_type": "execute_result"
    }
   ],
   "source": [
    "bigrams = zip(biden, biden[1:])\n",
    "counts = Counter(bigrams)\n",
    "most_common=counts.most_common\n",
    "most_common(10)"
   ]
  },
  {
   "cell_type": "markdown",
   "metadata": {},
   "source": [
    "Some of the tokens that appear in the most common bigrams appear in most similar words as well. For example, `Nato`, `president`, `united` etc. But they are not that common."
   ]
  },
  {
   "cell_type": "markdown",
   "metadata": {},
   "source": []
  }
 ],
 "metadata": {
  "interpreter": {
   "hash": "9efce205f64ad363cd9f14615485aca38ee4ef0915866e318aa83c8d0c93f6fc"
  },
  "kernelspec": {
   "display_name": "Python 3.10.4 64-bit",
   "language": "python",
   "name": "python3"
  },
  "language_info": {
   "codemirror_mode": {
    "name": "ipython",
    "version": 3
   },
   "file_extension": ".py",
   "mimetype": "text/x-python",
   "name": "python",
   "nbconvert_exporter": "python",
   "pygments_lexer": "ipython3",
   "version": "3.10.4"
  },
  "orig_nbformat": 4
 },
 "nbformat": 4,
 "nbformat_minor": 2
}
