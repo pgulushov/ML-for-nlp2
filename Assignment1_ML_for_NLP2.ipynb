{
 "cells": [
  {
   "cell_type": "markdown",
   "id": "6744ace8",
   "metadata": {},
   "source": [
    "# ML for NLP2: Deep Learning\n",
    "## Assignment 1\n"
   ]
  },
  {
   "cell_type": "code",
   "execution_count": 1,
   "id": "f0af54fc",
   "metadata": {
    "id": "f0af54fc"
   },
   "outputs": [
    {
     "name": "stderr",
     "output_type": "stream",
     "text": [
      "[nltk_data] Downloading collection 'popular'\n",
      "[nltk_data]    | \n",
      "[nltk_data]    | Downloading package cmudict to\n",
      "[nltk_data]    |     C:\\Users\\molda\\AppData\\Roaming\\nltk_data...\n",
      "[nltk_data]    |   Package cmudict is already up-to-date!\n",
      "[nltk_data]    | Downloading package gazetteers to\n",
      "[nltk_data]    |     C:\\Users\\molda\\AppData\\Roaming\\nltk_data...\n",
      "[nltk_data]    |   Package gazetteers is already up-to-date!\n",
      "[nltk_data]    | Downloading package genesis to\n",
      "[nltk_data]    |     C:\\Users\\molda\\AppData\\Roaming\\nltk_data...\n",
      "[nltk_data]    |   Package genesis is already up-to-date!\n",
      "[nltk_data]    | Downloading package gutenberg to\n",
      "[nltk_data]    |     C:\\Users\\molda\\AppData\\Roaming\\nltk_data...\n",
      "[nltk_data]    |   Package gutenberg is already up-to-date!\n",
      "[nltk_data]    | Downloading package inaugural to\n",
      "[nltk_data]    |     C:\\Users\\molda\\AppData\\Roaming\\nltk_data...\n",
      "[nltk_data]    |   Package inaugural is already up-to-date!\n",
      "[nltk_data]    | Downloading package movie_reviews to\n",
      "[nltk_data]    |     C:\\Users\\molda\\AppData\\Roaming\\nltk_data...\n",
      "[nltk_data]    |   Package movie_reviews is already up-to-date!\n",
      "[nltk_data]    | Downloading package names to\n",
      "[nltk_data]    |     C:\\Users\\molda\\AppData\\Roaming\\nltk_data...\n",
      "[nltk_data]    |   Package names is already up-to-date!\n",
      "[nltk_data]    | Downloading package shakespeare to\n",
      "[nltk_data]    |     C:\\Users\\molda\\AppData\\Roaming\\nltk_data...\n",
      "[nltk_data]    |   Package shakespeare is already up-to-date!\n",
      "[nltk_data]    | Downloading package stopwords to\n",
      "[nltk_data]    |     C:\\Users\\molda\\AppData\\Roaming\\nltk_data...\n",
      "[nltk_data]    |   Package stopwords is already up-to-date!\n",
      "[nltk_data]    | Downloading package treebank to\n",
      "[nltk_data]    |     C:\\Users\\molda\\AppData\\Roaming\\nltk_data...\n",
      "[nltk_data]    |   Package treebank is already up-to-date!\n",
      "[nltk_data]    | Downloading package twitter_samples to\n",
      "[nltk_data]    |     C:\\Users\\molda\\AppData\\Roaming\\nltk_data...\n",
      "[nltk_data]    |   Package twitter_samples is already up-to-date!\n",
      "[nltk_data]    | Downloading package omw to\n",
      "[nltk_data]    |     C:\\Users\\molda\\AppData\\Roaming\\nltk_data...\n",
      "[nltk_data]    |   Package omw is already up-to-date!\n",
      "[nltk_data]    | Downloading package omw-1.4 to\n",
      "[nltk_data]    |     C:\\Users\\molda\\AppData\\Roaming\\nltk_data...\n",
      "[nltk_data]    |   Package omw-1.4 is already up-to-date!\n",
      "[nltk_data]    | Downloading package wordnet to\n",
      "[nltk_data]    |     C:\\Users\\molda\\AppData\\Roaming\\nltk_data...\n",
      "[nltk_data]    |   Package wordnet is already up-to-date!\n",
      "[nltk_data]    | Downloading package wordnet2021 to\n",
      "[nltk_data]    |     C:\\Users\\molda\\AppData\\Roaming\\nltk_data...\n",
      "[nltk_data]    |   Package wordnet2021 is already up-to-date!\n",
      "[nltk_data]    | Downloading package wordnet31 to\n",
      "[nltk_data]    |     C:\\Users\\molda\\AppData\\Roaming\\nltk_data...\n",
      "[nltk_data]    |   Package wordnet31 is already up-to-date!\n",
      "[nltk_data]    | Downloading package wordnet_ic to\n",
      "[nltk_data]    |     C:\\Users\\molda\\AppData\\Roaming\\nltk_data...\n",
      "[nltk_data]    |   Package wordnet_ic is already up-to-date!\n",
      "[nltk_data]    | Downloading package words to\n",
      "[nltk_data]    |     C:\\Users\\molda\\AppData\\Roaming\\nltk_data...\n",
      "[nltk_data]    |   Package words is already up-to-date!\n",
      "[nltk_data]    | Downloading package maxent_ne_chunker to\n",
      "[nltk_data]    |     C:\\Users\\molda\\AppData\\Roaming\\nltk_data...\n",
      "[nltk_data]    |   Package maxent_ne_chunker is already up-to-date!\n",
      "[nltk_data]    | Downloading package punkt to\n",
      "[nltk_data]    |     C:\\Users\\molda\\AppData\\Roaming\\nltk_data...\n",
      "[nltk_data]    |   Package punkt is already up-to-date!\n",
      "[nltk_data]    | Downloading package snowball_data to\n",
      "[nltk_data]    |     C:\\Users\\molda\\AppData\\Roaming\\nltk_data...\n",
      "[nltk_data]    |   Package snowball_data is already up-to-date!\n",
      "[nltk_data]    | Downloading package averaged_perceptron_tagger to\n",
      "[nltk_data]    |     C:\\Users\\molda\\AppData\\Roaming\\nltk_data...\n",
      "[nltk_data]    |   Package averaged_perceptron_tagger is already up-\n",
      "[nltk_data]    |       to-date!\n",
      "[nltk_data]    | \n",
      "[nltk_data]  Done downloading collection popular\n"
     ]
    }
   ],
   "source": [
    "import os\n",
    "import pandas as pd\n",
    "import string\n",
    "import numpy as np\n",
    "import matplotlib.pyplot as plt\n",
    "from sklearn.feature_extraction.text import TfidfVectorizer\n",
    "from nltk.corpus import stopwords\n",
    "from nltk.stem import LancasterStemmer\n",
    "from nltk.tokenize import word_tokenize\n",
    "import warnings\n",
    "import nltk\n",
    "nltk.download(\"popular\")\n",
    "import spacy\n",
    "from sklearn.model_selection import train_test_split, GridSearchCV\n",
    "from sklearn.linear_model import LinearRegression, Ridge, Lasso, LogisticRegression\n",
    "\n",
    "from tqdm.notebook import tqdm\n",
    "\n",
    "warnings.filterwarnings(\"ignore\")\n",
    "tqdm.pandas()"
   ]
  },
  {
   "cell_type": "code",
   "execution_count": 2,
   "id": "6baf4630",
   "metadata": {},
   "outputs": [
    {
     "name": "stdout",
     "output_type": "stream",
     "text": [
      "Collecting git+https://github.com/laxmimerit/preprocess_kgptalkie.git\n",
      "  Cloning https://github.com/laxmimerit/preprocess_kgptalkie.git to c:\\users\\molda\\appdata\\local\\temp\\pip-req-build-wf_fjx13\n"
     ]
    },
    {
     "name": "stderr",
     "output_type": "stream",
     "text": [
      "WARNING: Ignoring invalid distribution -ip (d:\\anaconda\\lib\\site-packages)\n",
      "WARNING: Ignoring invalid distribution -atplotlib (d:\\anaconda\\lib\\site-packages)\n",
      "WARNING: Ignoring invalid distribution -ip (d:\\anaconda\\lib\\site-packages)\n",
      "WARNING: Ignoring invalid distribution -atplotlib (d:\\anaconda\\lib\\site-packages)\n",
      "  ERROR: Error [WinError 2] The system cannot find the file specified while executing command git version\n",
      "ERROR: Cannot find command 'git' - do you have 'git' installed and in your PATH?\n",
      "WARNING: Ignoring invalid distribution -ip (d:\\anaconda\\lib\\site-packages)\n",
      "WARNING: Ignoring invalid distribution -atplotlib (d:\\anaconda\\lib\\site-packages)\n",
      "WARNING: Ignoring invalid distribution -ip (d:\\anaconda\\lib\\site-packages)\n",
      "WARNING: Ignoring invalid distribution -atplotlib (d:\\anaconda\\lib\\site-packages)\n"
     ]
    }
   ],
   "source": [
    "#Install library for preprocessing\n",
    "!pip install git+https://github.com/laxmimerit/preprocess_kgptalkie.git"
   ]
  },
  {
   "cell_type": "code",
   "execution_count": 3,
   "id": "d9102ff4",
   "metadata": {
    "id": "d9102ff4",
    "outputId": "6c230d30-eb48-4ed5-9402-ba91cc1158ec"
   },
   "outputs": [
    {
     "data": {
      "text/plain": [
       "'C:\\\\Users\\\\molda\\\\Downloads'"
      ]
     },
     "execution_count": 3,
     "metadata": {},
     "output_type": "execute_result"
    }
   ],
   "source": [
    "import os \n",
    "os.getcwd()\n"
   ]
  },
  {
   "cell_type": "code",
   "execution_count": 4,
   "id": "d5cab2ad",
   "metadata": {
    "id": "d5cab2ad"
   },
   "outputs": [],
   "source": [
    "#Import datasets\n",
    "fox_news = pd.read_csv('ML-for-NLP-main/Inputs/FoxNews_all_tweets.csv', delimiter=',') \n",
    "ny_times = pd.read_csv('ML-for-NLP-main/Inputs/nytimes_all_tweets.csv', delimiter=',') "
   ]
  },
  {
   "cell_type": "code",
   "execution_count": 5,
   "id": "jmhOHjF12TzQ",
   "metadata": {
    "id": "jmhOHjF12TzQ"
   },
   "outputs": [],
   "source": [
    "#if in colab\n",
    "#fox_news = pd.read_csv('FoxNews_all_tweets.csv', delimiter=',') \n",
    "#ny_times = pd.read_csv('nytimes_all_tweets.csv', delimiter=',') "
   ]
  },
  {
   "cell_type": "code",
   "execution_count": 6,
   "id": "4724c1e7",
   "metadata": {
    "colab": {
     "base_uri": "https://localhost:8080/"
    },
    "id": "4724c1e7",
    "outputId": "bc643ce5-62cf-488d-c50f-c4e537abe9b7"
   },
   "outputs": [
    {
     "data": {
      "text/plain": [
       "(1329, 14)"
      ]
     },
     "execution_count": 6,
     "metadata": {},
     "output_type": "execute_result"
    }
   ],
   "source": [
    "fox_news.shape"
   ]
  },
  {
   "cell_type": "code",
   "execution_count": 7,
   "id": "df0dfdd9",
   "metadata": {
    "colab": {
     "base_uri": "https://localhost:8080/"
    },
    "id": "df0dfdd9",
    "outputId": "445a94dd-c8bb-46f6-914e-4dcabc5c38a0"
   },
   "outputs": [
    {
     "data": {
      "text/plain": [
       "(623, 14)"
      ]
     },
     "execution_count": 7,
     "metadata": {},
     "output_type": "execute_result"
    }
   ],
   "source": [
    "ny_times.shape"
   ]
  },
  {
   "cell_type": "code",
   "execution_count": 8,
   "id": "4cafb1a9",
   "metadata": {
    "colab": {
     "base_uri": "https://localhost:8080/"
    },
    "id": "4cafb1a9",
    "outputId": "5d44dcca-bede-4ead-cf4c-40a1abca044f"
   },
   "outputs": [
    {
     "data": {
      "text/plain": [
       "(1952, 14)"
      ]
     },
     "execution_count": 8,
     "metadata": {},
     "output_type": "execute_result"
    }
   ],
   "source": [
    "tweets=fox_news.append(ny_times)\n",
    "tweets=tweets.reset_index(drop=True)\n",
    "tweets.shape"
   ]
  },
  {
   "cell_type": "code",
   "execution_count": 9,
   "id": "0a246c5a",
   "metadata": {
    "colab": {
     "base_uri": "https://localhost:8080/",
     "height": 389
    },
    "id": "0a246c5a",
    "outputId": "3e43832b-e761-4d17-b7ba-12a1876cbd5d"
   },
   "outputs": [
    {
     "data": {
      "text/html": [
       "<div>\n",
       "<style scoped>\n",
       "    .dataframe tbody tr th:only-of-type {\n",
       "        vertical-align: middle;\n",
       "    }\n",
       "\n",
       "    .dataframe tbody tr th {\n",
       "        vertical-align: top;\n",
       "    }\n",
       "\n",
       "    .dataframe thead th {\n",
       "        text-align: right;\n",
       "    }\n",
       "</style>\n",
       "<table border=\"1\" class=\"dataframe\">\n",
       "  <thead>\n",
       "    <tr style=\"text-align: right;\">\n",
       "      <th></th>\n",
       "      <th>author_id</th>\n",
       "      <th>username</th>\n",
       "      <th>author_followers</th>\n",
       "      <th>author_tweets</th>\n",
       "      <th>author_description</th>\n",
       "      <th>author_location</th>\n",
       "      <th>text</th>\n",
       "      <th>created_at</th>\n",
       "      <th>retweets</th>\n",
       "      <th>replies</th>\n",
       "      <th>likes</th>\n",
       "      <th>quote_count</th>\n",
       "      <th>tweet_id</th>\n",
       "      <th>reference_status</th>\n",
       "    </tr>\n",
       "  </thead>\n",
       "  <tbody>\n",
       "    <tr>\n",
       "      <th>0</th>\n",
       "      <td>1367531</td>\n",
       "      <td>FoxNews</td>\n",
       "      <td>20946694</td>\n",
       "      <td>456439</td>\n",
       "      <td>NaN</td>\n",
       "      <td>NaN</td>\n",
       "      <td>FLASHBACK: Ex-intel officials claimed the Hunt...</td>\n",
       "      <td>2022-03-18 15:50:00+00:00</td>\n",
       "      <td>26</td>\n",
       "      <td>39</td>\n",
       "      <td>68</td>\n",
       "      <td>0</td>\n",
       "      <td>1504847596006821894</td>\n",
       "      <td>NaN</td>\n",
       "    </tr>\n",
       "    <tr>\n",
       "      <th>1</th>\n",
       "      <td>1367531</td>\n",
       "      <td>FoxNews</td>\n",
       "      <td>20946694</td>\n",
       "      <td>456439</td>\n",
       "      <td>NaN</td>\n",
       "      <td>NaN</td>\n",
       "      <td>Biden must do more to counter Putin's propagan...</td>\n",
       "      <td>2022-03-18 15:45:00+00:00</td>\n",
       "      <td>23</td>\n",
       "      <td>94</td>\n",
       "      <td>92</td>\n",
       "      <td>7</td>\n",
       "      <td>1504846338097221635</td>\n",
       "      <td>NaN</td>\n",
       "    </tr>\n",
       "    <tr>\n",
       "      <th>2</th>\n",
       "      <td>1367531</td>\n",
       "      <td>FoxNews</td>\n",
       "      <td>20946694</td>\n",
       "      <td>456439</td>\n",
       "      <td>NaN</td>\n",
       "      <td>NaN</td>\n",
       "      <td>NASCAR: What to expect from Atlanta's super ne...</td>\n",
       "      <td>2022-03-18 15:40:00+00:00</td>\n",
       "      <td>10</td>\n",
       "      <td>9</td>\n",
       "      <td>21</td>\n",
       "      <td>0</td>\n",
       "      <td>1504845079344820224</td>\n",
       "      <td>NaN</td>\n",
       "    </tr>\n",
       "    <tr>\n",
       "      <th>3</th>\n",
       "      <td>1367531</td>\n",
       "      <td>FoxNews</td>\n",
       "      <td>20946694</td>\n",
       "      <td>456439</td>\n",
       "      <td>NaN</td>\n",
       "      <td>NaN</td>\n",
       "      <td>BREAKING: Biden, Xi discuss Russia's war again...</td>\n",
       "      <td>2022-03-18 15:34:43+00:00</td>\n",
       "      <td>33</td>\n",
       "      <td>71</td>\n",
       "      <td>87</td>\n",
       "      <td>3</td>\n",
       "      <td>1504843752426323990</td>\n",
       "      <td>NaN</td>\n",
       "    </tr>\n",
       "    <tr>\n",
       "      <th>4</th>\n",
       "      <td>1367531</td>\n",
       "      <td>FoxNews</td>\n",
       "      <td>20946694</td>\n",
       "      <td>456439</td>\n",
       "      <td>NaN</td>\n",
       "      <td>NaN</td>\n",
       "      <td>Transgender swimmer's NCAA championship win 'j...</td>\n",
       "      <td>2022-03-18 15:30:00+00:00</td>\n",
       "      <td>51</td>\n",
       "      <td>69</td>\n",
       "      <td>254</td>\n",
       "      <td>4</td>\n",
       "      <td>1504842564117024770</td>\n",
       "      <td>NaN</td>\n",
       "    </tr>\n",
       "  </tbody>\n",
       "</table>\n",
       "</div>"
      ],
      "text/plain": [
       "   author_id username  author_followers  author_tweets  author_description  \\\n",
       "0    1367531  FoxNews          20946694         456439                 NaN   \n",
       "1    1367531  FoxNews          20946694         456439                 NaN   \n",
       "2    1367531  FoxNews          20946694         456439                 NaN   \n",
       "3    1367531  FoxNews          20946694         456439                 NaN   \n",
       "4    1367531  FoxNews          20946694         456439                 NaN   \n",
       "\n",
       "   author_location                                               text  \\\n",
       "0              NaN  FLASHBACK: Ex-intel officials claimed the Hunt...   \n",
       "1              NaN  Biden must do more to counter Putin's propagan...   \n",
       "2              NaN  NASCAR: What to expect from Atlanta's super ne...   \n",
       "3              NaN  BREAKING: Biden, Xi discuss Russia's war again...   \n",
       "4              NaN  Transgender swimmer's NCAA championship win 'j...   \n",
       "\n",
       "                  created_at  retweets  replies  likes  quote_count  \\\n",
       "0  2022-03-18 15:50:00+00:00        26       39     68            0   \n",
       "1  2022-03-18 15:45:00+00:00        23       94     92            7   \n",
       "2  2022-03-18 15:40:00+00:00        10        9     21            0   \n",
       "3  2022-03-18 15:34:43+00:00        33       71     87            3   \n",
       "4  2022-03-18 15:30:00+00:00        51       69    254            4   \n",
       "\n",
       "              tweet_id  reference_status  \n",
       "0  1504847596006821894               NaN  \n",
       "1  1504846338097221635               NaN  \n",
       "2  1504845079344820224               NaN  \n",
       "3  1504843752426323990               NaN  \n",
       "4  1504842564117024770               NaN  "
      ]
     },
     "execution_count": 9,
     "metadata": {},
     "output_type": "execute_result"
    }
   ],
   "source": [
    "tweets.head()"
   ]
  },
  {
   "cell_type": "code",
   "execution_count": 10,
   "id": "e47bf551",
   "metadata": {
    "colab": {
     "base_uri": "https://localhost:8080/"
    },
    "id": "e47bf551",
    "outputId": "bb0d4082-d4e9-435d-90d2-f8ecf0f11c34"
   },
   "outputs": [
    {
     "data": {
      "text/plain": [
       "array([20946694, 20946696, 20946697, 52297192, 52297191, 52297187,\n",
       "       52297193, 52297188], dtype=int64)"
      ]
     },
     "execution_count": 10,
     "metadata": {},
     "output_type": "execute_result"
    }
   ],
   "source": [
    "tweets[\"author_followers\"].unique()"
   ]
  },
  {
   "cell_type": "code",
   "execution_count": 11,
   "id": "bceab64c",
   "metadata": {
    "id": "bceab64c"
   },
   "outputs": [],
   "source": [
    "tweets[\"NYT\"]=tweets[\"username\"]==\"nytimes\""
   ]
  },
  {
   "cell_type": "code",
   "execution_count": 12,
   "id": "df7fea6c",
   "metadata": {
    "id": "df7fea6c"
   },
   "outputs": [],
   "source": [
    "tweets[\"mentions\"]=tweets[\"text\"].str.contains(\"@\") #create dummy for @ mentions"
   ]
  },
  {
   "cell_type": "code",
   "execution_count": 13,
   "id": "1b64ace2",
   "metadata": {},
   "outputs": [
    {
     "data": {
      "text/plain": [
       "False    1851\n",
       "True      101\n",
       "Name: mentions, dtype: int64"
      ]
     },
     "execution_count": 13,
     "metadata": {},
     "output_type": "execute_result"
    }
   ],
   "source": [
    "tweets[\"mentions\"].value_counts() #look how many columns contain it"
   ]
  },
  {
   "cell_type": "code",
   "execution_count": 14,
   "id": "2fc39495",
   "metadata": {
    "id": "2fc39495"
   },
   "outputs": [],
   "source": [
    "tweets[\"breaking\"]=tweets[\"text\"].str.contains(\"Breaking News|BREAKING:\", case=False)"
   ]
  },
  {
   "cell_type": "code",
   "execution_count": 15,
   "id": "6a19cee5",
   "metadata": {
    "colab": {
     "base_uri": "https://localhost:8080/",
     "height": 1000
    },
    "id": "6a19cee5",
    "outputId": "45ab8da0-b29b-4c01-d484-18d9cb5f7f04"
   },
   "outputs": [
    {
     "data": {
      "text/html": [
       "<div>\n",
       "<style scoped>\n",
       "    .dataframe tbody tr th:only-of-type {\n",
       "        vertical-align: middle;\n",
       "    }\n",
       "\n",
       "    .dataframe tbody tr th {\n",
       "        vertical-align: top;\n",
       "    }\n",
       "\n",
       "    .dataframe thead th {\n",
       "        text-align: right;\n",
       "    }\n",
       "</style>\n",
       "<table border=\"1\" class=\"dataframe\">\n",
       "  <thead>\n",
       "    <tr style=\"text-align: right;\">\n",
       "      <th></th>\n",
       "      <th>author_id</th>\n",
       "      <th>username</th>\n",
       "      <th>author_followers</th>\n",
       "      <th>author_tweets</th>\n",
       "      <th>author_description</th>\n",
       "      <th>author_location</th>\n",
       "      <th>text</th>\n",
       "      <th>created_at</th>\n",
       "      <th>retweets</th>\n",
       "      <th>replies</th>\n",
       "      <th>likes</th>\n",
       "      <th>quote_count</th>\n",
       "      <th>tweet_id</th>\n",
       "      <th>reference_status</th>\n",
       "      <th>NYT</th>\n",
       "      <th>mentions</th>\n",
       "      <th>breaking</th>\n",
       "    </tr>\n",
       "  </thead>\n",
       "  <tbody>\n",
       "    <tr>\n",
       "      <th>3</th>\n",
       "      <td>1367531</td>\n",
       "      <td>FoxNews</td>\n",
       "      <td>20946694</td>\n",
       "      <td>456439</td>\n",
       "      <td>NaN</td>\n",
       "      <td>NaN</td>\n",
       "      <td>BREAKING: Biden, Xi discuss Russia's war again...</td>\n",
       "      <td>2022-03-18 15:34:43+00:00</td>\n",
       "      <td>33</td>\n",
       "      <td>71</td>\n",
       "      <td>87</td>\n",
       "      <td>3</td>\n",
       "      <td>1504843752426323990</td>\n",
       "      <td>NaN</td>\n",
       "      <td>False</td>\n",
       "      <td>False</td>\n",
       "      <td>True</td>\n",
       "    </tr>\n",
       "    <tr>\n",
       "      <th>321</th>\n",
       "      <td>1367531</td>\n",
       "      <td>FoxNews</td>\n",
       "      <td>20946694</td>\n",
       "      <td>456439</td>\n",
       "      <td>NaN</td>\n",
       "      <td>NaN</td>\n",
       "      <td>BREAKING: Judge orders Jussie Smollett be rele...</td>\n",
       "      <td>2022-03-16 22:54:50+00:00</td>\n",
       "      <td>170</td>\n",
       "      <td>1110</td>\n",
       "      <td>394</td>\n",
       "      <td>162</td>\n",
       "      <td>1504229732266692608</td>\n",
       "      <td>NaN</td>\n",
       "      <td>False</td>\n",
       "      <td>False</td>\n",
       "      <td>True</td>\n",
       "    </tr>\n",
       "    <tr>\n",
       "      <th>372</th>\n",
       "      <td>1367531</td>\n",
       "      <td>FoxNews</td>\n",
       "      <td>20946694</td>\n",
       "      <td>456439</td>\n",
       "      <td>NaN</td>\n",
       "      <td>NaN</td>\n",
       "      <td>BREAKING: President Biden calls Putin a 'war c...</td>\n",
       "      <td>2022-03-16 19:25:22+00:00</td>\n",
       "      <td>101</td>\n",
       "      <td>294</td>\n",
       "      <td>355</td>\n",
       "      <td>32</td>\n",
       "      <td>1504177021940809731</td>\n",
       "      <td>NaN</td>\n",
       "      <td>False</td>\n",
       "      <td>False</td>\n",
       "      <td>True</td>\n",
       "    </tr>\n",
       "    <tr>\n",
       "      <th>511</th>\n",
       "      <td>1367531</td>\n",
       "      <td>FoxNews</td>\n",
       "      <td>20946696</td>\n",
       "      <td>456439</td>\n",
       "      <td>NaN</td>\n",
       "      <td>NaN</td>\n",
       "      <td>BREAKING: Second gentleman Doug Emhoff tests p...</td>\n",
       "      <td>2022-03-15 22:41:27+00:00</td>\n",
       "      <td>29</td>\n",
       "      <td>98</td>\n",
       "      <td>97</td>\n",
       "      <td>7</td>\n",
       "      <td>1503863978551914497</td>\n",
       "      <td>NaN</td>\n",
       "      <td>False</td>\n",
       "      <td>False</td>\n",
       "      <td>True</td>\n",
       "    </tr>\n",
       "    <tr>\n",
       "      <th>559</th>\n",
       "      <td>1367531</td>\n",
       "      <td>FoxNews</td>\n",
       "      <td>20946696</td>\n",
       "      <td>456439</td>\n",
       "      <td>NaN</td>\n",
       "      <td>NaN</td>\n",
       "      <td>BREAKING: Biden Fed nominee Sarah Bloom Raskin...</td>\n",
       "      <td>2022-03-15 19:26:11+00:00</td>\n",
       "      <td>52</td>\n",
       "      <td>46</td>\n",
       "      <td>336</td>\n",
       "      <td>15</td>\n",
       "      <td>1503814839562604550</td>\n",
       "      <td>NaN</td>\n",
       "      <td>False</td>\n",
       "      <td>False</td>\n",
       "      <td>True</td>\n",
       "    </tr>\n",
       "    <tr>\n",
       "      <th>893</th>\n",
       "      <td>1367531</td>\n",
       "      <td>FoxNews</td>\n",
       "      <td>20946696</td>\n",
       "      <td>456439</td>\n",
       "      <td>NaN</td>\n",
       "      <td>NaN</td>\n",
       "      <td>BREAKING: Tom Brady coming back to play for Ta...</td>\n",
       "      <td>2022-03-13 23:40:43+00:00</td>\n",
       "      <td>106</td>\n",
       "      <td>116</td>\n",
       "      <td>639</td>\n",
       "      <td>35</td>\n",
       "      <td>1503154116226260992</td>\n",
       "      <td>NaN</td>\n",
       "      <td>False</td>\n",
       "      <td>False</td>\n",
       "      <td>True</td>\n",
       "    </tr>\n",
       "    <tr>\n",
       "      <th>917</th>\n",
       "      <td>1367531</td>\n",
       "      <td>FoxNews</td>\n",
       "      <td>20946696</td>\n",
       "      <td>456439</td>\n",
       "      <td>NaN</td>\n",
       "      <td>NaN</td>\n",
       "      <td>BREAKING NEWS: The former president revealed h...</td>\n",
       "      <td>2022-03-13 20:02:20+00:00</td>\n",
       "      <td>439</td>\n",
       "      <td>1987</td>\n",
       "      <td>2615</td>\n",
       "      <td>161</td>\n",
       "      <td>1503099157967511564</td>\n",
       "      <td>NaN</td>\n",
       "      <td>False</td>\n",
       "      <td>False</td>\n",
       "      <td>True</td>\n",
       "    </tr>\n",
       "    <tr>\n",
       "      <th>920</th>\n",
       "      <td>1367531</td>\n",
       "      <td>FoxNews</td>\n",
       "      <td>20946696</td>\n",
       "      <td>456439</td>\n",
       "      <td>NaN</td>\n",
       "      <td>NaN</td>\n",
       "      <td>BREAKING: Barack Obama tests positive for COVI...</td>\n",
       "      <td>2022-03-13 19:45:33+00:00</td>\n",
       "      <td>303</td>\n",
       "      <td>1289</td>\n",
       "      <td>1486</td>\n",
       "      <td>175</td>\n",
       "      <td>1503094937730101249</td>\n",
       "      <td>NaN</td>\n",
       "      <td>False</td>\n",
       "      <td>False</td>\n",
       "      <td>True</td>\n",
       "    </tr>\n",
       "    <tr>\n",
       "      <th>1381</th>\n",
       "      <td>807095</td>\n",
       "      <td>nytimes</td>\n",
       "      <td>52297192</td>\n",
       "      <td>466267</td>\n",
       "      <td>NaN</td>\n",
       "      <td>NaN</td>\n",
       "      <td>Breaking News: No. 2-seeded Kentucky lost in o...</td>\n",
       "      <td>2022-03-18 02:11:09+00:00</td>\n",
       "      <td>132</td>\n",
       "      <td>66</td>\n",
       "      <td>938</td>\n",
       "      <td>85</td>\n",
       "      <td>1504641526642712580</td>\n",
       "      <td>NaN</td>\n",
       "      <td>True</td>\n",
       "      <td>False</td>\n",
       "      <td>True</td>\n",
       "    </tr>\n",
       "    <tr>\n",
       "      <th>1387</th>\n",
       "      <td>807095</td>\n",
       "      <td>nytimes</td>\n",
       "      <td>52297192</td>\n",
       "      <td>466267</td>\n",
       "      <td>NaN</td>\n",
       "      <td>NaN</td>\n",
       "      <td>Breaking News: Moderna asked the FDA to author...</td>\n",
       "      <td>2022-03-18 00:50:10+00:00</td>\n",
       "      <td>325</td>\n",
       "      <td>84</td>\n",
       "      <td>998</td>\n",
       "      <td>82</td>\n",
       "      <td>1504621144707678213</td>\n",
       "      <td>NaN</td>\n",
       "      <td>True</td>\n",
       "      <td>False</td>\n",
       "      <td>True</td>\n",
       "    </tr>\n",
       "    <tr>\n",
       "      <th>1395</th>\n",
       "      <td>807095</td>\n",
       "      <td>nytimes</td>\n",
       "      <td>52297192</td>\n",
       "      <td>466267</td>\n",
       "      <td>NaN</td>\n",
       "      <td>NaN</td>\n",
       "      <td>Breaking News: A 13-year-old boy was behind th...</td>\n",
       "      <td>2022-03-17 22:40:10+00:00</td>\n",
       "      <td>232</td>\n",
       "      <td>98</td>\n",
       "      <td>647</td>\n",
       "      <td>63</td>\n",
       "      <td>1504588429597855750</td>\n",
       "      <td>NaN</td>\n",
       "      <td>True</td>\n",
       "      <td>False</td>\n",
       "      <td>True</td>\n",
       "    </tr>\n",
       "    <tr>\n",
       "      <th>1418</th>\n",
       "      <td>807095</td>\n",
       "      <td>nytimes</td>\n",
       "      <td>52297192</td>\n",
       "      <td>466267</td>\n",
       "      <td>NaN</td>\n",
       "      <td>NaN</td>\n",
       "      <td>Breaking News: Peru’s top court reinstated the...</td>\n",
       "      <td>2022-03-17 19:43:28+00:00</td>\n",
       "      <td>89</td>\n",
       "      <td>29</td>\n",
       "      <td>197</td>\n",
       "      <td>27</td>\n",
       "      <td>1504543964052930572</td>\n",
       "      <td>NaN</td>\n",
       "      <td>True</td>\n",
       "      <td>False</td>\n",
       "      <td>True</td>\n",
       "    </tr>\n",
       "    <tr>\n",
       "      <th>1440</th>\n",
       "      <td>807095</td>\n",
       "      <td>nytimes</td>\n",
       "      <td>52297191</td>\n",
       "      <td>466267</td>\n",
       "      <td>NaN</td>\n",
       "      <td>NaN</td>\n",
       "      <td>Breaking News: A Russian court extended the de...</td>\n",
       "      <td>2022-03-17 15:06:14+00:00</td>\n",
       "      <td>745</td>\n",
       "      <td>208</td>\n",
       "      <td>1115</td>\n",
       "      <td>274</td>\n",
       "      <td>1504474193005490195</td>\n",
       "      <td>NaN</td>\n",
       "      <td>True</td>\n",
       "      <td>False</td>\n",
       "      <td>True</td>\n",
       "    </tr>\n",
       "    <tr>\n",
       "      <th>1526</th>\n",
       "      <td>807095</td>\n",
       "      <td>nytimes</td>\n",
       "      <td>52297191</td>\n",
       "      <td>466267</td>\n",
       "      <td>NaN</td>\n",
       "      <td>NaN</td>\n",
       "      <td>Breaking News: The Federal Reserve lifted its ...</td>\n",
       "      <td>2022-03-16 18:06:07+00:00</td>\n",
       "      <td>62</td>\n",
       "      <td>18</td>\n",
       "      <td>148</td>\n",
       "      <td>7</td>\n",
       "      <td>1504157076444094467</td>\n",
       "      <td>NaN</td>\n",
       "      <td>True</td>\n",
       "      <td>False</td>\n",
       "      <td>True</td>\n",
       "    </tr>\n",
       "    <tr>\n",
       "      <th>1529</th>\n",
       "      <td>807095</td>\n",
       "      <td>nytimes</td>\n",
       "      <td>52297187</td>\n",
       "      <td>466267</td>\n",
       "      <td>NaN</td>\n",
       "      <td>NaN</td>\n",
       "      <td>Breaking News: President Biden announced $800 ...</td>\n",
       "      <td>2022-03-16 17:31:16+00:00</td>\n",
       "      <td>309</td>\n",
       "      <td>225</td>\n",
       "      <td>2258</td>\n",
       "      <td>46</td>\n",
       "      <td>1504148306531864587</td>\n",
       "      <td>NaN</td>\n",
       "      <td>True</td>\n",
       "      <td>False</td>\n",
       "      <td>True</td>\n",
       "    </tr>\n",
       "    <tr>\n",
       "      <th>1531</th>\n",
       "      <td>807095</td>\n",
       "      <td>nytimes</td>\n",
       "      <td>52297187</td>\n",
       "      <td>466267</td>\n",
       "      <td>NaN</td>\n",
       "      <td>NaN</td>\n",
       "      <td>Breaking News: The U.S. warned Russia against ...</td>\n",
       "      <td>2022-03-16 17:24:46+00:00</td>\n",
       "      <td>174</td>\n",
       "      <td>134</td>\n",
       "      <td>641</td>\n",
       "      <td>29</td>\n",
       "      <td>1504146671495692293</td>\n",
       "      <td>NaN</td>\n",
       "      <td>True</td>\n",
       "      <td>False</td>\n",
       "      <td>True</td>\n",
       "    </tr>\n",
       "    <tr>\n",
       "      <th>1538</th>\n",
       "      <td>807095</td>\n",
       "      <td>nytimes</td>\n",
       "      <td>52297187</td>\n",
       "      <td>466267</td>\n",
       "      <td>NaN</td>\n",
       "      <td>NaN</td>\n",
       "      <td>Breaking News: A powerful 7.3-magnitude earthq...</td>\n",
       "      <td>2022-03-16 15:56:59+00:00</td>\n",
       "      <td>2145</td>\n",
       "      <td>190</td>\n",
       "      <td>4044</td>\n",
       "      <td>491</td>\n",
       "      <td>1504124579006013442</td>\n",
       "      <td>NaN</td>\n",
       "      <td>True</td>\n",
       "      <td>False</td>\n",
       "      <td>True</td>\n",
       "    </tr>\n",
       "    <tr>\n",
       "      <th>1544</th>\n",
       "      <td>807095</td>\n",
       "      <td>nytimes</td>\n",
       "      <td>52297187</td>\n",
       "      <td>466267</td>\n",
       "      <td>NaN</td>\n",
       "      <td>NaN</td>\n",
       "      <td>Breaking News: Nazanin Zaghari-Ratcliffe, held...</td>\n",
       "      <td>2022-03-16 14:31:56+00:00</td>\n",
       "      <td>64</td>\n",
       "      <td>26</td>\n",
       "      <td>383</td>\n",
       "      <td>9</td>\n",
       "      <td>1504103175284039683</td>\n",
       "      <td>NaN</td>\n",
       "      <td>True</td>\n",
       "      <td>False</td>\n",
       "      <td>True</td>\n",
       "    </tr>\n",
       "    <tr>\n",
       "      <th>1547</th>\n",
       "      <td>807095</td>\n",
       "      <td>nytimes</td>\n",
       "      <td>52297187</td>\n",
       "      <td>466267</td>\n",
       "      <td>NaN</td>\n",
       "      <td>NaN</td>\n",
       "      <td>Breaking News: President Volodomyr Zelensky of...</td>\n",
       "      <td>2022-03-16 14:01:33+00:00</td>\n",
       "      <td>936</td>\n",
       "      <td>362</td>\n",
       "      <td>4553</td>\n",
       "      <td>87</td>\n",
       "      <td>1504095527050387468</td>\n",
       "      <td>NaN</td>\n",
       "      <td>True</td>\n",
       "      <td>False</td>\n",
       "      <td>True</td>\n",
       "    </tr>\n",
       "    <tr>\n",
       "      <th>1629</th>\n",
       "      <td>807095</td>\n",
       "      <td>nytimes</td>\n",
       "      <td>52297193</td>\n",
       "      <td>466267</td>\n",
       "      <td>NaN</td>\n",
       "      <td>NaN</td>\n",
       "      <td>Breaking News: Pfizer is expected to ask U.S. ...</td>\n",
       "      <td>2022-03-15 18:47:02+00:00</td>\n",
       "      <td>96</td>\n",
       "      <td>100</td>\n",
       "      <td>348</td>\n",
       "      <td>26</td>\n",
       "      <td>1503804986425229312</td>\n",
       "      <td>NaN</td>\n",
       "      <td>True</td>\n",
       "      <td>False</td>\n",
       "      <td>True</td>\n",
       "    </tr>\n",
       "    <tr>\n",
       "      <th>1642</th>\n",
       "      <td>807095</td>\n",
       "      <td>nytimes</td>\n",
       "      <td>52297193</td>\n",
       "      <td>466267</td>\n",
       "      <td>NaN</td>\n",
       "      <td>NaN</td>\n",
       "      <td>Breaking News: Pierre Zakrzewski, a Fox News c...</td>\n",
       "      <td>2022-03-15 16:12:44+00:00</td>\n",
       "      <td>1309</td>\n",
       "      <td>339</td>\n",
       "      <td>3503</td>\n",
       "      <td>170</td>\n",
       "      <td>1503766153893720066</td>\n",
       "      <td>NaN</td>\n",
       "      <td>True</td>\n",
       "      <td>False</td>\n",
       "      <td>True</td>\n",
       "    </tr>\n",
       "    <tr>\n",
       "      <th>1679</th>\n",
       "      <td>807095</td>\n",
       "      <td>nytimes</td>\n",
       "      <td>52297193</td>\n",
       "      <td>466267</td>\n",
       "      <td>NaN</td>\n",
       "      <td>NaN</td>\n",
       "      <td>Breaking News: The leaders of Poland, Slovenia...</td>\n",
       "      <td>2022-03-15 08:49:55+00:00</td>\n",
       "      <td>781</td>\n",
       "      <td>147</td>\n",
       "      <td>3028</td>\n",
       "      <td>91</td>\n",
       "      <td>1503654715229458436</td>\n",
       "      <td>NaN</td>\n",
       "      <td>True</td>\n",
       "      <td>False</td>\n",
       "      <td>True</td>\n",
       "    </tr>\n",
       "    <tr>\n",
       "      <th>1688</th>\n",
       "      <td>807095</td>\n",
       "      <td>nytimes</td>\n",
       "      <td>52297193</td>\n",
       "      <td>466267</td>\n",
       "      <td>NaN</td>\n",
       "      <td>NaN</td>\n",
       "      <td>Breaking News: A court in southern India uphel...</td>\n",
       "      <td>2022-03-15 06:20:31+00:00</td>\n",
       "      <td>1282</td>\n",
       "      <td>852</td>\n",
       "      <td>3105</td>\n",
       "      <td>262</td>\n",
       "      <td>1503617117106671616</td>\n",
       "      <td>NaN</td>\n",
       "      <td>True</td>\n",
       "      <td>False</td>\n",
       "      <td>True</td>\n",
       "    </tr>\n",
       "    <tr>\n",
       "      <th>1800</th>\n",
       "      <td>807095</td>\n",
       "      <td>nytimes</td>\n",
       "      <td>52297187</td>\n",
       "      <td>466267</td>\n",
       "      <td>NaN</td>\n",
       "      <td>NaN</td>\n",
       "      <td>BREAKING: Tom Brady, the seven-time Super Bowl...</td>\n",
       "      <td>2022-03-13 23:47:42+00:00</td>\n",
       "      <td>313</td>\n",
       "      <td>228</td>\n",
       "      <td>1479</td>\n",
       "      <td>277</td>\n",
       "      <td>1503155876617764871</td>\n",
       "      <td>NaN</td>\n",
       "      <td>True</td>\n",
       "      <td>False</td>\n",
       "      <td>True</td>\n",
       "    </tr>\n",
       "    <tr>\n",
       "      <th>1847</th>\n",
       "      <td>807095</td>\n",
       "      <td>nytimes</td>\n",
       "      <td>52297188</td>\n",
       "      <td>466267</td>\n",
       "      <td>NaN</td>\n",
       "      <td>NaN</td>\n",
       "      <td>Breaking News: Russian missiles hit a military...</td>\n",
       "      <td>2022-03-13 06:29:32+00:00</td>\n",
       "      <td>603</td>\n",
       "      <td>142</td>\n",
       "      <td>1384</td>\n",
       "      <td>53</td>\n",
       "      <td>1502894612284952577</td>\n",
       "      <td>NaN</td>\n",
       "      <td>True</td>\n",
       "      <td>False</td>\n",
       "      <td>True</td>\n",
       "    </tr>\n",
       "    <tr>\n",
       "      <th>1855</th>\n",
       "      <td>807095</td>\n",
       "      <td>nytimes</td>\n",
       "      <td>52297188</td>\n",
       "      <td>466267</td>\n",
       "      <td>NaN</td>\n",
       "      <td>NaN</td>\n",
       "      <td>Breaking News: Two women were stabbed at the M...</td>\n",
       "      <td>2022-03-12 22:22:18+00:00</td>\n",
       "      <td>410</td>\n",
       "      <td>184</td>\n",
       "      <td>954</td>\n",
       "      <td>237</td>\n",
       "      <td>1502771994043031553</td>\n",
       "      <td>NaN</td>\n",
       "      <td>True</td>\n",
       "      <td>False</td>\n",
       "      <td>True</td>\n",
       "    </tr>\n",
       "    <tr>\n",
       "      <th>1906</th>\n",
       "      <td>807095</td>\n",
       "      <td>nytimes</td>\n",
       "      <td>52297188</td>\n",
       "      <td>466267</td>\n",
       "      <td>NaN</td>\n",
       "      <td>NaN</td>\n",
       "      <td>Breaking News: A Texas court halted the state ...</td>\n",
       "      <td>2022-03-11 23:57:07+00:00</td>\n",
       "      <td>313</td>\n",
       "      <td>43</td>\n",
       "      <td>2093</td>\n",
       "      <td>37</td>\n",
       "      <td>1502433469909057538</td>\n",
       "      <td>NaN</td>\n",
       "      <td>True</td>\n",
       "      <td>False</td>\n",
       "      <td>True</td>\n",
       "    </tr>\n",
       "    <tr>\n",
       "      <th>1916</th>\n",
       "      <td>807095</td>\n",
       "      <td>nytimes</td>\n",
       "      <td>52297188</td>\n",
       "      <td>466267</td>\n",
       "      <td>NaN</td>\n",
       "      <td>NaN</td>\n",
       "      <td>Breaking News: Deshaun Watson will not face cr...</td>\n",
       "      <td>2022-03-11 22:00:24+00:00</td>\n",
       "      <td>142</td>\n",
       "      <td>88</td>\n",
       "      <td>411</td>\n",
       "      <td>104</td>\n",
       "      <td>1502404096648691716</td>\n",
       "      <td>NaN</td>\n",
       "      <td>True</td>\n",
       "      <td>False</td>\n",
       "      <td>True</td>\n",
       "    </tr>\n",
       "    <tr>\n",
       "      <th>1949</th>\n",
       "      <td>807095</td>\n",
       "      <td>nytimes</td>\n",
       "      <td>52297191</td>\n",
       "      <td>466267</td>\n",
       "      <td>NaN</td>\n",
       "      <td>NaN</td>\n",
       "      <td>Breaking News: Alec Baldwin gave his most deta...</td>\n",
       "      <td>2022-03-11 16:18:19+00:00</td>\n",
       "      <td>59</td>\n",
       "      <td>81</td>\n",
       "      <td>227</td>\n",
       "      <td>20</td>\n",
       "      <td>1502318008844406786</td>\n",
       "      <td>NaN</td>\n",
       "      <td>True</td>\n",
       "      <td>False</td>\n",
       "      <td>True</td>\n",
       "    </tr>\n",
       "    <tr>\n",
       "      <th>1951</th>\n",
       "      <td>807095</td>\n",
       "      <td>nytimes</td>\n",
       "      <td>52297191</td>\n",
       "      <td>466267</td>\n",
       "      <td>NaN</td>\n",
       "      <td>NaN</td>\n",
       "      <td>Breaking News: President Biden called for susp...</td>\n",
       "      <td>2022-03-11 15:58:09+00:00</td>\n",
       "      <td>93</td>\n",
       "      <td>44</td>\n",
       "      <td>471</td>\n",
       "      <td>7</td>\n",
       "      <td>1502312934730522624</td>\n",
       "      <td>NaN</td>\n",
       "      <td>True</td>\n",
       "      <td>False</td>\n",
       "      <td>True</td>\n",
       "    </tr>\n",
       "  </tbody>\n",
       "</table>\n",
       "</div>"
      ],
      "text/plain": [
       "      author_id username  author_followers  author_tweets  author_description  \\\n",
       "3       1367531  FoxNews          20946694         456439                 NaN   \n",
       "321     1367531  FoxNews          20946694         456439                 NaN   \n",
       "372     1367531  FoxNews          20946694         456439                 NaN   \n",
       "511     1367531  FoxNews          20946696         456439                 NaN   \n",
       "559     1367531  FoxNews          20946696         456439                 NaN   \n",
       "893     1367531  FoxNews          20946696         456439                 NaN   \n",
       "917     1367531  FoxNews          20946696         456439                 NaN   \n",
       "920     1367531  FoxNews          20946696         456439                 NaN   \n",
       "1381     807095  nytimes          52297192         466267                 NaN   \n",
       "1387     807095  nytimes          52297192         466267                 NaN   \n",
       "1395     807095  nytimes          52297192         466267                 NaN   \n",
       "1418     807095  nytimes          52297192         466267                 NaN   \n",
       "1440     807095  nytimes          52297191         466267                 NaN   \n",
       "1526     807095  nytimes          52297191         466267                 NaN   \n",
       "1529     807095  nytimes          52297187         466267                 NaN   \n",
       "1531     807095  nytimes          52297187         466267                 NaN   \n",
       "1538     807095  nytimes          52297187         466267                 NaN   \n",
       "1544     807095  nytimes          52297187         466267                 NaN   \n",
       "1547     807095  nytimes          52297187         466267                 NaN   \n",
       "1629     807095  nytimes          52297193         466267                 NaN   \n",
       "1642     807095  nytimes          52297193         466267                 NaN   \n",
       "1679     807095  nytimes          52297193         466267                 NaN   \n",
       "1688     807095  nytimes          52297193         466267                 NaN   \n",
       "1800     807095  nytimes          52297187         466267                 NaN   \n",
       "1847     807095  nytimes          52297188         466267                 NaN   \n",
       "1855     807095  nytimes          52297188         466267                 NaN   \n",
       "1906     807095  nytimes          52297188         466267                 NaN   \n",
       "1916     807095  nytimes          52297188         466267                 NaN   \n",
       "1949     807095  nytimes          52297191         466267                 NaN   \n",
       "1951     807095  nytimes          52297191         466267                 NaN   \n",
       "\n",
       "      author_location                                               text  \\\n",
       "3                 NaN  BREAKING: Biden, Xi discuss Russia's war again...   \n",
       "321               NaN  BREAKING: Judge orders Jussie Smollett be rele...   \n",
       "372               NaN  BREAKING: President Biden calls Putin a 'war c...   \n",
       "511               NaN  BREAKING: Second gentleman Doug Emhoff tests p...   \n",
       "559               NaN  BREAKING: Biden Fed nominee Sarah Bloom Raskin...   \n",
       "893               NaN  BREAKING: Tom Brady coming back to play for Ta...   \n",
       "917               NaN  BREAKING NEWS: The former president revealed h...   \n",
       "920               NaN  BREAKING: Barack Obama tests positive for COVI...   \n",
       "1381              NaN  Breaking News: No. 2-seeded Kentucky lost in o...   \n",
       "1387              NaN  Breaking News: Moderna asked the FDA to author...   \n",
       "1395              NaN  Breaking News: A 13-year-old boy was behind th...   \n",
       "1418              NaN  Breaking News: Peru’s top court reinstated the...   \n",
       "1440              NaN  Breaking News: A Russian court extended the de...   \n",
       "1526              NaN  Breaking News: The Federal Reserve lifted its ...   \n",
       "1529              NaN  Breaking News: President Biden announced $800 ...   \n",
       "1531              NaN  Breaking News: The U.S. warned Russia against ...   \n",
       "1538              NaN  Breaking News: A powerful 7.3-magnitude earthq...   \n",
       "1544              NaN  Breaking News: Nazanin Zaghari-Ratcliffe, held...   \n",
       "1547              NaN  Breaking News: President Volodomyr Zelensky of...   \n",
       "1629              NaN  Breaking News: Pfizer is expected to ask U.S. ...   \n",
       "1642              NaN  Breaking News: Pierre Zakrzewski, a Fox News c...   \n",
       "1679              NaN  Breaking News: The leaders of Poland, Slovenia...   \n",
       "1688              NaN  Breaking News: A court in southern India uphel...   \n",
       "1800              NaN  BREAKING: Tom Brady, the seven-time Super Bowl...   \n",
       "1847              NaN  Breaking News: Russian missiles hit a military...   \n",
       "1855              NaN  Breaking News: Two women were stabbed at the M...   \n",
       "1906              NaN  Breaking News: A Texas court halted the state ...   \n",
       "1916              NaN  Breaking News: Deshaun Watson will not face cr...   \n",
       "1949              NaN  Breaking News: Alec Baldwin gave his most deta...   \n",
       "1951              NaN  Breaking News: President Biden called for susp...   \n",
       "\n",
       "                     created_at  retweets  replies  likes  quote_count  \\\n",
       "3     2022-03-18 15:34:43+00:00        33       71     87            3   \n",
       "321   2022-03-16 22:54:50+00:00       170     1110    394          162   \n",
       "372   2022-03-16 19:25:22+00:00       101      294    355           32   \n",
       "511   2022-03-15 22:41:27+00:00        29       98     97            7   \n",
       "559   2022-03-15 19:26:11+00:00        52       46    336           15   \n",
       "893   2022-03-13 23:40:43+00:00       106      116    639           35   \n",
       "917   2022-03-13 20:02:20+00:00       439     1987   2615          161   \n",
       "920   2022-03-13 19:45:33+00:00       303     1289   1486          175   \n",
       "1381  2022-03-18 02:11:09+00:00       132       66    938           85   \n",
       "1387  2022-03-18 00:50:10+00:00       325       84    998           82   \n",
       "1395  2022-03-17 22:40:10+00:00       232       98    647           63   \n",
       "1418  2022-03-17 19:43:28+00:00        89       29    197           27   \n",
       "1440  2022-03-17 15:06:14+00:00       745      208   1115          274   \n",
       "1526  2022-03-16 18:06:07+00:00        62       18    148            7   \n",
       "1529  2022-03-16 17:31:16+00:00       309      225   2258           46   \n",
       "1531  2022-03-16 17:24:46+00:00       174      134    641           29   \n",
       "1538  2022-03-16 15:56:59+00:00      2145      190   4044          491   \n",
       "1544  2022-03-16 14:31:56+00:00        64       26    383            9   \n",
       "1547  2022-03-16 14:01:33+00:00       936      362   4553           87   \n",
       "1629  2022-03-15 18:47:02+00:00        96      100    348           26   \n",
       "1642  2022-03-15 16:12:44+00:00      1309      339   3503          170   \n",
       "1679  2022-03-15 08:49:55+00:00       781      147   3028           91   \n",
       "1688  2022-03-15 06:20:31+00:00      1282      852   3105          262   \n",
       "1800  2022-03-13 23:47:42+00:00       313      228   1479          277   \n",
       "1847  2022-03-13 06:29:32+00:00       603      142   1384           53   \n",
       "1855  2022-03-12 22:22:18+00:00       410      184    954          237   \n",
       "1906  2022-03-11 23:57:07+00:00       313       43   2093           37   \n",
       "1916  2022-03-11 22:00:24+00:00       142       88    411          104   \n",
       "1949  2022-03-11 16:18:19+00:00        59       81    227           20   \n",
       "1951  2022-03-11 15:58:09+00:00        93       44    471            7   \n",
       "\n",
       "                 tweet_id  reference_status    NYT  mentions  breaking  \n",
       "3     1504843752426323990               NaN  False     False      True  \n",
       "321   1504229732266692608               NaN  False     False      True  \n",
       "372   1504177021940809731               NaN  False     False      True  \n",
       "511   1503863978551914497               NaN  False     False      True  \n",
       "559   1503814839562604550               NaN  False     False      True  \n",
       "893   1503154116226260992               NaN  False     False      True  \n",
       "917   1503099157967511564               NaN  False     False      True  \n",
       "920   1503094937730101249               NaN  False     False      True  \n",
       "1381  1504641526642712580               NaN   True     False      True  \n",
       "1387  1504621144707678213               NaN   True     False      True  \n",
       "1395  1504588429597855750               NaN   True     False      True  \n",
       "1418  1504543964052930572               NaN   True     False      True  \n",
       "1440  1504474193005490195               NaN   True     False      True  \n",
       "1526  1504157076444094467               NaN   True     False      True  \n",
       "1529  1504148306531864587               NaN   True     False      True  \n",
       "1531  1504146671495692293               NaN   True     False      True  \n",
       "1538  1504124579006013442               NaN   True     False      True  \n",
       "1544  1504103175284039683               NaN   True     False      True  \n",
       "1547  1504095527050387468               NaN   True     False      True  \n",
       "1629  1503804986425229312               NaN   True     False      True  \n",
       "1642  1503766153893720066               NaN   True     False      True  \n",
       "1679  1503654715229458436               NaN   True     False      True  \n",
       "1688  1503617117106671616               NaN   True     False      True  \n",
       "1800  1503155876617764871               NaN   True     False      True  \n",
       "1847  1502894612284952577               NaN   True     False      True  \n",
       "1855  1502771994043031553               NaN   True     False      True  \n",
       "1906  1502433469909057538               NaN   True     False      True  \n",
       "1916  1502404096648691716               NaN   True     False      True  \n",
       "1949  1502318008844406786               NaN   True     False      True  \n",
       "1951  1502312934730522624               NaN   True     False      True  "
      ]
     },
     "execution_count": 15,
     "metadata": {},
     "output_type": "execute_result"
    }
   ],
   "source": [
    "tweets[tweets[\"breaking\"]==True]"
   ]
  },
  {
   "cell_type": "code",
   "execution_count": 16,
   "id": "c3369437",
   "metadata": {
    "id": "c3369437"
   },
   "outputs": [],
   "source": [
    "tweets[\"hash\"]=tweets[\"text\"].str.contains(\"#\")"
   ]
  },
  {
   "cell_type": "code",
   "execution_count": 17,
   "id": "ac3e956d",
   "metadata": {
    "id": "ac3e956d"
   },
   "outputs": [],
   "source": [
    "tweets[\"hashtags\"] = tweets[tweets[\"hash\"]==True].text.apply(lambda x: [x for x in x.replace(\".\", \" \").split(\" \") if x.startswith(\"#\")])\n"
   ]
  },
  {
   "cell_type": "code",
   "execution_count": 18,
   "id": "58003942",
   "metadata": {
    "colab": {
     "base_uri": "https://localhost:8080/",
     "height": 725
    },
    "id": "58003942",
    "outputId": "154ecc6e-cc40-42a7-d659-2da06d48cb49"
   },
   "outputs": [
    {
     "data": {
      "text/html": [
       "<div>\n",
       "<style scoped>\n",
       "    .dataframe tbody tr th:only-of-type {\n",
       "        vertical-align: middle;\n",
       "    }\n",
       "\n",
       "    .dataframe tbody tr th {\n",
       "        vertical-align: top;\n",
       "    }\n",
       "\n",
       "    .dataframe thead th {\n",
       "        text-align: right;\n",
       "    }\n",
       "</style>\n",
       "<table border=\"1\" class=\"dataframe\">\n",
       "  <thead>\n",
       "    <tr style=\"text-align: right;\">\n",
       "      <th></th>\n",
       "      <th>author_id</th>\n",
       "      <th>username</th>\n",
       "      <th>author_followers</th>\n",
       "      <th>author_tweets</th>\n",
       "      <th>author_description</th>\n",
       "      <th>author_location</th>\n",
       "      <th>text</th>\n",
       "      <th>created_at</th>\n",
       "      <th>retweets</th>\n",
       "      <th>replies</th>\n",
       "      <th>likes</th>\n",
       "      <th>quote_count</th>\n",
       "      <th>tweet_id</th>\n",
       "      <th>reference_status</th>\n",
       "      <th>NYT</th>\n",
       "      <th>mentions</th>\n",
       "      <th>breaking</th>\n",
       "      <th>hash</th>\n",
       "      <th>hashtags</th>\n",
       "    </tr>\n",
       "  </thead>\n",
       "  <tbody>\n",
       "    <tr>\n",
       "      <th>1648</th>\n",
       "      <td>807095</td>\n",
       "      <td>nytimes</td>\n",
       "      <td>52297193</td>\n",
       "      <td>466267</td>\n",
       "      <td>NaN</td>\n",
       "      <td>NaN</td>\n",
       "      <td>In Opinion\\n\\nCissi Wallin, a Swedish journali...</td>\n",
       "      <td>2022-03-15 15:15:05+00:00</td>\n",
       "      <td>78</td>\n",
       "      <td>31</td>\n",
       "      <td>291</td>\n",
       "      <td>14</td>\n",
       "      <td>1503751646924488704</td>\n",
       "      <td>NaN</td>\n",
       "      <td>True</td>\n",
       "      <td>False</td>\n",
       "      <td>False</td>\n",
       "      <td>True</td>\n",
       "      <td>[#MeToo]</td>\n",
       "    </tr>\n",
       "    <tr>\n",
       "      <th>1759</th>\n",
       "      <td>807095</td>\n",
       "      <td>nytimes</td>\n",
       "      <td>52297187</td>\n",
       "      <td>466267</td>\n",
       "      <td>NaN</td>\n",
       "      <td>NaN</td>\n",
       "      <td>The #CriticsChoiceAwards on Sunday might have ...</td>\n",
       "      <td>2022-03-14 13:25:05+00:00</td>\n",
       "      <td>23</td>\n",
       "      <td>25</td>\n",
       "      <td>119</td>\n",
       "      <td>1</td>\n",
       "      <td>1503361574018428937</td>\n",
       "      <td>NaN</td>\n",
       "      <td>True</td>\n",
       "      <td>False</td>\n",
       "      <td>False</td>\n",
       "      <td>True</td>\n",
       "      <td>[#CriticsChoiceAwards]</td>\n",
       "    </tr>\n",
       "    <tr>\n",
       "      <th>1790</th>\n",
       "      <td>807095</td>\n",
       "      <td>nytimes</td>\n",
       "      <td>52297187</td>\n",
       "      <td>466267</td>\n",
       "      <td>NaN</td>\n",
       "      <td>NaN</td>\n",
       "      <td>The #CriticsChoiceAwards prize for best pictur...</td>\n",
       "      <td>2022-03-14 02:10:29+00:00</td>\n",
       "      <td>92</td>\n",
       "      <td>31</td>\n",
       "      <td>496</td>\n",
       "      <td>22</td>\n",
       "      <td>1503191806900678657</td>\n",
       "      <td>NaN</td>\n",
       "      <td>True</td>\n",
       "      <td>False</td>\n",
       "      <td>False</td>\n",
       "      <td>True</td>\n",
       "      <td>[#CriticsChoiceAwards]</td>\n",
       "    </tr>\n",
       "    <tr>\n",
       "      <th>1791</th>\n",
       "      <td>807095</td>\n",
       "      <td>nytimes</td>\n",
       "      <td>52297187</td>\n",
       "      <td>466267</td>\n",
       "      <td>NaN</td>\n",
       "      <td>NaN</td>\n",
       "      <td>The star of \"Squid Game,\" Lee Jung-jae, just w...</td>\n",
       "      <td>2022-03-14 01:59:31+00:00</td>\n",
       "      <td>137</td>\n",
       "      <td>21</td>\n",
       "      <td>1157</td>\n",
       "      <td>9</td>\n",
       "      <td>1503189045765099524</td>\n",
       "      <td>NaN</td>\n",
       "      <td>True</td>\n",
       "      <td>False</td>\n",
       "      <td>False</td>\n",
       "      <td>True</td>\n",
       "      <td>[#CriticsChoiceAwards]</td>\n",
       "    </tr>\n",
       "    <tr>\n",
       "      <th>1792</th>\n",
       "      <td>807095</td>\n",
       "      <td>nytimes</td>\n",
       "      <td>52297187</td>\n",
       "      <td>466267</td>\n",
       "      <td>NaN</td>\n",
       "      <td>NaN</td>\n",
       "      <td>\"Succession\" won best drama series at the #Cri...</td>\n",
       "      <td>2022-03-14 01:51:03+00:00</td>\n",
       "      <td>64</td>\n",
       "      <td>20</td>\n",
       "      <td>529</td>\n",
       "      <td>22</td>\n",
       "      <td>1503186917390696451</td>\n",
       "      <td>NaN</td>\n",
       "      <td>True</td>\n",
       "      <td>False</td>\n",
       "      <td>False</td>\n",
       "      <td>True</td>\n",
       "      <td>[#CriticsChoice]</td>\n",
       "    </tr>\n",
       "    <tr>\n",
       "      <th>1793</th>\n",
       "      <td>807095</td>\n",
       "      <td>nytimes</td>\n",
       "      <td>52297187</td>\n",
       "      <td>466267</td>\n",
       "      <td>NaN</td>\n",
       "      <td>NaN</td>\n",
       "      <td>\"Mare of Easttown\" just won the #CriticsChoice...</td>\n",
       "      <td>2022-03-14 01:48:30+00:00</td>\n",
       "      <td>113</td>\n",
       "      <td>38</td>\n",
       "      <td>1404</td>\n",
       "      <td>23</td>\n",
       "      <td>1503186276694073349</td>\n",
       "      <td>NaN</td>\n",
       "      <td>True</td>\n",
       "      <td>False</td>\n",
       "      <td>False</td>\n",
       "      <td>True</td>\n",
       "      <td>[#CriticsChoice]</td>\n",
       "    </tr>\n",
       "    <tr>\n",
       "      <th>1794</th>\n",
       "      <td>807095</td>\n",
       "      <td>nytimes</td>\n",
       "      <td>52297187</td>\n",
       "      <td>466267</td>\n",
       "      <td>NaN</td>\n",
       "      <td>NaN</td>\n",
       "      <td>Jessica Chastain won best actress at the #Crit...</td>\n",
       "      <td>2022-03-14 01:39:11+00:00</td>\n",
       "      <td>43</td>\n",
       "      <td>14</td>\n",
       "      <td>343</td>\n",
       "      <td>12</td>\n",
       "      <td>1503183931369267203</td>\n",
       "      <td>NaN</td>\n",
       "      <td>True</td>\n",
       "      <td>False</td>\n",
       "      <td>False</td>\n",
       "      <td>True</td>\n",
       "      <td>[#CriticsChoice]</td>\n",
       "    </tr>\n",
       "    <tr>\n",
       "      <th>1795</th>\n",
       "      <td>807095</td>\n",
       "      <td>nytimes</td>\n",
       "      <td>52297187</td>\n",
       "      <td>466267</td>\n",
       "      <td>NaN</td>\n",
       "      <td>NaN</td>\n",
       "      <td>Will Smith won the best actor #CriticsChoice a...</td>\n",
       "      <td>2022-03-14 01:32:38+00:00</td>\n",
       "      <td>157</td>\n",
       "      <td>26</td>\n",
       "      <td>1158</td>\n",
       "      <td>18</td>\n",
       "      <td>1503182282869415940</td>\n",
       "      <td>NaN</td>\n",
       "      <td>True</td>\n",
       "      <td>False</td>\n",
       "      <td>False</td>\n",
       "      <td>True</td>\n",
       "      <td>[#CriticsChoice]</td>\n",
       "    </tr>\n",
       "    <tr>\n",
       "      <th>1796</th>\n",
       "      <td>807095</td>\n",
       "      <td>nytimes</td>\n",
       "      <td>52297187</td>\n",
       "      <td>466267</td>\n",
       "      <td>NaN</td>\n",
       "      <td>NaN</td>\n",
       "      <td>\"Ted Lasso\" just won the #CriticsChoice award ...</td>\n",
       "      <td>2022-03-14 01:26:07+00:00</td>\n",
       "      <td>286</td>\n",
       "      <td>42</td>\n",
       "      <td>4555</td>\n",
       "      <td>84</td>\n",
       "      <td>1503180641675919362</td>\n",
       "      <td>NaN</td>\n",
       "      <td>True</td>\n",
       "      <td>False</td>\n",
       "      <td>False</td>\n",
       "      <td>True</td>\n",
       "      <td>[#CriticsChoice]</td>\n",
       "    </tr>\n",
       "  </tbody>\n",
       "</table>\n",
       "</div>"
      ],
      "text/plain": [
       "      author_id username  author_followers  author_tweets  author_description  \\\n",
       "1648     807095  nytimes          52297193         466267                 NaN   \n",
       "1759     807095  nytimes          52297187         466267                 NaN   \n",
       "1790     807095  nytimes          52297187         466267                 NaN   \n",
       "1791     807095  nytimes          52297187         466267                 NaN   \n",
       "1792     807095  nytimes          52297187         466267                 NaN   \n",
       "1793     807095  nytimes          52297187         466267                 NaN   \n",
       "1794     807095  nytimes          52297187         466267                 NaN   \n",
       "1795     807095  nytimes          52297187         466267                 NaN   \n",
       "1796     807095  nytimes          52297187         466267                 NaN   \n",
       "\n",
       "      author_location                                               text  \\\n",
       "1648              NaN  In Opinion\\n\\nCissi Wallin, a Swedish journali...   \n",
       "1759              NaN  The #CriticsChoiceAwards on Sunday might have ...   \n",
       "1790              NaN  The #CriticsChoiceAwards prize for best pictur...   \n",
       "1791              NaN  The star of \"Squid Game,\" Lee Jung-jae, just w...   \n",
       "1792              NaN  \"Succession\" won best drama series at the #Cri...   \n",
       "1793              NaN  \"Mare of Easttown\" just won the #CriticsChoice...   \n",
       "1794              NaN  Jessica Chastain won best actress at the #Crit...   \n",
       "1795              NaN  Will Smith won the best actor #CriticsChoice a...   \n",
       "1796              NaN  \"Ted Lasso\" just won the #CriticsChoice award ...   \n",
       "\n",
       "                     created_at  retweets  replies  likes  quote_count  \\\n",
       "1648  2022-03-15 15:15:05+00:00        78       31    291           14   \n",
       "1759  2022-03-14 13:25:05+00:00        23       25    119            1   \n",
       "1790  2022-03-14 02:10:29+00:00        92       31    496           22   \n",
       "1791  2022-03-14 01:59:31+00:00       137       21   1157            9   \n",
       "1792  2022-03-14 01:51:03+00:00        64       20    529           22   \n",
       "1793  2022-03-14 01:48:30+00:00       113       38   1404           23   \n",
       "1794  2022-03-14 01:39:11+00:00        43       14    343           12   \n",
       "1795  2022-03-14 01:32:38+00:00       157       26   1158           18   \n",
       "1796  2022-03-14 01:26:07+00:00       286       42   4555           84   \n",
       "\n",
       "                 tweet_id  reference_status   NYT  mentions  breaking  hash  \\\n",
       "1648  1503751646924488704               NaN  True     False     False  True   \n",
       "1759  1503361574018428937               NaN  True     False     False  True   \n",
       "1790  1503191806900678657               NaN  True     False     False  True   \n",
       "1791  1503189045765099524               NaN  True     False     False  True   \n",
       "1792  1503186917390696451               NaN  True     False     False  True   \n",
       "1793  1503186276694073349               NaN  True     False     False  True   \n",
       "1794  1503183931369267203               NaN  True     False     False  True   \n",
       "1795  1503182282869415940               NaN  True     False     False  True   \n",
       "1796  1503180641675919362               NaN  True     False     False  True   \n",
       "\n",
       "                    hashtags  \n",
       "1648                [#MeToo]  \n",
       "1759  [#CriticsChoiceAwards]  \n",
       "1790  [#CriticsChoiceAwards]  \n",
       "1791  [#CriticsChoiceAwards]  \n",
       "1792        [#CriticsChoice]  \n",
       "1793        [#CriticsChoice]  \n",
       "1794        [#CriticsChoice]  \n",
       "1795        [#CriticsChoice]  \n",
       "1796        [#CriticsChoice]  "
      ]
     },
     "execution_count": 18,
     "metadata": {},
     "output_type": "execute_result"
    }
   ],
   "source": [
    "tweets[tweets[\"hash\"]==True]"
   ]
  },
  {
   "cell_type": "code",
   "execution_count": 19,
   "id": "065eb96f",
   "metadata": {
    "colab": {
     "base_uri": "https://localhost:8080/",
     "height": 35
    },
    "id": "065eb96f",
    "outputId": "1bb6f2f6-0ed3-4435-af3f-069b7f78ac0d"
   },
   "outputs": [
    {
     "data": {
      "text/plain": [
       "'!\"#$%&\\'()*+,-./:;<=>?@[\\\\]^_`{|}~'"
      ]
     },
     "execution_count": 19,
     "metadata": {},
     "output_type": "execute_result"
    }
   ],
   "source": [
    "string.punctuation"
   ]
  },
  {
   "cell_type": "code",
   "execution_count": 20,
   "id": "9b3139ca",
   "metadata": {
    "id": "9b3139ca"
   },
   "outputs": [],
   "source": [
    "stop_words = stopwords.words(\"english\")\n",
    "stopwords_final = stop_words + [\"“\",\"”\",\".s.\",\"like\",\"u\",\"'s\", \"breaking\", \"news\", \"a\", \"flashback\", \"opinion\", \"watch live\",\"’\", \"‘\", \"''\", \"``\",\"—\",\"us\",\"says\",\".\",\"u\",\"'t\",\"n\"]"
   ]
  },
  {
   "cell_type": "code",
   "execution_count": 21,
   "id": "3533646e",
   "metadata": {
    "id": "3533646e"
   },
   "outputs": [],
   "source": [
    "import re\n",
    "def remove_URL(text):\n",
    "    return re.sub(r\"http\\S+\", \"\", text)\n",
    "\n",
    "def preprocessing_text(text):\n",
    "    words = word_tokenize(text.lower())\n",
    "    tokens = [word for word in words if word not in string.punctuation]\n",
    "    tokens = [token for token in tokens if token not in stopwords_final]\n",
    "    preprocessed_text = \" \".join(tokens)\n",
    "    return preprocessed_text"
   ]
  },
  {
   "cell_type": "markdown",
   "id": "37085814",
   "metadata": {},
   "source": [
    "We want to remove information about users, otherwise it will be bad for topic modelling for example (it can give that the tweet topic is the user name"
   ]
  },
  {
   "cell_type": "code",
   "execution_count": 22,
   "id": "c1c8718a",
   "metadata": {},
   "outputs": [],
   "source": [
    "def remove_users(tweet):\n",
    "    '''Takes a string and removes retweet and @user information'''\n",
    "    tweet = re.sub('(RT\\s@[A-Za-z]+[A-Za-z0-9-_]+)', '', tweet) # remove retweet\n",
    "    tweet = re.sub('(@[A-Za-z]+[A-Za-z0-9-_]+)', '', tweet) # remove tweeted at\n",
    "    return tweet"
   ]
  },
  {
   "cell_type": "code",
   "execution_count": 23,
   "id": "b8dcf45b",
   "metadata": {},
   "outputs": [],
   "source": [
    "tweets[\"prep_text\"]=tweets[\"text\"].apply(lambda x: remove_users(x)).apply(lambda x: remove_URL(x)).apply(lambda x: preprocessing_text(x))"
   ]
  },
  {
   "cell_type": "code",
   "execution_count": 24,
   "id": "2ad511bd",
   "metadata": {
    "scrolled": true
   },
   "outputs": [
    {
     "data": {
      "text/html": [
       "<div>\n",
       "<style scoped>\n",
       "    .dataframe tbody tr th:only-of-type {\n",
       "        vertical-align: middle;\n",
       "    }\n",
       "\n",
       "    .dataframe tbody tr th {\n",
       "        vertical-align: top;\n",
       "    }\n",
       "\n",
       "    .dataframe thead th {\n",
       "        text-align: right;\n",
       "    }\n",
       "</style>\n",
       "<table border=\"1\" class=\"dataframe\">\n",
       "  <thead>\n",
       "    <tr style=\"text-align: right;\">\n",
       "      <th></th>\n",
       "      <th>author_id</th>\n",
       "      <th>username</th>\n",
       "      <th>author_followers</th>\n",
       "      <th>author_tweets</th>\n",
       "      <th>author_description</th>\n",
       "      <th>author_location</th>\n",
       "      <th>text</th>\n",
       "      <th>created_at</th>\n",
       "      <th>retweets</th>\n",
       "      <th>replies</th>\n",
       "      <th>likes</th>\n",
       "      <th>quote_count</th>\n",
       "      <th>tweet_id</th>\n",
       "      <th>reference_status</th>\n",
       "      <th>NYT</th>\n",
       "      <th>mentions</th>\n",
       "      <th>breaking</th>\n",
       "      <th>hash</th>\n",
       "      <th>hashtags</th>\n",
       "      <th>prep_text</th>\n",
       "    </tr>\n",
       "  </thead>\n",
       "  <tbody>\n",
       "    <tr>\n",
       "      <th>0</th>\n",
       "      <td>1367531</td>\n",
       "      <td>FoxNews</td>\n",
       "      <td>20946694</td>\n",
       "      <td>456439</td>\n",
       "      <td>NaN</td>\n",
       "      <td>NaN</td>\n",
       "      <td>FLASHBACK: Ex-intel officials claimed the Hunt...</td>\n",
       "      <td>2022-03-18 15:50:00+00:00</td>\n",
       "      <td>26</td>\n",
       "      <td>39</td>\n",
       "      <td>68</td>\n",
       "      <td>0</td>\n",
       "      <td>1504847596006821894</td>\n",
       "      <td>NaN</td>\n",
       "      <td>False</td>\n",
       "      <td>False</td>\n",
       "      <td>False</td>\n",
       "      <td>False</td>\n",
       "      <td>NaN</td>\n",
       "      <td>ex-intel officials claimed hunter biden laptop...</td>\n",
       "    </tr>\n",
       "    <tr>\n",
       "      <th>1</th>\n",
       "      <td>1367531</td>\n",
       "      <td>FoxNews</td>\n",
       "      <td>20946694</td>\n",
       "      <td>456439</td>\n",
       "      <td>NaN</td>\n",
       "      <td>NaN</td>\n",
       "      <td>Biden must do more to counter Putin's propagan...</td>\n",
       "      <td>2022-03-18 15:45:00+00:00</td>\n",
       "      <td>23</td>\n",
       "      <td>94</td>\n",
       "      <td>92</td>\n",
       "      <td>7</td>\n",
       "      <td>1504846338097221635</td>\n",
       "      <td>NaN</td>\n",
       "      <td>False</td>\n",
       "      <td>False</td>\n",
       "      <td>False</td>\n",
       "      <td>False</td>\n",
       "      <td>NaN</td>\n",
       "      <td>biden must counter putin propaganda</td>\n",
       "    </tr>\n",
       "    <tr>\n",
       "      <th>2</th>\n",
       "      <td>1367531</td>\n",
       "      <td>FoxNews</td>\n",
       "      <td>20946694</td>\n",
       "      <td>456439</td>\n",
       "      <td>NaN</td>\n",
       "      <td>NaN</td>\n",
       "      <td>NASCAR: What to expect from Atlanta's super ne...</td>\n",
       "      <td>2022-03-18 15:40:00+00:00</td>\n",
       "      <td>10</td>\n",
       "      <td>9</td>\n",
       "      <td>21</td>\n",
       "      <td>0</td>\n",
       "      <td>1504845079344820224</td>\n",
       "      <td>NaN</td>\n",
       "      <td>False</td>\n",
       "      <td>False</td>\n",
       "      <td>False</td>\n",
       "      <td>False</td>\n",
       "      <td>NaN</td>\n",
       "      <td>nascar expect atlanta super new speedway</td>\n",
       "    </tr>\n",
       "    <tr>\n",
       "      <th>3</th>\n",
       "      <td>1367531</td>\n",
       "      <td>FoxNews</td>\n",
       "      <td>20946694</td>\n",
       "      <td>456439</td>\n",
       "      <td>NaN</td>\n",
       "      <td>NaN</td>\n",
       "      <td>BREAKING: Biden, Xi discuss Russia's war again...</td>\n",
       "      <td>2022-03-18 15:34:43+00:00</td>\n",
       "      <td>33</td>\n",
       "      <td>71</td>\n",
       "      <td>87</td>\n",
       "      <td>3</td>\n",
       "      <td>1504843752426323990</td>\n",
       "      <td>NaN</td>\n",
       "      <td>False</td>\n",
       "      <td>False</td>\n",
       "      <td>True</td>\n",
       "      <td>False</td>\n",
       "      <td>NaN</td>\n",
       "      <td>biden xi discuss russia war ukraine 'other iss...</td>\n",
       "    </tr>\n",
       "    <tr>\n",
       "      <th>4</th>\n",
       "      <td>1367531</td>\n",
       "      <td>FoxNews</td>\n",
       "      <td>20946694</td>\n",
       "      <td>456439</td>\n",
       "      <td>NaN</td>\n",
       "      <td>NaN</td>\n",
       "      <td>Transgender swimmer's NCAA championship win 'j...</td>\n",
       "      <td>2022-03-18 15:30:00+00:00</td>\n",
       "      <td>51</td>\n",
       "      <td>69</td>\n",
       "      <td>254</td>\n",
       "      <td>4</td>\n",
       "      <td>1504842564117024770</td>\n",
       "      <td>NaN</td>\n",
       "      <td>False</td>\n",
       "      <td>False</td>\n",
       "      <td>False</td>\n",
       "      <td>False</td>\n",
       "      <td>NaN</td>\n",
       "      <td>transgender swimmer ncaa championship win 'jus...</td>\n",
       "    </tr>\n",
       "    <tr>\n",
       "      <th>5</th>\n",
       "      <td>1367531</td>\n",
       "      <td>FoxNews</td>\n",
       "      <td>20946694</td>\n",
       "      <td>456439</td>\n",
       "      <td>NaN</td>\n",
       "      <td>NaN</td>\n",
       "      <td>Fed's Bullard says interest rates need to rise...</td>\n",
       "      <td>2022-03-18 15:25:00+00:00</td>\n",
       "      <td>8</td>\n",
       "      <td>22</td>\n",
       "      <td>31</td>\n",
       "      <td>3</td>\n",
       "      <td>1504841304429137920</td>\n",
       "      <td>NaN</td>\n",
       "      <td>False</td>\n",
       "      <td>False</td>\n",
       "      <td>False</td>\n",
       "      <td>False</td>\n",
       "      <td>NaN</td>\n",
       "      <td>fed bullard interest rates need rise 3 quell i...</td>\n",
       "    </tr>\n",
       "    <tr>\n",
       "      <th>6</th>\n",
       "      <td>1367531</td>\n",
       "      <td>FoxNews</td>\n",
       "      <td>20946694</td>\n",
       "      <td>456439</td>\n",
       "      <td>NaN</td>\n",
       "      <td>NaN</td>\n",
       "      <td>Hunter Biden scandal: Media slowly acknowledge...</td>\n",
       "      <td>2022-03-18 15:20:00+00:00</td>\n",
       "      <td>103</td>\n",
       "      <td>85</td>\n",
       "      <td>280</td>\n",
       "      <td>6</td>\n",
       "      <td>1504840046272303105</td>\n",
       "      <td>NaN</td>\n",
       "      <td>False</td>\n",
       "      <td>False</td>\n",
       "      <td>False</td>\n",
       "      <td>False</td>\n",
       "      <td>NaN</td>\n",
       "      <td>hunter biden scandal media slowly acknowledges...</td>\n",
       "    </tr>\n",
       "    <tr>\n",
       "      <th>7</th>\n",
       "      <td>1367531</td>\n",
       "      <td>FoxNews</td>\n",
       "      <td>20946694</td>\n",
       "      <td>456439</td>\n",
       "      <td>NaN</td>\n",
       "      <td>NaN</td>\n",
       "      <td>Russia says Biden spouting 'personal insults' ...</td>\n",
       "      <td>2022-03-18 15:15:00+00:00</td>\n",
       "      <td>27</td>\n",
       "      <td>133</td>\n",
       "      <td>95</td>\n",
       "      <td>4</td>\n",
       "      <td>1504838788408774658</td>\n",
       "      <td>NaN</td>\n",
       "      <td>False</td>\n",
       "      <td>False</td>\n",
       "      <td>False</td>\n",
       "      <td>False</td>\n",
       "      <td>NaN</td>\n",
       "      <td>russia biden spouting 'personal insults putin ...</td>\n",
       "    </tr>\n",
       "    <tr>\n",
       "      <th>8</th>\n",
       "      <td>1367531</td>\n",
       "      <td>FoxNews</td>\n",
       "      <td>20946694</td>\n",
       "      <td>456439</td>\n",
       "      <td>NaN</td>\n",
       "      <td>NaN</td>\n",
       "      <td>Ukraine supply chain 'falling apart' amid grow...</td>\n",
       "      <td>2022-03-18 15:10:00+00:00</td>\n",
       "      <td>20</td>\n",
       "      <td>19</td>\n",
       "      <td>52</td>\n",
       "      <td>4</td>\n",
       "      <td>1504837529714921475</td>\n",
       "      <td>NaN</td>\n",
       "      <td>False</td>\n",
       "      <td>False</td>\n",
       "      <td>False</td>\n",
       "      <td>False</td>\n",
       "      <td>NaN</td>\n",
       "      <td>ukraine supply chain 'falling apart amid growi...</td>\n",
       "    </tr>\n",
       "    <tr>\n",
       "      <th>9</th>\n",
       "      <td>1367531</td>\n",
       "      <td>FoxNews</td>\n",
       "      <td>20946694</td>\n",
       "      <td>456439</td>\n",
       "      <td>NaN</td>\n",
       "      <td>NaN</td>\n",
       "      <td>Minnesota parents fear for son detained by Rus...</td>\n",
       "      <td>2022-03-18 15:05:00+00:00</td>\n",
       "      <td>30</td>\n",
       "      <td>25</td>\n",
       "      <td>66</td>\n",
       "      <td>0</td>\n",
       "      <td>1504836271847391248</td>\n",
       "      <td>NaN</td>\n",
       "      <td>False</td>\n",
       "      <td>False</td>\n",
       "      <td>False</td>\n",
       "      <td>False</td>\n",
       "      <td>NaN</td>\n",
       "      <td>minnesota parents fear son detained russian fo...</td>\n",
       "    </tr>\n",
       "    <tr>\n",
       "      <th>10</th>\n",
       "      <td>1367531</td>\n",
       "      <td>FoxNews</td>\n",
       "      <td>20946694</td>\n",
       "      <td>456439</td>\n",
       "      <td>NaN</td>\n",
       "      <td>NaN</td>\n",
       "      <td>New York Times scolded for handling of Hunter ...</td>\n",
       "      <td>2022-03-18 15:00:03+00:00</td>\n",
       "      <td>46</td>\n",
       "      <td>81</td>\n",
       "      <td>178</td>\n",
       "      <td>9</td>\n",
       "      <td>1504835027531550721</td>\n",
       "      <td>NaN</td>\n",
       "      <td>False</td>\n",
       "      <td>False</td>\n",
       "      <td>False</td>\n",
       "      <td>False</td>\n",
       "      <td>NaN</td>\n",
       "      <td>new york times scolded handling hunter biden l...</td>\n",
       "    </tr>\n",
       "    <tr>\n",
       "      <th>11</th>\n",
       "      <td>1367531</td>\n",
       "      <td>FoxNews</td>\n",
       "      <td>20946694</td>\n",
       "      <td>456439</td>\n",
       "      <td>NaN</td>\n",
       "      <td>NaN</td>\n",
       "      <td>Volkswagen recalling 223,000 SUVs for braking ...</td>\n",
       "      <td>2022-03-18 14:55:00+00:00</td>\n",
       "      <td>20</td>\n",
       "      <td>11</td>\n",
       "      <td>35</td>\n",
       "      <td>3</td>\n",
       "      <td>1504833754812100609</td>\n",
       "      <td>NaN</td>\n",
       "      <td>False</td>\n",
       "      <td>False</td>\n",
       "      <td>False</td>\n",
       "      <td>False</td>\n",
       "      <td>NaN</td>\n",
       "      <td>volkswagen recalling 223,000 suvs braking airb...</td>\n",
       "    </tr>\n",
       "    <tr>\n",
       "      <th>12</th>\n",
       "      <td>1367531</td>\n",
       "      <td>FoxNews</td>\n",
       "      <td>20946694</td>\n",
       "      <td>456439</td>\n",
       "      <td>NaN</td>\n",
       "      <td>NaN</td>\n",
       "      <td>Brittney Griner's Russia detention: US State D...</td>\n",
       "      <td>2022-03-18 14:50:00+00:00</td>\n",
       "      <td>18</td>\n",
       "      <td>34</td>\n",
       "      <td>53</td>\n",
       "      <td>5</td>\n",
       "      <td>1504832496600506370</td>\n",
       "      <td>NaN</td>\n",
       "      <td>False</td>\n",
       "      <td>False</td>\n",
       "      <td>False</td>\n",
       "      <td>False</td>\n",
       "      <td>NaN</td>\n",
       "      <td>brittney griner russia detention state departm...</td>\n",
       "    </tr>\n",
       "    <tr>\n",
       "      <th>13</th>\n",
       "      <td>1367531</td>\n",
       "      <td>FoxNews</td>\n",
       "      <td>20946694</td>\n",
       "      <td>456439</td>\n",
       "      <td>NaN</td>\n",
       "      <td>NaN</td>\n",
       "      <td>Democratic committee chair calls oil CEOs to t...</td>\n",
       "      <td>2022-03-18 14:45:00+00:00</td>\n",
       "      <td>15</td>\n",
       "      <td>24</td>\n",
       "      <td>34</td>\n",
       "      <td>1</td>\n",
       "      <td>1504831238510563330</td>\n",
       "      <td>NaN</td>\n",
       "      <td>False</td>\n",
       "      <td>False</td>\n",
       "      <td>False</td>\n",
       "      <td>False</td>\n",
       "      <td>NaN</td>\n",
       "      <td>democratic committee chair calls oil ceos test...</td>\n",
       "    </tr>\n",
       "    <tr>\n",
       "      <th>14</th>\n",
       "      <td>1367531</td>\n",
       "      <td>FoxNews</td>\n",
       "      <td>20946694</td>\n",
       "      <td>456439</td>\n",
       "      <td>NaN</td>\n",
       "      <td>NaN</td>\n",
       "      <td>West Texas wildfires prompt evacuations amid d...</td>\n",
       "      <td>2022-03-18 14:40:00+00:00</td>\n",
       "      <td>17</td>\n",
       "      <td>10</td>\n",
       "      <td>47</td>\n",
       "      <td>1</td>\n",
       "      <td>1504829980043362309</td>\n",
       "      <td>NaN</td>\n",
       "      <td>False</td>\n",
       "      <td>False</td>\n",
       "      <td>False</td>\n",
       "      <td>False</td>\n",
       "      <td>NaN</td>\n",
       "      <td>west texas wildfires prompt evacuations amid d...</td>\n",
       "    </tr>\n",
       "    <tr>\n",
       "      <th>15</th>\n",
       "      <td>1367531</td>\n",
       "      <td>FoxNews</td>\n",
       "      <td>20946694</td>\n",
       "      <td>456439</td>\n",
       "      <td>NaN</td>\n",
       "      <td>NaN</td>\n",
       "      <td>Ukraine's refugee children: Amid the war, how ...</td>\n",
       "      <td>2022-03-18 14:36:59+00:00</td>\n",
       "      <td>28</td>\n",
       "      <td>27</td>\n",
       "      <td>91</td>\n",
       "      <td>1</td>\n",
       "      <td>1504829221708967939</td>\n",
       "      <td>NaN</td>\n",
       "      <td>False</td>\n",
       "      <td>False</td>\n",
       "      <td>False</td>\n",
       "      <td>False</td>\n",
       "      <td>NaN</td>\n",
       "      <td>ukraine refugee children amid war help kids su...</td>\n",
       "    </tr>\n",
       "    <tr>\n",
       "      <th>16</th>\n",
       "      <td>1367531</td>\n",
       "      <td>FoxNews</td>\n",
       "      <td>20946694</td>\n",
       "      <td>456439</td>\n",
       "      <td>NaN</td>\n",
       "      <td>NaN</td>\n",
       "      <td>AOC claims 'high correlation' between fossil f...</td>\n",
       "      <td>2022-03-18 14:30:01+00:00</td>\n",
       "      <td>23</td>\n",
       "      <td>246</td>\n",
       "      <td>101</td>\n",
       "      <td>28</td>\n",
       "      <td>1504827466677858308</td>\n",
       "      <td>NaN</td>\n",
       "      <td>False</td>\n",
       "      <td>False</td>\n",
       "      <td>False</td>\n",
       "      <td>False</td>\n",
       "      <td>NaN</td>\n",
       "      <td>aoc claims 'high correlation fossil fuels viol...</td>\n",
       "    </tr>\n",
       "    <tr>\n",
       "      <th>17</th>\n",
       "      <td>1367531</td>\n",
       "      <td>FoxNews</td>\n",
       "      <td>20946694</td>\n",
       "      <td>456439</td>\n",
       "      <td>NaN</td>\n",
       "      <td>NaN</td>\n",
       "      <td>.@JesseBWatters: Nearly the biggest disinforma...</td>\n",
       "      <td>2022-03-18 14:20:00+00:00</td>\n",
       "      <td>75</td>\n",
       "      <td>109</td>\n",
       "      <td>344</td>\n",
       "      <td>6</td>\n",
       "      <td>1504824947406946316</td>\n",
       "      <td>NaN</td>\n",
       "      <td>False</td>\n",
       "      <td>True</td>\n",
       "      <td>False</td>\n",
       "      <td>False</td>\n",
       "      <td>NaN</td>\n",
       "      <td>nearly biggest disinformation campaign america...</td>\n",
       "    </tr>\n",
       "  </tbody>\n",
       "</table>\n",
       "</div>"
      ],
      "text/plain": [
       "    author_id username  author_followers  author_tweets  author_description  \\\n",
       "0     1367531  FoxNews          20946694         456439                 NaN   \n",
       "1     1367531  FoxNews          20946694         456439                 NaN   \n",
       "2     1367531  FoxNews          20946694         456439                 NaN   \n",
       "3     1367531  FoxNews          20946694         456439                 NaN   \n",
       "4     1367531  FoxNews          20946694         456439                 NaN   \n",
       "5     1367531  FoxNews          20946694         456439                 NaN   \n",
       "6     1367531  FoxNews          20946694         456439                 NaN   \n",
       "7     1367531  FoxNews          20946694         456439                 NaN   \n",
       "8     1367531  FoxNews          20946694         456439                 NaN   \n",
       "9     1367531  FoxNews          20946694         456439                 NaN   \n",
       "10    1367531  FoxNews          20946694         456439                 NaN   \n",
       "11    1367531  FoxNews          20946694         456439                 NaN   \n",
       "12    1367531  FoxNews          20946694         456439                 NaN   \n",
       "13    1367531  FoxNews          20946694         456439                 NaN   \n",
       "14    1367531  FoxNews          20946694         456439                 NaN   \n",
       "15    1367531  FoxNews          20946694         456439                 NaN   \n",
       "16    1367531  FoxNews          20946694         456439                 NaN   \n",
       "17    1367531  FoxNews          20946694         456439                 NaN   \n",
       "\n",
       "    author_location                                               text  \\\n",
       "0               NaN  FLASHBACK: Ex-intel officials claimed the Hunt...   \n",
       "1               NaN  Biden must do more to counter Putin's propagan...   \n",
       "2               NaN  NASCAR: What to expect from Atlanta's super ne...   \n",
       "3               NaN  BREAKING: Biden, Xi discuss Russia's war again...   \n",
       "4               NaN  Transgender swimmer's NCAA championship win 'j...   \n",
       "5               NaN  Fed's Bullard says interest rates need to rise...   \n",
       "6               NaN  Hunter Biden scandal: Media slowly acknowledge...   \n",
       "7               NaN  Russia says Biden spouting 'personal insults' ...   \n",
       "8               NaN  Ukraine supply chain 'falling apart' amid grow...   \n",
       "9               NaN  Minnesota parents fear for son detained by Rus...   \n",
       "10              NaN  New York Times scolded for handling of Hunter ...   \n",
       "11              NaN  Volkswagen recalling 223,000 SUVs for braking ...   \n",
       "12              NaN  Brittney Griner's Russia detention: US State D...   \n",
       "13              NaN  Democratic committee chair calls oil CEOs to t...   \n",
       "14              NaN  West Texas wildfires prompt evacuations amid d...   \n",
       "15              NaN  Ukraine's refugee children: Amid the war, how ...   \n",
       "16              NaN  AOC claims 'high correlation' between fossil f...   \n",
       "17              NaN  .@JesseBWatters: Nearly the biggest disinforma...   \n",
       "\n",
       "                   created_at  retweets  replies  likes  quote_count  \\\n",
       "0   2022-03-18 15:50:00+00:00        26       39     68            0   \n",
       "1   2022-03-18 15:45:00+00:00        23       94     92            7   \n",
       "2   2022-03-18 15:40:00+00:00        10        9     21            0   \n",
       "3   2022-03-18 15:34:43+00:00        33       71     87            3   \n",
       "4   2022-03-18 15:30:00+00:00        51       69    254            4   \n",
       "5   2022-03-18 15:25:00+00:00         8       22     31            3   \n",
       "6   2022-03-18 15:20:00+00:00       103       85    280            6   \n",
       "7   2022-03-18 15:15:00+00:00        27      133     95            4   \n",
       "8   2022-03-18 15:10:00+00:00        20       19     52            4   \n",
       "9   2022-03-18 15:05:00+00:00        30       25     66            0   \n",
       "10  2022-03-18 15:00:03+00:00        46       81    178            9   \n",
       "11  2022-03-18 14:55:00+00:00        20       11     35            3   \n",
       "12  2022-03-18 14:50:00+00:00        18       34     53            5   \n",
       "13  2022-03-18 14:45:00+00:00        15       24     34            1   \n",
       "14  2022-03-18 14:40:00+00:00        17       10     47            1   \n",
       "15  2022-03-18 14:36:59+00:00        28       27     91            1   \n",
       "16  2022-03-18 14:30:01+00:00        23      246    101           28   \n",
       "17  2022-03-18 14:20:00+00:00        75      109    344            6   \n",
       "\n",
       "               tweet_id  reference_status    NYT  mentions  breaking   hash  \\\n",
       "0   1504847596006821894               NaN  False     False     False  False   \n",
       "1   1504846338097221635               NaN  False     False     False  False   \n",
       "2   1504845079344820224               NaN  False     False     False  False   \n",
       "3   1504843752426323990               NaN  False     False      True  False   \n",
       "4   1504842564117024770               NaN  False     False     False  False   \n",
       "5   1504841304429137920               NaN  False     False     False  False   \n",
       "6   1504840046272303105               NaN  False     False     False  False   \n",
       "7   1504838788408774658               NaN  False     False     False  False   \n",
       "8   1504837529714921475               NaN  False     False     False  False   \n",
       "9   1504836271847391248               NaN  False     False     False  False   \n",
       "10  1504835027531550721               NaN  False     False     False  False   \n",
       "11  1504833754812100609               NaN  False     False     False  False   \n",
       "12  1504832496600506370               NaN  False     False     False  False   \n",
       "13  1504831238510563330               NaN  False     False     False  False   \n",
       "14  1504829980043362309               NaN  False     False     False  False   \n",
       "15  1504829221708967939               NaN  False     False     False  False   \n",
       "16  1504827466677858308               NaN  False     False     False  False   \n",
       "17  1504824947406946316               NaN  False      True     False  False   \n",
       "\n",
       "   hashtags                                          prep_text  \n",
       "0       NaN  ex-intel officials claimed hunter biden laptop...  \n",
       "1       NaN                biden must counter putin propaganda  \n",
       "2       NaN           nascar expect atlanta super new speedway  \n",
       "3       NaN  biden xi discuss russia war ukraine 'other iss...  \n",
       "4       NaN  transgender swimmer ncaa championship win 'jus...  \n",
       "5       NaN  fed bullard interest rates need rise 3 quell i...  \n",
       "6       NaN  hunter biden scandal media slowly acknowledges...  \n",
       "7       NaN  russia biden spouting 'personal insults putin ...  \n",
       "8       NaN  ukraine supply chain 'falling apart amid growi...  \n",
       "9       NaN  minnesota parents fear son detained russian fo...  \n",
       "10      NaN  new york times scolded handling hunter biden l...  \n",
       "11      NaN  volkswagen recalling 223,000 suvs braking airb...  \n",
       "12      NaN  brittney griner russia detention state departm...  \n",
       "13      NaN  democratic committee chair calls oil ceos test...  \n",
       "14      NaN  west texas wildfires prompt evacuations amid d...  \n",
       "15      NaN  ukraine refugee children amid war help kids su...  \n",
       "16      NaN  aoc claims 'high correlation fossil fuels viol...  \n",
       "17      NaN  nearly biggest disinformation campaign america...  "
      ]
     },
     "execution_count": 24,
     "metadata": {},
     "output_type": "execute_result"
    }
   ],
   "source": [
    "tweets.head(18)"
   ]
  },
  {
   "cell_type": "markdown",
   "id": "9d68ec8d",
   "metadata": {},
   "source": [
    "Let's look into our missing and zero values in this dataframe"
   ]
  },
  {
   "cell_type": "code",
   "execution_count": 25,
   "id": "a9306c22",
   "metadata": {},
   "outputs": [],
   "source": [
    "#Function to define table with missing values\n",
    "def missing_zero_values_table(df):\n",
    "        zero_val = (df == 0.00).astype(int).sum(axis=0)\n",
    "        mis_val = df.isnull().sum()\n",
    "        mis_val_percent = 100 * df.isnull().sum() / len(df)\n",
    "        mz_table = pd.concat([zero_val, mis_val, mis_val_percent], axis=1)\n",
    "        mz_table = mz_table.rename(\n",
    "        columns = {0 : 'Zero Values', 1 : 'Missing Values', 2 : '% of Total Values'})\n",
    "        mz_table['Total Zero Missing Values'] = mz_table['Zero Values'] + mz_table['Missing Values']\n",
    "        mz_table['% Total Zero Missing Values'] = 100 * mz_table['Total Zero Missing Values'] / len(df)\n",
    "        mz_table['Data Type'] = df.dtypes\n",
    "        mz_table = mz_table[\n",
    "            mz_table.iloc[:,1] != 0].sort_values(\n",
    "        '% of Total Values', ascending=False).round(1)\n",
    "        print (\"Your selected dataframe has \" + str(df.shape[1]) + \" columns and \" + str(df.shape[0]) + \" Rows.\\n\"      \n",
    "            \"There are \" + str(mz_table.shape[0]) +\n",
    "              \" columns that have missing values.\")\n",
    "#         mz_table.to_excel('D:/sampledata/missing_and_zero_values.xlsx', freeze_panes=(1,0), index = False)\n",
    "        return mz_table"
   ]
  },
  {
   "cell_type": "code",
   "execution_count": 26,
   "id": "4445f6ab",
   "metadata": {},
   "outputs": [
    {
     "name": "stdout",
     "output_type": "stream",
     "text": [
      "Your selected dataframe has 20 columns and 1952 Rows.\n",
      "There are 4 columns that have missing values.\n"
     ]
    },
    {
     "data": {
      "text/html": [
       "<div>\n",
       "<style scoped>\n",
       "    .dataframe tbody tr th:only-of-type {\n",
       "        vertical-align: middle;\n",
       "    }\n",
       "\n",
       "    .dataframe tbody tr th {\n",
       "        vertical-align: top;\n",
       "    }\n",
       "\n",
       "    .dataframe thead th {\n",
       "        text-align: right;\n",
       "    }\n",
       "</style>\n",
       "<table border=\"1\" class=\"dataframe\">\n",
       "  <thead>\n",
       "    <tr style=\"text-align: right;\">\n",
       "      <th></th>\n",
       "      <th>Zero Values</th>\n",
       "      <th>Missing Values</th>\n",
       "      <th>% of Total Values</th>\n",
       "      <th>Total Zero Missing Values</th>\n",
       "      <th>% Total Zero Missing Values</th>\n",
       "      <th>Data Type</th>\n",
       "    </tr>\n",
       "  </thead>\n",
       "  <tbody>\n",
       "    <tr>\n",
       "      <th>author_description</th>\n",
       "      <td>0</td>\n",
       "      <td>1952</td>\n",
       "      <td>100.0</td>\n",
       "      <td>1952</td>\n",
       "      <td>100.0</td>\n",
       "      <td>float64</td>\n",
       "    </tr>\n",
       "    <tr>\n",
       "      <th>author_location</th>\n",
       "      <td>0</td>\n",
       "      <td>1952</td>\n",
       "      <td>100.0</td>\n",
       "      <td>1952</td>\n",
       "      <td>100.0</td>\n",
       "      <td>float64</td>\n",
       "    </tr>\n",
       "    <tr>\n",
       "      <th>reference_status</th>\n",
       "      <td>0</td>\n",
       "      <td>1952</td>\n",
       "      <td>100.0</td>\n",
       "      <td>1952</td>\n",
       "      <td>100.0</td>\n",
       "      <td>float64</td>\n",
       "    </tr>\n",
       "    <tr>\n",
       "      <th>hashtags</th>\n",
       "      <td>0</td>\n",
       "      <td>1943</td>\n",
       "      <td>99.5</td>\n",
       "      <td>1943</td>\n",
       "      <td>99.5</td>\n",
       "      <td>object</td>\n",
       "    </tr>\n",
       "  </tbody>\n",
       "</table>\n",
       "</div>"
      ],
      "text/plain": [
       "                    Zero Values  Missing Values  % of Total Values  \\\n",
       "author_description            0            1952              100.0   \n",
       "author_location               0            1952              100.0   \n",
       "reference_status              0            1952              100.0   \n",
       "hashtags                      0            1943               99.5   \n",
       "\n",
       "                    Total Zero Missing Values  % Total Zero Missing Values  \\\n",
       "author_description                       1952                        100.0   \n",
       "author_location                          1952                        100.0   \n",
       "reference_status                         1952                        100.0   \n",
       "hashtags                                 1943                         99.5   \n",
       "\n",
       "                   Data Type  \n",
       "author_description   float64  \n",
       "author_location      float64  \n",
       "reference_status     float64  \n",
       "hashtags              object  "
      ]
     },
     "execution_count": 26,
     "metadata": {},
     "output_type": "execute_result"
    }
   ],
   "source": [
    "missing_zero_values_table(tweets)"
   ]
  },
  {
   "cell_type": "markdown",
   "id": "07bd3c7c",
   "metadata": {},
   "source": [
    "As we can see, the missing values we have in this database are for sure not missing at random. Basically 3 columns don't have any data at all, we just drop them. The column with hashtags we keep for now. Although apparently absolute most of the tweets didn't contain any hashtags"
   ]
  },
  {
   "cell_type": "code",
   "execution_count": 27,
   "id": "d87a6584",
   "metadata": {},
   "outputs": [],
   "source": [
    "tweets = tweets.drop(labels = ['author_description', 'author_location','reference_status'], axis = 1)"
   ]
  },
  {
   "cell_type": "code",
   "execution_count": 28,
   "id": "a93c4411",
   "metadata": {},
   "outputs": [
    {
     "data": {
      "text/plain": [
       "Index(['author_id', 'username', 'author_followers', 'author_tweets', 'text',\n",
       "       'created_at', 'retweets', 'replies', 'likes', 'quote_count', 'tweet_id',\n",
       "       'NYT', 'mentions', 'breaking', 'hash', 'hashtags', 'prep_text'],\n",
       "      dtype='object')"
      ]
     },
     "execution_count": 28,
     "metadata": {},
     "output_type": "execute_result"
    }
   ],
   "source": [
    "tweets.columns"
   ]
  },
  {
   "cell_type": "code",
   "execution_count": 29,
   "id": "3cb205af",
   "metadata": {
    "colab": {
     "base_uri": "https://localhost:8080/",
     "height": 35
    },
    "id": "3cb205af",
    "outputId": "ed52721a-43d8-466c-9336-d1b52f7b7609"
   },
   "outputs": [
    {
     "data": {
      "text/plain": [
       "\"Biden must do more to counter Putin's propaganda https://t.co/wzxpVAfryB\""
      ]
     },
     "execution_count": 29,
     "metadata": {},
     "output_type": "execute_result"
    }
   ],
   "source": [
    "tweets[\"text\"][1]"
   ]
  },
  {
   "cell_type": "code",
   "execution_count": 30,
   "id": "41b00ad1",
   "metadata": {
    "colab": {
     "base_uri": "https://localhost:8080/",
     "height": 35
    },
    "id": "41b00ad1",
    "outputId": "adda7f97-56c1-40ba-ad3a-5cdbdc86115a"
   },
   "outputs": [
    {
     "data": {
      "text/plain": [
       "'biden must counter putin propaganda'"
      ]
     },
     "execution_count": 30,
     "metadata": {},
     "output_type": "execute_result"
    }
   ],
   "source": [
    "tweets[\"prep_text\"][1]"
   ]
  },
  {
   "cell_type": "markdown",
   "id": "181f8471",
   "metadata": {
    "id": "b3f57912"
   },
   "source": [
    "Let's create tf-idf"
   ]
  },
  {
   "cell_type": "code",
   "execution_count": 31,
   "id": "1d9e026e",
   "metadata": {
    "id": "1d9e026e"
   },
   "outputs": [],
   "source": [
    "vectorizer = TfidfVectorizer(token_pattern=r'(?u)\\b[A-Za-z]+\\b', stop_words=stopwords_final)\n",
    "dtm_tfidf = vectorizer.fit_transform(tweets[\"prep_text\"])\n",
    "df_tfidf = pd.DataFrame(dtm_tfidf.toarray(), columns=vectorizer.get_feature_names())"
   ]
  },
  {
   "cell_type": "code",
   "execution_count": 32,
   "id": "b76eadc1",
   "metadata": {
    "colab": {
     "base_uri": "https://localhost:8080/",
     "height": 423
    },
    "id": "b76eadc1",
    "outputId": "15fa4937-0ba4-49cb-f002-3f38bac0c45e"
   },
   "outputs": [
    {
     "data": {
      "text/html": [
       "<div>\n",
       "<style scoped>\n",
       "    .dataframe tbody tr th:only-of-type {\n",
       "        vertical-align: middle;\n",
       "    }\n",
       "\n",
       "    .dataframe tbody tr th {\n",
       "        vertical-align: top;\n",
       "    }\n",
       "\n",
       "    .dataframe thead th {\n",
       "        text-align: right;\n",
       "    }\n",
       "</style>\n",
       "<table border=\"1\" class=\"dataframe\">\n",
       "  <thead>\n",
       "    <tr style=\"text-align: right;\">\n",
       "      <th></th>\n",
       "      <th>abandon</th>\n",
       "      <th>abandoned</th>\n",
       "      <th>abbott</th>\n",
       "      <th>abc</th>\n",
       "      <th>abducted</th>\n",
       "      <th>ablaze</th>\n",
       "      <th>able</th>\n",
       "      <th>aboard</th>\n",
       "      <th>abortion</th>\n",
       "      <th>abortions</th>\n",
       "      <th>...</th>\n",
       "      <th>zealand</th>\n",
       "      <th>zelensky</th>\n",
       "      <th>zelenskyy</th>\n",
       "      <th>zero</th>\n",
       "      <th>zeynep</th>\n",
       "      <th>zients</th>\n",
       "      <th>zippy</th>\n",
       "      <th>zone</th>\n",
       "      <th>zones</th>\n",
       "      <th>zookeeper</th>\n",
       "    </tr>\n",
       "  </thead>\n",
       "  <tbody>\n",
       "    <tr>\n",
       "      <th>0</th>\n",
       "      <td>0.0</td>\n",
       "      <td>0.0</td>\n",
       "      <td>0.0</td>\n",
       "      <td>0.0</td>\n",
       "      <td>0.0</td>\n",
       "      <td>0.0</td>\n",
       "      <td>0.0</td>\n",
       "      <td>0.0</td>\n",
       "      <td>0.0</td>\n",
       "      <td>0.0</td>\n",
       "      <td>...</td>\n",
       "      <td>0.0</td>\n",
       "      <td>0.0</td>\n",
       "      <td>0.0</td>\n",
       "      <td>0.0</td>\n",
       "      <td>0.0</td>\n",
       "      <td>0.0</td>\n",
       "      <td>0.0</td>\n",
       "      <td>0.0</td>\n",
       "      <td>0.0</td>\n",
       "      <td>0.0</td>\n",
       "    </tr>\n",
       "    <tr>\n",
       "      <th>1</th>\n",
       "      <td>0.0</td>\n",
       "      <td>0.0</td>\n",
       "      <td>0.0</td>\n",
       "      <td>0.0</td>\n",
       "      <td>0.0</td>\n",
       "      <td>0.0</td>\n",
       "      <td>0.0</td>\n",
       "      <td>0.0</td>\n",
       "      <td>0.0</td>\n",
       "      <td>0.0</td>\n",
       "      <td>...</td>\n",
       "      <td>0.0</td>\n",
       "      <td>0.0</td>\n",
       "      <td>0.0</td>\n",
       "      <td>0.0</td>\n",
       "      <td>0.0</td>\n",
       "      <td>0.0</td>\n",
       "      <td>0.0</td>\n",
       "      <td>0.0</td>\n",
       "      <td>0.0</td>\n",
       "      <td>0.0</td>\n",
       "    </tr>\n",
       "    <tr>\n",
       "      <th>2</th>\n",
       "      <td>0.0</td>\n",
       "      <td>0.0</td>\n",
       "      <td>0.0</td>\n",
       "      <td>0.0</td>\n",
       "      <td>0.0</td>\n",
       "      <td>0.0</td>\n",
       "      <td>0.0</td>\n",
       "      <td>0.0</td>\n",
       "      <td>0.0</td>\n",
       "      <td>0.0</td>\n",
       "      <td>...</td>\n",
       "      <td>0.0</td>\n",
       "      <td>0.0</td>\n",
       "      <td>0.0</td>\n",
       "      <td>0.0</td>\n",
       "      <td>0.0</td>\n",
       "      <td>0.0</td>\n",
       "      <td>0.0</td>\n",
       "      <td>0.0</td>\n",
       "      <td>0.0</td>\n",
       "      <td>0.0</td>\n",
       "    </tr>\n",
       "    <tr>\n",
       "      <th>3</th>\n",
       "      <td>0.0</td>\n",
       "      <td>0.0</td>\n",
       "      <td>0.0</td>\n",
       "      <td>0.0</td>\n",
       "      <td>0.0</td>\n",
       "      <td>0.0</td>\n",
       "      <td>0.0</td>\n",
       "      <td>0.0</td>\n",
       "      <td>0.0</td>\n",
       "      <td>0.0</td>\n",
       "      <td>...</td>\n",
       "      <td>0.0</td>\n",
       "      <td>0.0</td>\n",
       "      <td>0.0</td>\n",
       "      <td>0.0</td>\n",
       "      <td>0.0</td>\n",
       "      <td>0.0</td>\n",
       "      <td>0.0</td>\n",
       "      <td>0.0</td>\n",
       "      <td>0.0</td>\n",
       "      <td>0.0</td>\n",
       "    </tr>\n",
       "    <tr>\n",
       "      <th>4</th>\n",
       "      <td>0.0</td>\n",
       "      <td>0.0</td>\n",
       "      <td>0.0</td>\n",
       "      <td>0.0</td>\n",
       "      <td>0.0</td>\n",
       "      <td>0.0</td>\n",
       "      <td>0.0</td>\n",
       "      <td>0.0</td>\n",
       "      <td>0.0</td>\n",
       "      <td>0.0</td>\n",
       "      <td>...</td>\n",
       "      <td>0.0</td>\n",
       "      <td>0.0</td>\n",
       "      <td>0.0</td>\n",
       "      <td>0.0</td>\n",
       "      <td>0.0</td>\n",
       "      <td>0.0</td>\n",
       "      <td>0.0</td>\n",
       "      <td>0.0</td>\n",
       "      <td>0.0</td>\n",
       "      <td>0.0</td>\n",
       "    </tr>\n",
       "    <tr>\n",
       "      <th>...</th>\n",
       "      <td>...</td>\n",
       "      <td>...</td>\n",
       "      <td>...</td>\n",
       "      <td>...</td>\n",
       "      <td>...</td>\n",
       "      <td>...</td>\n",
       "      <td>...</td>\n",
       "      <td>...</td>\n",
       "      <td>...</td>\n",
       "      <td>...</td>\n",
       "      <td>...</td>\n",
       "      <td>...</td>\n",
       "      <td>...</td>\n",
       "      <td>...</td>\n",
       "      <td>...</td>\n",
       "      <td>...</td>\n",
       "      <td>...</td>\n",
       "      <td>...</td>\n",
       "      <td>...</td>\n",
       "      <td>...</td>\n",
       "      <td>...</td>\n",
       "    </tr>\n",
       "    <tr>\n",
       "      <th>1947</th>\n",
       "      <td>0.0</td>\n",
       "      <td>0.0</td>\n",
       "      <td>0.0</td>\n",
       "      <td>0.0</td>\n",
       "      <td>0.0</td>\n",
       "      <td>0.0</td>\n",
       "      <td>0.0</td>\n",
       "      <td>0.0</td>\n",
       "      <td>0.0</td>\n",
       "      <td>0.0</td>\n",
       "      <td>...</td>\n",
       "      <td>0.0</td>\n",
       "      <td>0.0</td>\n",
       "      <td>0.0</td>\n",
       "      <td>0.0</td>\n",
       "      <td>0.0</td>\n",
       "      <td>0.0</td>\n",
       "      <td>0.0</td>\n",
       "      <td>0.0</td>\n",
       "      <td>0.0</td>\n",
       "      <td>0.0</td>\n",
       "    </tr>\n",
       "    <tr>\n",
       "      <th>1948</th>\n",
       "      <td>0.0</td>\n",
       "      <td>0.0</td>\n",
       "      <td>0.0</td>\n",
       "      <td>0.0</td>\n",
       "      <td>0.0</td>\n",
       "      <td>0.0</td>\n",
       "      <td>0.0</td>\n",
       "      <td>0.0</td>\n",
       "      <td>0.0</td>\n",
       "      <td>0.0</td>\n",
       "      <td>...</td>\n",
       "      <td>0.0</td>\n",
       "      <td>0.0</td>\n",
       "      <td>0.0</td>\n",
       "      <td>0.0</td>\n",
       "      <td>0.0</td>\n",
       "      <td>0.0</td>\n",
       "      <td>0.0</td>\n",
       "      <td>0.0</td>\n",
       "      <td>0.0</td>\n",
       "      <td>0.0</td>\n",
       "    </tr>\n",
       "    <tr>\n",
       "      <th>1949</th>\n",
       "      <td>0.0</td>\n",
       "      <td>0.0</td>\n",
       "      <td>0.0</td>\n",
       "      <td>0.0</td>\n",
       "      <td>0.0</td>\n",
       "      <td>0.0</td>\n",
       "      <td>0.0</td>\n",
       "      <td>0.0</td>\n",
       "      <td>0.0</td>\n",
       "      <td>0.0</td>\n",
       "      <td>...</td>\n",
       "      <td>0.0</td>\n",
       "      <td>0.0</td>\n",
       "      <td>0.0</td>\n",
       "      <td>0.0</td>\n",
       "      <td>0.0</td>\n",
       "      <td>0.0</td>\n",
       "      <td>0.0</td>\n",
       "      <td>0.0</td>\n",
       "      <td>0.0</td>\n",
       "      <td>0.0</td>\n",
       "    </tr>\n",
       "    <tr>\n",
       "      <th>1950</th>\n",
       "      <td>0.0</td>\n",
       "      <td>0.0</td>\n",
       "      <td>0.0</td>\n",
       "      <td>0.0</td>\n",
       "      <td>0.0</td>\n",
       "      <td>0.0</td>\n",
       "      <td>0.0</td>\n",
       "      <td>0.0</td>\n",
       "      <td>0.0</td>\n",
       "      <td>0.0</td>\n",
       "      <td>...</td>\n",
       "      <td>0.0</td>\n",
       "      <td>0.0</td>\n",
       "      <td>0.0</td>\n",
       "      <td>0.0</td>\n",
       "      <td>0.0</td>\n",
       "      <td>0.0</td>\n",
       "      <td>0.0</td>\n",
       "      <td>0.0</td>\n",
       "      <td>0.0</td>\n",
       "      <td>0.0</td>\n",
       "    </tr>\n",
       "    <tr>\n",
       "      <th>1951</th>\n",
       "      <td>0.0</td>\n",
       "      <td>0.0</td>\n",
       "      <td>0.0</td>\n",
       "      <td>0.0</td>\n",
       "      <td>0.0</td>\n",
       "      <td>0.0</td>\n",
       "      <td>0.0</td>\n",
       "      <td>0.0</td>\n",
       "      <td>0.0</td>\n",
       "      <td>0.0</td>\n",
       "      <td>...</td>\n",
       "      <td>0.0</td>\n",
       "      <td>0.0</td>\n",
       "      <td>0.0</td>\n",
       "      <td>0.0</td>\n",
       "      <td>0.0</td>\n",
       "      <td>0.0</td>\n",
       "      <td>0.0</td>\n",
       "      <td>0.0</td>\n",
       "      <td>0.0</td>\n",
       "      <td>0.0</td>\n",
       "    </tr>\n",
       "  </tbody>\n",
       "</table>\n",
       "<p>1952 rows × 6302 columns</p>\n",
       "</div>"
      ],
      "text/plain": [
       "      abandon  abandoned  abbott  abc  abducted  ablaze  able  aboard  \\\n",
       "0         0.0        0.0     0.0  0.0       0.0     0.0   0.0     0.0   \n",
       "1         0.0        0.0     0.0  0.0       0.0     0.0   0.0     0.0   \n",
       "2         0.0        0.0     0.0  0.0       0.0     0.0   0.0     0.0   \n",
       "3         0.0        0.0     0.0  0.0       0.0     0.0   0.0     0.0   \n",
       "4         0.0        0.0     0.0  0.0       0.0     0.0   0.0     0.0   \n",
       "...       ...        ...     ...  ...       ...     ...   ...     ...   \n",
       "1947      0.0        0.0     0.0  0.0       0.0     0.0   0.0     0.0   \n",
       "1948      0.0        0.0     0.0  0.0       0.0     0.0   0.0     0.0   \n",
       "1949      0.0        0.0     0.0  0.0       0.0     0.0   0.0     0.0   \n",
       "1950      0.0        0.0     0.0  0.0       0.0     0.0   0.0     0.0   \n",
       "1951      0.0        0.0     0.0  0.0       0.0     0.0   0.0     0.0   \n",
       "\n",
       "      abortion  abortions  ...  zealand  zelensky  zelenskyy  zero  zeynep  \\\n",
       "0          0.0        0.0  ...      0.0       0.0        0.0   0.0     0.0   \n",
       "1          0.0        0.0  ...      0.0       0.0        0.0   0.0     0.0   \n",
       "2          0.0        0.0  ...      0.0       0.0        0.0   0.0     0.0   \n",
       "3          0.0        0.0  ...      0.0       0.0        0.0   0.0     0.0   \n",
       "4          0.0        0.0  ...      0.0       0.0        0.0   0.0     0.0   \n",
       "...        ...        ...  ...      ...       ...        ...   ...     ...   \n",
       "1947       0.0        0.0  ...      0.0       0.0        0.0   0.0     0.0   \n",
       "1948       0.0        0.0  ...      0.0       0.0        0.0   0.0     0.0   \n",
       "1949       0.0        0.0  ...      0.0       0.0        0.0   0.0     0.0   \n",
       "1950       0.0        0.0  ...      0.0       0.0        0.0   0.0     0.0   \n",
       "1951       0.0        0.0  ...      0.0       0.0        0.0   0.0     0.0   \n",
       "\n",
       "      zients  zippy  zone  zones  zookeeper  \n",
       "0        0.0    0.0   0.0    0.0        0.0  \n",
       "1        0.0    0.0   0.0    0.0        0.0  \n",
       "2        0.0    0.0   0.0    0.0        0.0  \n",
       "3        0.0    0.0   0.0    0.0        0.0  \n",
       "4        0.0    0.0   0.0    0.0        0.0  \n",
       "...      ...    ...   ...    ...        ...  \n",
       "1947     0.0    0.0   0.0    0.0        0.0  \n",
       "1948     0.0    0.0   0.0    0.0        0.0  \n",
       "1949     0.0    0.0   0.0    0.0        0.0  \n",
       "1950     0.0    0.0   0.0    0.0        0.0  \n",
       "1951     0.0    0.0   0.0    0.0        0.0  \n",
       "\n",
       "[1952 rows x 6302 columns]"
      ]
     },
     "execution_count": 32,
     "metadata": {},
     "output_type": "execute_result"
    }
   ],
   "source": [
    "df_tfidf"
   ]
  },
  {
   "cell_type": "markdown",
   "id": "6c3e7ac8",
   "metadata": {
    "id": "27743c6d"
   },
   "source": [
    "# Part 2: Additional Feature Engineering"
   ]
  },
  {
   "cell_type": "markdown",
   "id": "145ee8bb",
   "metadata": {},
   "source": [
    "# Creating popularity and engagement scores"
   ]
  },
  {
   "cell_type": "markdown",
   "id": "cdea6054",
   "metadata": {},
   "source": [
    "Let's define popularity score as: Popularity_score = Retweets + Likes.  "
   ]
  },
  {
   "cell_type": "code",
   "execution_count": 33,
   "id": "3f86278c",
   "metadata": {},
   "outputs": [
    {
     "data": {
      "text/plain": [
       "Index(['author_id', 'username', 'author_followers', 'author_tweets', 'text',\n",
       "       'created_at', 'retweets', 'replies', 'likes', 'quote_count', 'tweet_id',\n",
       "       'NYT', 'mentions', 'breaking', 'hash', 'hashtags', 'prep_text'],\n",
       "      dtype='object')"
      ]
     },
     "execution_count": 33,
     "metadata": {},
     "output_type": "execute_result"
    }
   ],
   "source": [
    "tweets.columns\n"
   ]
  },
  {
   "cell_type": "code",
   "execution_count": 34,
   "id": "ee1ed390",
   "metadata": {},
   "outputs": [],
   "source": [
    "tweets.popularity_score = tweets.retweets + tweets.likes"
   ]
  },
  {
   "cell_type": "markdown",
   "id": "f78522d6",
   "metadata": {},
   "source": [
    "Engagement is different from popularity in a fact that user engages with a tweet (so the user does smth). So let's define engagement score as replies + quote_count. Quote is different from retweet (according to tweeter) in a fact that it is retweet with added comments of the user"
   ]
  },
  {
   "cell_type": "code",
   "execution_count": 35,
   "id": "a0bb4dbe",
   "metadata": {},
   "outputs": [],
   "source": [
    "tweets.engagement_score = tweets.quote_count + tweets.replies"
   ]
  },
  {
   "cell_type": "markdown",
   "id": "25d96b74",
   "metadata": {},
   "source": [
    "Engineering feature for most common hashtags doesn't make sense since the number of hashtags in this corpus is very small as we saw before"
   ]
  },
  {
   "cell_type": "markdown",
   "id": "ef3a5771",
   "metadata": {},
   "source": [
    "# Creating lenght of tweet feature"
   ]
  },
  {
   "cell_type": "markdown",
   "id": "f0fb8314",
   "metadata": {},
   "source": [
    "One important feature may be length of the tweet (probably one outlet usually has shorter tweets etc). So, let's generate feature for this"
   ]
  },
  {
   "cell_type": "code",
   "execution_count": 36,
   "id": "7d95a62d",
   "metadata": {},
   "outputs": [],
   "source": [
    "tweets.len_tweet = tweets.text.apply(len)\n"
   ]
  },
  {
   "cell_type": "code",
   "execution_count": 37,
   "id": "3eae98ec",
   "metadata": {
    "scrolled": true
   },
   "outputs": [
    {
     "data": {
      "text/plain": [
       "<bound method NDFrame.head of 0       118\n",
       "1        72\n",
       "2        80\n",
       "3       131\n",
       "4       110\n",
       "       ... \n",
       "1947    297\n",
       "1948    167\n",
       "1949    264\n",
       "1950    266\n",
       "1951    173\n",
       "Name: text, Length: 1952, dtype: int64>"
      ]
     },
     "execution_count": 37,
     "metadata": {},
     "output_type": "execute_result"
    }
   ],
   "source": [
    "tweets.len_tweet.head"
   ]
  },
  {
   "cell_type": "markdown",
   "id": "bf1369c1",
   "metadata": {},
   "source": [
    "Generating growth of followers on our sample also doesn't make sense because if we look in the data, it barely changed through this time perios. For each of the oulet it is just 3-5 unique values through this time period. For Fox News it changed from 20946694 to 20946697. For NY Times from 52297187 to 52297193, which is barely any difference"
   ]
  },
  {
   "cell_type": "code",
   "execution_count": 38,
   "id": "a584cc38",
   "metadata": {},
   "outputs": [
    {
     "data": {
      "text/plain": [
       "array([20946694, 20946696, 20946697, 52297192, 52297191, 52297187,\n",
       "       52297193, 52297188], dtype=int64)"
      ]
     },
     "execution_count": 38,
     "metadata": {},
     "output_type": "execute_result"
    }
   ],
   "source": [
    "tweets.author_followers.unique()"
   ]
  },
  {
   "cell_type": "markdown",
   "id": "30c3e2b8",
   "metadata": {},
   "source": [
    "# Part 3: Is there a follower- tweet relationship?"
   ]
  },
  {
   "cell_type": "markdown",
   "id": "84d15f7d",
   "metadata": {},
   "source": [
    " The problem is that followers barely changed, so data does not allow to calculate such relationship"
   ]
  },
  {
   "cell_type": "markdown",
   "id": "ff8414d0",
   "metadata": {},
   "source": [
    "# Part 4: What are the most frequent topics tweeted about by each outlet? "
   ]
  },
  {
   "cell_type": "code",
   "execution_count": 39,
   "id": "6fa2ba5a",
   "metadata": {
    "scrolled": true
   },
   "outputs": [
    {
     "data": {
      "text/plain": [
       "Index(['author_id', 'username', 'author_followers', 'author_tweets', 'text',\n",
       "       'created_at', 'retweets', 'replies', 'likes', 'quote_count', 'tweet_id',\n",
       "       'NYT', 'mentions', 'breaking', 'hash', 'hashtags', 'prep_text'],\n",
       "      dtype='object')"
      ]
     },
     "execution_count": 39,
     "metadata": {},
     "output_type": "execute_result"
    }
   ],
   "source": [
    "tweets.columns"
   ]
  },
  {
   "cell_type": "markdown",
   "id": "94468ee8",
   "metadata": {},
   "source": [
    "We are asked to perform topic modelling for 2 outlets. So let's split data into two parts (NY Times and Fox News)"
   ]
  },
  {
   "cell_type": "code",
   "execution_count": 40,
   "id": "ce93b8df",
   "metadata": {},
   "outputs": [],
   "source": [
    "df = tweets[tweets['NYT'] == True].copy()\n"
   ]
  },
  {
   "cell_type": "code",
   "execution_count": 41,
   "id": "25e0a999",
   "metadata": {},
   "outputs": [
    {
     "data": {
      "text/plain": [
       "(623, 17)"
      ]
     },
     "execution_count": 41,
     "metadata": {},
     "output_type": "execute_result"
    }
   ],
   "source": [
    "df.shape"
   ]
  },
  {
   "cell_type": "code",
   "execution_count": 42,
   "id": "160e18d7",
   "metadata": {},
   "outputs": [],
   "source": [
    "from sklearn.feature_extraction.text import CountVectorizer\n",
    "\n",
    "# the vectorizer object will be used to transform text to vector form\n",
    "vectorizer = CountVectorizer(max_df=0.9, min_df=25, token_pattern='\\w+|\\$[\\d\\.]+|\\S+')\n",
    "\n",
    "# apply transformation\n",
    "tf = vectorizer.fit_transform(df['prep_text']).toarray()\n",
    "\n",
    "\n",
    "# tf_feature_names tells us what word each column in the matric represents\n",
    "tf_feature_names = vectorizer.get_feature_names()"
   ]
  },
  {
   "cell_type": "code",
   "execution_count": 43,
   "id": "883a156f",
   "metadata": {},
   "outputs": [
    {
     "data": {
      "text/plain": [
       "array([[0, 0, 0, ..., 0, 0, 0],\n",
       "       [0, 0, 0, ..., 1, 1, 0],\n",
       "       [0, 0, 0, ..., 0, 0, 0],\n",
       "       ...,\n",
       "       [0, 0, 0, ..., 0, 0, 0],\n",
       "       [0, 0, 0, ..., 0, 0, 0],\n",
       "       [0, 0, 0, ..., 0, 0, 0]], dtype=int64)"
      ]
     },
     "execution_count": 43,
     "metadata": {},
     "output_type": "execute_result"
    }
   ],
   "source": [
    "tf"
   ]
  },
  {
   "cell_type": "code",
   "execution_count": 44,
   "id": "22844f4b",
   "metadata": {},
   "outputs": [],
   "source": [
    "#Let's create the model with 10 topics\n",
    "from sklearn.decomposition import LatentDirichletAllocation\n",
    "\n",
    "number_of_topics = 10\n",
    "\n",
    "model = LatentDirichletAllocation(n_components=number_of_topics, random_state=0)"
   ]
  },
  {
   "cell_type": "code",
   "execution_count": 45,
   "id": "0b369bb7",
   "metadata": {},
   "outputs": [
    {
     "data": {
      "text/plain": [
       "LatentDirichletAllocation(random_state=0)"
      ]
     },
     "execution_count": 45,
     "metadata": {},
     "output_type": "execute_result"
    }
   ],
   "source": [
    "model.fit(tf)"
   ]
  },
  {
   "cell_type": "code",
   "execution_count": 46,
   "id": "04c581da",
   "metadata": {},
   "outputs": [],
   "source": [
    "#Define the function to display topic modeling\n",
    "def display_topics(model, feature_names, no_top_words):\n",
    "    topic_dict = {}\n",
    "    for topic_idx, topic in enumerate(model.components_):\n",
    "        topic_dict[\"Topic %d words\" % (topic_idx)]= ['{}'.format(feature_names[i])\n",
    "                        for i in topic.argsort()[:-no_top_words - 1:-1]]\n",
    "        topic_dict[\"Topic %d weights\" % (topic_idx)]= ['{:.1f}'.format(topic[i])\n",
    "                        for i in topic.argsort()[:-no_top_words - 1:-1]]\n",
    "    return pd.DataFrame(topic_dict)"
   ]
  },
  {
   "cell_type": "markdown",
   "id": "627d5d55",
   "metadata": {},
   "source": [
    "Display topic for NY times"
   ]
  },
  {
   "cell_type": "code",
   "execution_count": 47,
   "id": "26290640",
   "metadata": {},
   "outputs": [
    {
     "data": {
      "text/html": [
       "<div>\n",
       "<style scoped>\n",
       "    .dataframe tbody tr th:only-of-type {\n",
       "        vertical-align: middle;\n",
       "    }\n",
       "\n",
       "    .dataframe tbody tr th {\n",
       "        vertical-align: top;\n",
       "    }\n",
       "\n",
       "    .dataframe thead th {\n",
       "        text-align: right;\n",
       "    }\n",
       "</style>\n",
       "<table border=\"1\" class=\"dataframe\">\n",
       "  <thead>\n",
       "    <tr style=\"text-align: right;\">\n",
       "      <th></th>\n",
       "      <th>Topic 0 words</th>\n",
       "      <th>Topic 0 weights</th>\n",
       "      <th>Topic 1 words</th>\n",
       "      <th>Topic 1 weights</th>\n",
       "      <th>Topic 2 words</th>\n",
       "      <th>Topic 2 weights</th>\n",
       "      <th>Topic 3 words</th>\n",
       "      <th>Topic 3 weights</th>\n",
       "      <th>Topic 4 words</th>\n",
       "      <th>Topic 4 weights</th>\n",
       "      <th>Topic 5 words</th>\n",
       "      <th>Topic 5 weights</th>\n",
       "      <th>Topic 6 words</th>\n",
       "      <th>Topic 6 weights</th>\n",
       "      <th>Topic 7 words</th>\n",
       "      <th>Topic 7 weights</th>\n",
       "      <th>Topic 8 words</th>\n",
       "      <th>Topic 8 weights</th>\n",
       "      <th>Topic 9 words</th>\n",
       "      <th>Topic 9 weights</th>\n",
       "    </tr>\n",
       "  </thead>\n",
       "  <tbody>\n",
       "    <tr>\n",
       "      <th>0</th>\n",
       "      <td>russian</td>\n",
       "      <td>56.3</td>\n",
       "      <td>russia</td>\n",
       "      <td>118.8</td>\n",
       "      <td>one</td>\n",
       "      <td>48.3</td>\n",
       "      <td>said</td>\n",
       "      <td>75.0</td>\n",
       "      <td>president</td>\n",
       "      <td>72.0</td>\n",
       "      <td>new</td>\n",
       "      <td>85.1</td>\n",
       "      <td>first</td>\n",
       "      <td>27.9</td>\n",
       "      <td>u</td>\n",
       "      <td>64.4</td>\n",
       "      <td>state</td>\n",
       "      <td>30.8</td>\n",
       "      <td>sunday</td>\n",
       "      <td>28.1</td>\n",
       "    </tr>\n",
       "    <tr>\n",
       "      <th>1</th>\n",
       "      <td>ukrainian</td>\n",
       "      <td>44.3</td>\n",
       "      <td>ukraine</td>\n",
       "      <td>87.0</td>\n",
       "      <td>said</td>\n",
       "      <td>28.6</td>\n",
       "      <td>people</td>\n",
       "      <td>39.3</td>\n",
       "      <td>ukraine</td>\n",
       "      <td>42.6</td>\n",
       "      <td>two</td>\n",
       "      <td>53.3</td>\n",
       "      <td>world</td>\n",
       "      <td>24.1</td>\n",
       "      <td>.s.</td>\n",
       "      <td>62.4</td>\n",
       "      <td>many</td>\n",
       "      <td>25.1</td>\n",
       "      <td>wednesday</td>\n",
       "      <td>21.8</td>\n",
       "    </tr>\n",
       "    <tr>\n",
       "      <th>2</th>\n",
       "      <td>city</td>\n",
       "      <td>30.8</td>\n",
       "      <td>war</td>\n",
       "      <td>52.4</td>\n",
       "      <td>monday</td>\n",
       "      <td>23.6</td>\n",
       "      <td>week</td>\n",
       "      <td>25.1</td>\n",
       "      <td>zelensky</td>\n",
       "      <td>32.1</td>\n",
       "      <td>york</td>\n",
       "      <td>35.1</td>\n",
       "      <td>years</td>\n",
       "      <td>20.0</td>\n",
       "      <td>.</td>\n",
       "      <td>40.1</td>\n",
       "      <td>killed</td>\n",
       "      <td>21.1</td>\n",
       "      <td>russian</td>\n",
       "      <td>5.7</td>\n",
       "    </tr>\n",
       "    <tr>\n",
       "      <th>3</th>\n",
       "      <td>kyiv</td>\n",
       "      <td>30.2</td>\n",
       "      <td>invasion</td>\n",
       "      <td>40.6</td>\n",
       "      <td>ukraine</td>\n",
       "      <td>21.9</td>\n",
       "      <td>would</td>\n",
       "      <td>16.8</td>\n",
       "      <td>biden</td>\n",
       "      <td>28.2</td>\n",
       "      <td>said</td>\n",
       "      <td>16.0</td>\n",
       "      <td>since</td>\n",
       "      <td>18.5</td>\n",
       "      <td>biden</td>\n",
       "      <td>10.0</td>\n",
       "      <td>tuesday</td>\n",
       "      <td>12.7</td>\n",
       "      <td>military</td>\n",
       "      <td>4.5</td>\n",
       "    </tr>\n",
       "    <tr>\n",
       "      <th>4</th>\n",
       "      <td>ukraine</td>\n",
       "      <td>21.0</td>\n",
       "      <td>russian</td>\n",
       "      <td>38.2</td>\n",
       "      <td>war</td>\n",
       "      <td>14.4</td>\n",
       "      <td>officials</td>\n",
       "      <td>16.5</td>\n",
       "      <td>country</td>\n",
       "      <td>26.8</td>\n",
       "      <td>world</td>\n",
       "      <td>11.1</td>\n",
       "      <td>country</td>\n",
       "      <td>18.1</td>\n",
       "      <td>officials</td>\n",
       "      <td>7.7</td>\n",
       "      <td>people</td>\n",
       "      <td>9.4</td>\n",
       "      <td>according</td>\n",
       "      <td>4.4</td>\n",
       "    </tr>\n",
       "    <tr>\n",
       "      <th>5</th>\n",
       "      <td>according</td>\n",
       "      <td>20.8</td>\n",
       "      <td>could</td>\n",
       "      <td>33.1</td>\n",
       "      <td>kyiv</td>\n",
       "      <td>13.9</td>\n",
       "      <td>city</td>\n",
       "      <td>11.4</td>\n",
       "      <td>volodymyr</td>\n",
       "      <td>25.1</td>\n",
       "      <td>city</td>\n",
       "      <td>11.0</td>\n",
       "      <td>covid</td>\n",
       "      <td>16.0</td>\n",
       "      <td>president</td>\n",
       "      <td>7.2</td>\n",
       "      <td>war</td>\n",
       "      <td>6.5</td>\n",
       "      <td>said</td>\n",
       "      <td>0.4</td>\n",
       "    </tr>\n",
       "    <tr>\n",
       "      <th>6</th>\n",
       "      <td>killed</td>\n",
       "      <td>16.1</td>\n",
       "      <td>since</td>\n",
       "      <td>14.9</td>\n",
       "      <td>ukrainian</td>\n",
       "      <td>9.9</td>\n",
       "      <td>covid</td>\n",
       "      <td>9.2</td>\n",
       "      <td>said</td>\n",
       "      <td>23.7</td>\n",
       "      <td>years</td>\n",
       "      <td>9.3</td>\n",
       "      <td>one</td>\n",
       "      <td>9.9</td>\n",
       "      <td>would</td>\n",
       "      <td>7.2</td>\n",
       "      <td>would</td>\n",
       "      <td>5.3</td>\n",
       "      <td>ukraine</td>\n",
       "      <td>0.2</td>\n",
       "    </tr>\n",
       "    <tr>\n",
       "      <th>7</th>\n",
       "      <td>said</td>\n",
       "      <td>12.5</td>\n",
       "      <td>said</td>\n",
       "      <td>8.5</td>\n",
       "      <td>russia</td>\n",
       "      <td>8.2</td>\n",
       "      <td>since</td>\n",
       "      <td>3.0</td>\n",
       "      <td>wednesday</td>\n",
       "      <td>10.4</td>\n",
       "      <td>tuesday</td>\n",
       "      <td>5.6</td>\n",
       "      <td>two</td>\n",
       "      <td>2.4</td>\n",
       "      <td>tuesday</td>\n",
       "      <td>5.3</td>\n",
       "      <td>according</td>\n",
       "      <td>4.1</td>\n",
       "      <td>since</td>\n",
       "      <td>0.1</td>\n",
       "    </tr>\n",
       "    <tr>\n",
       "      <th>8</th>\n",
       "      <td>military</td>\n",
       "      <td>10.4</td>\n",
       "      <td>military</td>\n",
       "      <td>3.4</td>\n",
       "      <td>country</td>\n",
       "      <td>2.4</td>\n",
       "      <td>tuesday</td>\n",
       "      <td>0.1</td>\n",
       "      <td>russian</td>\n",
       "      <td>9.1</td>\n",
       "      <td>people</td>\n",
       "      <td>3.7</td>\n",
       "      <td>u</td>\n",
       "      <td>1.8</td>\n",
       "      <td>russia</td>\n",
       "      <td>4.3</td>\n",
       "      <td>two</td>\n",
       "      <td>1.6</td>\n",
       "      <td>country</td>\n",
       "      <td>0.1</td>\n",
       "    </tr>\n",
       "    <tr>\n",
       "      <th>9</th>\n",
       "      <td>people</td>\n",
       "      <td>9.9</td>\n",
       "      <td>years</td>\n",
       "      <td>1.9</td>\n",
       "      <td>killed</td>\n",
       "      <td>0.1</td>\n",
       "      <td>two</td>\n",
       "      <td>0.1</td>\n",
       "      <td>war</td>\n",
       "      <td>7.5</td>\n",
       "      <td>according</td>\n",
       "      <td>0.1</td>\n",
       "      <td>.s.</td>\n",
       "      <td>1.8</td>\n",
       "      <td>military</td>\n",
       "      <td>3.3</td>\n",
       "      <td>said</td>\n",
       "      <td>0.1</td>\n",
       "      <td>one</td>\n",
       "      <td>0.1</td>\n",
       "    </tr>\n",
       "  </tbody>\n",
       "</table>\n",
       "</div>"
      ],
      "text/plain": [
       "  Topic 0 words Topic 0 weights Topic 1 words Topic 1 weights Topic 2 words  \\\n",
       "0       russian            56.3        russia           118.8           one   \n",
       "1     ukrainian            44.3       ukraine            87.0          said   \n",
       "2          city            30.8           war            52.4        monday   \n",
       "3          kyiv            30.2      invasion            40.6       ukraine   \n",
       "4       ukraine            21.0       russian            38.2           war   \n",
       "5     according            20.8         could            33.1          kyiv   \n",
       "6        killed            16.1         since            14.9     ukrainian   \n",
       "7          said            12.5          said             8.5        russia   \n",
       "8      military            10.4      military             3.4       country   \n",
       "9        people             9.9         years             1.9        killed   \n",
       "\n",
       "  Topic 2 weights Topic 3 words Topic 3 weights Topic 4 words Topic 4 weights  \\\n",
       "0            48.3          said            75.0     president            72.0   \n",
       "1            28.6        people            39.3       ukraine            42.6   \n",
       "2            23.6          week            25.1      zelensky            32.1   \n",
       "3            21.9         would            16.8         biden            28.2   \n",
       "4            14.4     officials            16.5       country            26.8   \n",
       "5            13.9          city            11.4     volodymyr            25.1   \n",
       "6             9.9         covid             9.2          said            23.7   \n",
       "7             8.2         since             3.0     wednesday            10.4   \n",
       "8             2.4       tuesday             0.1       russian             9.1   \n",
       "9             0.1           two             0.1           war             7.5   \n",
       "\n",
       "  Topic 5 words Topic 5 weights Topic 6 words Topic 6 weights Topic 7 words  \\\n",
       "0           new            85.1         first            27.9             u   \n",
       "1           two            53.3         world            24.1           .s.   \n",
       "2          york            35.1         years            20.0             .   \n",
       "3          said            16.0         since            18.5         biden   \n",
       "4         world            11.1       country            18.1     officials   \n",
       "5          city            11.0         covid            16.0     president   \n",
       "6         years             9.3           one             9.9         would   \n",
       "7       tuesday             5.6           two             2.4       tuesday   \n",
       "8        people             3.7             u             1.8        russia   \n",
       "9     according             0.1           .s.             1.8      military   \n",
       "\n",
       "  Topic 7 weights Topic 8 words Topic 8 weights Topic 9 words Topic 9 weights  \n",
       "0            64.4         state            30.8        sunday            28.1  \n",
       "1            62.4          many            25.1     wednesday            21.8  \n",
       "2            40.1        killed            21.1       russian             5.7  \n",
       "3            10.0       tuesday            12.7      military             4.5  \n",
       "4             7.7        people             9.4     according             4.4  \n",
       "5             7.2           war             6.5          said             0.4  \n",
       "6             7.2         would             5.3       ukraine             0.2  \n",
       "7             5.3     according             4.1         since             0.1  \n",
       "8             4.3           two             1.6       country             0.1  \n",
       "9             3.3          said             0.1           one             0.1  "
      ]
     },
     "execution_count": 47,
     "metadata": {},
     "output_type": "execute_result"
    }
   ],
   "source": [
    "no_top_words = 10\n",
    "display_topics(model, tf_feature_names, no_top_words)"
   ]
  },
  {
   "cell_type": "markdown",
   "id": "e99d5131",
   "metadata": {},
   "source": [
    "Now let's do the same for FOX news"
   ]
  },
  {
   "cell_type": "code",
   "execution_count": 48,
   "id": "d1d46182",
   "metadata": {},
   "outputs": [],
   "source": [
    "df= tweets[tweets['NYT'] == False]"
   ]
  },
  {
   "cell_type": "code",
   "execution_count": 49,
   "id": "2dec5355",
   "metadata": {},
   "outputs": [
    {
     "data": {
      "text/plain": [
       "(1329, 17)"
      ]
     },
     "execution_count": 49,
     "metadata": {},
     "output_type": "execute_result"
    }
   ],
   "source": [
    "df.shape"
   ]
  },
  {
   "cell_type": "code",
   "execution_count": 50,
   "id": "397dc6f3",
   "metadata": {},
   "outputs": [],
   "source": [
    "from sklearn.feature_extraction.text import CountVectorizer\n",
    "\n",
    "# the vectorizer object will be used to transform text to vector form\n",
    "vectorizer = CountVectorizer(max_df=0.9, min_df=25, token_pattern='\\w+|\\$[\\d\\.]+|\\S+')\n",
    "\n",
    "# apply transformation\n",
    "tf = vectorizer.fit_transform(df['prep_text']).toarray()\n",
    "\n",
    "\n",
    "# tf_feature_names tells us what word each column in the matric represents\n",
    "tf_feature_names = vectorizer.get_feature_names()"
   ]
  },
  {
   "cell_type": "code",
   "execution_count": 51,
   "id": "8f110379",
   "metadata": {},
   "outputs": [],
   "source": [
    "#Let's create the model with 10 topics\n",
    "from sklearn.decomposition import LatentDirichletAllocation\n",
    "\n",
    "number_of_topics = 10\n",
    "\n",
    "model = LatentDirichletAllocation(n_components=number_of_topics, random_state=0)"
   ]
  },
  {
   "cell_type": "code",
   "execution_count": 52,
   "id": "4ef4c5f1",
   "metadata": {},
   "outputs": [
    {
     "data": {
      "text/plain": [
       "LatentDirichletAllocation(random_state=0)"
      ]
     },
     "execution_count": 52,
     "metadata": {},
     "output_type": "execute_result"
    }
   ],
   "source": [
    "model.fit(tf)"
   ]
  },
  {
   "cell_type": "code",
   "execution_count": 53,
   "id": "ac4600ee",
   "metadata": {},
   "outputs": [],
   "source": [
    "#Define the function to display topic modeling\n",
    "def display_topics(model, feature_names, no_top_words):\n",
    "    topic_dict = {}\n",
    "    for topic_idx, topic in enumerate(model.components_):\n",
    "        topic_dict[\"Topic %d words\" % (topic_idx)]= ['{}'.format(feature_names[i])\n",
    "                        for i in topic.argsort()[:-no_top_words - 1:-1]]\n",
    "        topic_dict[\"Topic %d weights\" % (topic_idx)]= ['{:.1f}'.format(topic[i])\n",
    "                        for i in topic.argsort()[:-no_top_words - 1:-1]]\n",
    "    return pd.DataFrame(topic_dict)"
   ]
  },
  {
   "cell_type": "code",
   "execution_count": 54,
   "id": "8d0752a9",
   "metadata": {},
   "outputs": [
    {
     "data": {
      "text/html": [
       "<div>\n",
       "<style scoped>\n",
       "    .dataframe tbody tr th:only-of-type {\n",
       "        vertical-align: middle;\n",
       "    }\n",
       "\n",
       "    .dataframe tbody tr th {\n",
       "        vertical-align: top;\n",
       "    }\n",
       "\n",
       "    .dataframe thead th {\n",
       "        text-align: right;\n",
       "    }\n",
       "</style>\n",
       "<table border=\"1\" class=\"dataframe\">\n",
       "  <thead>\n",
       "    <tr style=\"text-align: right;\">\n",
       "      <th></th>\n",
       "      <th>Topic 0 words</th>\n",
       "      <th>Topic 0 weights</th>\n",
       "      <th>Topic 1 words</th>\n",
       "      <th>Topic 1 weights</th>\n",
       "      <th>Topic 2 words</th>\n",
       "      <th>Topic 2 weights</th>\n",
       "      <th>Topic 3 words</th>\n",
       "      <th>Topic 3 weights</th>\n",
       "      <th>Topic 4 words</th>\n",
       "      <th>Topic 4 weights</th>\n",
       "      <th>Topic 5 words</th>\n",
       "      <th>Topic 5 weights</th>\n",
       "      <th>Topic 6 words</th>\n",
       "      <th>Topic 6 weights</th>\n",
       "      <th>Topic 7 words</th>\n",
       "      <th>Topic 7 weights</th>\n",
       "      <th>Topic 8 words</th>\n",
       "      <th>Topic 8 weights</th>\n",
       "      <th>Topic 9 words</th>\n",
       "      <th>Topic 9 weights</th>\n",
       "    </tr>\n",
       "  </thead>\n",
       "  <tbody>\n",
       "    <tr>\n",
       "      <th>0</th>\n",
       "      <td>new</td>\n",
       "      <td>64.1</td>\n",
       "      <td>say</td>\n",
       "      <td>35.1</td>\n",
       "      <td>biden</td>\n",
       "      <td>194.7</td>\n",
       "      <td>putin</td>\n",
       "      <td>96.1</td>\n",
       "      <td>ukraine</td>\n",
       "      <td>153.7</td>\n",
       "      <td>russia</td>\n",
       "      <td>128.8</td>\n",
       "      <td>zelenskyy</td>\n",
       "      <td>65.1</td>\n",
       "      <td>russian</td>\n",
       "      <td>123.1</td>\n",
       "      <td>war</td>\n",
       "      <td>56.8</td>\n",
       "      <td>covid</td>\n",
       "      <td>36.1</td>\n",
       "    </tr>\n",
       "    <tr>\n",
       "      <th>1</th>\n",
       "      <td>gas</td>\n",
       "      <td>50.1</td>\n",
       "      <td>police</td>\n",
       "      <td>29.1</td>\n",
       "      <td>.</td>\n",
       "      <td>42.9</td>\n",
       "      <td>former</td>\n",
       "      <td>31.0</td>\n",
       "      <td>war</td>\n",
       "      <td>54.6</td>\n",
       "      <td>ukraine</td>\n",
       "      <td>32.1</td>\n",
       "      <td>ukrainian</td>\n",
       "      <td>50.1</td>\n",
       "      <td>ukraine</td>\n",
       "      <td>18.3</td>\n",
       "      <td>russia</td>\n",
       "      <td>42.4</td>\n",
       "      <td>report</td>\n",
       "      <td>32.9</td>\n",
       "    </tr>\n",
       "    <tr>\n",
       "      <th>2</th>\n",
       "      <td>prices</td>\n",
       "      <td>34.1</td>\n",
       "      <td>officials</td>\n",
       "      <td>28.1</td>\n",
       "      <td>gop</td>\n",
       "      <td>33.1</td>\n",
       "      <td>ukraine</td>\n",
       "      <td>26.3</td>\n",
       "      <td>invasion</td>\n",
       "      <td>31.7</td>\n",
       "      <td>invasion</td>\n",
       "      <td>12.5</td>\n",
       "      <td>president</td>\n",
       "      <td>19.5</td>\n",
       "      <td>kyiv</td>\n",
       "      <td>18.1</td>\n",
       "      <td>energy</td>\n",
       "      <td>37.1</td>\n",
       "      <td>time</td>\n",
       "      <td>25.1</td>\n",
       "    </tr>\n",
       "    <tr>\n",
       "      <th>3</th>\n",
       "      <td>oil</td>\n",
       "      <td>27.1</td>\n",
       "      <td>trump</td>\n",
       "      <td>17.1</td>\n",
       "      <td>may</td>\n",
       "      <td>19.1</td>\n",
       "      <td>house</td>\n",
       "      <td>22.1</td>\n",
       "      <td>state</td>\n",
       "      <td>29.1</td>\n",
       "      <td>.</td>\n",
       "      <td>11.3</td>\n",
       "      <td>war</td>\n",
       "      <td>16.5</td>\n",
       "      <td>war</td>\n",
       "      <td>0.4</td>\n",
       "      <td>amid</td>\n",
       "      <td>33.2</td>\n",
       "      <td>calls</td>\n",
       "      <td>8.6</td>\n",
       "    </tr>\n",
       "    <tr>\n",
       "      <th>4</th>\n",
       "      <td>calls</td>\n",
       "      <td>1.4</td>\n",
       "      <td>former</td>\n",
       "      <td>6.2</td>\n",
       "      <td>trump</td>\n",
       "      <td>14.1</td>\n",
       "      <td>president</td>\n",
       "      <td>12.1</td>\n",
       "      <td>china</td>\n",
       "      <td>21.1</td>\n",
       "      <td>kyiv</td>\n",
       "      <td>8.1</td>\n",
       "      <td>congress</td>\n",
       "      <td>16.2</td>\n",
       "      <td>calls</td>\n",
       "      <td>0.1</td>\n",
       "      <td>-ukraine</td>\n",
       "      <td>33.1</td>\n",
       "      <td>house</td>\n",
       "      <td>6.1</td>\n",
       "    </tr>\n",
       "    <tr>\n",
       "      <th>5</th>\n",
       "      <td>gop</td>\n",
       "      <td>0.1</td>\n",
       "      <td>report</td>\n",
       "      <td>5.3</td>\n",
       "      <td>calls</td>\n",
       "      <td>0.1</td>\n",
       "      <td>calls</td>\n",
       "      <td>8.5</td>\n",
       "      <td>amid</td>\n",
       "      <td>20.0</td>\n",
       "      <td>president</td>\n",
       "      <td>7.7</td>\n",
       "      <td>calls</td>\n",
       "      <td>3.5</td>\n",
       "      <td>invasion</td>\n",
       "      <td>0.1</td>\n",
       "      <td>biden</td>\n",
       "      <td>10.5</td>\n",
       "      <td>may</td>\n",
       "      <td>3.6</td>\n",
       "    </tr>\n",
       "    <tr>\n",
       "      <th>6</th>\n",
       "      <td>biden</td>\n",
       "      <td>0.1</td>\n",
       "      <td>ukraine</td>\n",
       "      <td>0.1</td>\n",
       "      <td>ukraine</td>\n",
       "      <td>0.1</td>\n",
       "      <td>china</td>\n",
       "      <td>5.1</td>\n",
       "      <td>russia</td>\n",
       "      <td>0.1</td>\n",
       "      <td>may</td>\n",
       "      <td>2.6</td>\n",
       "      <td>kyiv</td>\n",
       "      <td>0.1</td>\n",
       "      <td>ukrainian</td>\n",
       "      <td>0.1</td>\n",
       "      <td>congress</td>\n",
       "      <td>10.0</td>\n",
       "      <td>china</td>\n",
       "      <td>0.1</td>\n",
       "    </tr>\n",
       "    <tr>\n",
       "      <th>7</th>\n",
       "      <td>energy</td>\n",
       "      <td>0.1</td>\n",
       "      <td>biden</td>\n",
       "      <td>0.1</td>\n",
       "      <td>energy</td>\n",
       "      <td>0.1</td>\n",
       "      <td>may</td>\n",
       "      <td>0.1</td>\n",
       "      <td>.</td>\n",
       "      <td>0.1</td>\n",
       "      <td>china</td>\n",
       "      <td>0.1</td>\n",
       "      <td>ukraine</td>\n",
       "      <td>0.1</td>\n",
       "      <td>may</td>\n",
       "      <td>0.1</td>\n",
       "      <td>calls</td>\n",
       "      <td>9.5</td>\n",
       "      <td>russian</td>\n",
       "      <td>0.1</td>\n",
       "    </tr>\n",
       "    <tr>\n",
       "      <th>8</th>\n",
       "      <td>state</td>\n",
       "      <td>0.1</td>\n",
       "      <td>kyiv</td>\n",
       "      <td>0.1</td>\n",
       "      <td>president</td>\n",
       "      <td>0.1</td>\n",
       "      <td>trump</td>\n",
       "      <td>0.1</td>\n",
       "      <td>biden</td>\n",
       "      <td>0.1</td>\n",
       "      <td>calls</td>\n",
       "      <td>0.1</td>\n",
       "      <td>russia</td>\n",
       "      <td>0.1</td>\n",
       "      <td>officials</td>\n",
       "      <td>0.1</td>\n",
       "      <td>house</td>\n",
       "      <td>0.1</td>\n",
       "      <td>.</td>\n",
       "      <td>0.1</td>\n",
       "    </tr>\n",
       "    <tr>\n",
       "      <th>9</th>\n",
       "      <td>amid</td>\n",
       "      <td>0.1</td>\n",
       "      <td>.</td>\n",
       "      <td>0.1</td>\n",
       "      <td>amid</td>\n",
       "      <td>0.1</td>\n",
       "      <td>biden</td>\n",
       "      <td>0.1</td>\n",
       "      <td>russian</td>\n",
       "      <td>0.1</td>\n",
       "      <td>biden</td>\n",
       "      <td>0.1</td>\n",
       "      <td>invasion</td>\n",
       "      <td>0.1</td>\n",
       "      <td>state</td>\n",
       "      <td>0.1</td>\n",
       "      <td>oil</td>\n",
       "      <td>0.1</td>\n",
       "      <td>russia</td>\n",
       "      <td>0.1</td>\n",
       "    </tr>\n",
       "  </tbody>\n",
       "</table>\n",
       "</div>"
      ],
      "text/plain": [
       "  Topic 0 words Topic 0 weights Topic 1 words Topic 1 weights Topic 2 words  \\\n",
       "0           new            64.1           say            35.1         biden   \n",
       "1           gas            50.1        police            29.1             .   \n",
       "2        prices            34.1     officials            28.1           gop   \n",
       "3           oil            27.1         trump            17.1           may   \n",
       "4         calls             1.4        former             6.2         trump   \n",
       "5           gop             0.1        report             5.3         calls   \n",
       "6         biden             0.1       ukraine             0.1       ukraine   \n",
       "7        energy             0.1         biden             0.1        energy   \n",
       "8         state             0.1          kyiv             0.1     president   \n",
       "9          amid             0.1             .             0.1          amid   \n",
       "\n",
       "  Topic 2 weights Topic 3 words Topic 3 weights Topic 4 words Topic 4 weights  \\\n",
       "0           194.7         putin            96.1       ukraine           153.7   \n",
       "1            42.9        former            31.0           war            54.6   \n",
       "2            33.1       ukraine            26.3      invasion            31.7   \n",
       "3            19.1         house            22.1         state            29.1   \n",
       "4            14.1     president            12.1         china            21.1   \n",
       "5             0.1         calls             8.5          amid            20.0   \n",
       "6             0.1         china             5.1        russia             0.1   \n",
       "7             0.1           may             0.1             .             0.1   \n",
       "8             0.1         trump             0.1         biden             0.1   \n",
       "9             0.1         biden             0.1       russian             0.1   \n",
       "\n",
       "  Topic 5 words Topic 5 weights Topic 6 words Topic 6 weights Topic 7 words  \\\n",
       "0        russia           128.8     zelenskyy            65.1       russian   \n",
       "1       ukraine            32.1     ukrainian            50.1       ukraine   \n",
       "2      invasion            12.5     president            19.5          kyiv   \n",
       "3             .            11.3           war            16.5           war   \n",
       "4          kyiv             8.1      congress            16.2         calls   \n",
       "5     president             7.7         calls             3.5      invasion   \n",
       "6           may             2.6          kyiv             0.1     ukrainian   \n",
       "7         china             0.1       ukraine             0.1           may   \n",
       "8         calls             0.1        russia             0.1     officials   \n",
       "9         biden             0.1      invasion             0.1         state   \n",
       "\n",
       "  Topic 7 weights Topic 8 words Topic 8 weights Topic 9 words Topic 9 weights  \n",
       "0           123.1           war            56.8         covid            36.1  \n",
       "1            18.3        russia            42.4        report            32.9  \n",
       "2            18.1        energy            37.1          time            25.1  \n",
       "3             0.4          amid            33.2         calls             8.6  \n",
       "4             0.1      -ukraine            33.1         house             6.1  \n",
       "5             0.1         biden            10.5           may             3.6  \n",
       "6             0.1      congress            10.0         china             0.1  \n",
       "7             0.1         calls             9.5       russian             0.1  \n",
       "8             0.1         house             0.1             .             0.1  \n",
       "9             0.1           oil             0.1        russia             0.1  "
      ]
     },
     "execution_count": 54,
     "metadata": {},
     "output_type": "execute_result"
    }
   ],
   "source": [
    "no_top_words = 10\n",
    "display_topics(model, tf_feature_names, no_top_words)"
   ]
  },
  {
   "cell_type": "markdown",
   "id": "02b10e93",
   "metadata": {},
   "source": [
    "As we can see, topics are quite close. Both outlets are talking a lot about war in Ukraine. However, we can see that FOX news also talks about gas and energy prices (which although not about war, but very closely related)"
   ]
  },
  {
   "cell_type": "markdown",
   "id": "f6b9063d",
   "metadata": {},
   "source": [
    "# Part 5: Is there a relationship between the sentiment of the tweet and the outlet?"
   ]
  },
  {
   "cell_type": "code",
   "execution_count": 55,
   "id": "e31cc47a",
   "metadata": {},
   "outputs": [],
   "source": [
    "from vaderSentiment.vaderSentiment import SentimentIntensityAnalyzer\n",
    "\n",
    "sentiment = SentimentIntensityAnalyzer()"
   ]
  },
  {
   "cell_type": "code",
   "execution_count": 56,
   "id": "1fc6bb4f",
   "metadata": {},
   "outputs": [],
   "source": [
    "tweets['polarity_score'] = tweets['prep_text'].apply(lambda x: sentiment.polarity_scores(str(x))['compound'])\n",
    "tweets['neutral'] = tweets['prep_text'].apply(lambda x: sentiment.polarity_scores(str(x))['neu'])\n",
    "tweets['negative'] = tweets['prep_text'].apply(lambda x: sentiment.polarity_scores(str(x))['neg'])\n",
    "tweets['positive'] = tweets['prep_text'].apply(lambda x: sentiment.polarity_scores(str(x))['pos'])"
   ]
  },
  {
   "cell_type": "code",
   "execution_count": 57,
   "id": "f78ad565",
   "metadata": {},
   "outputs": [],
   "source": [
    "tweets['sentiment']=''\n",
    "tweets.loc[tweets.polarity_score>0.05,'sentiment']='Positive'\n",
    "tweets.loc[(tweets.polarity_score>-0.05) & (tweets.polarity_score<0.05),'sentiment']='Neutral'\n",
    "tweets.loc[tweets.polarity_score<-0.05,'sentiment']='Negative'"
   ]
  },
  {
   "cell_type": "markdown",
   "id": "d916dc68",
   "metadata": {},
   "source": [
    "Let's make a density rather than countplot:"
   ]
  },
  {
   "cell_type": "code",
   "execution_count": 58,
   "id": "3d1c4a01",
   "metadata": {},
   "outputs": [
    {
     "data": {
      "image/png": "[encoded data removed]",
      "text/plain": [
       "<Figure size 432x288 with 1 Axes>"
      ]
     },
     "metadata": {
      "needs_background": "light"
     },
     "output_type": "display_data"
    }
   ],
   "source": [
    "import numpy as np\n",
    "import pandas as pd\n",
    "import seaborn as sns\n",
    "\n",
    "ax = sns.histplot(x = tweets['sentiment'], hue=tweets['username'], multiple=\"dodge\", \n",
    "                  stat = 'density', shrink = 0.8, common_norm=False)"
   ]
  },
  {
   "cell_type": "markdown",
   "id": "c9f94b29",
   "metadata": {},
   "source": [
    "Negative sentiment prevails in both FoxNews and NYT. NYT however a bit more positive, while FoxNews is more neutral."
   ]
  },
  {
   "cell_type": "markdown",
   "id": "47c1774f",
   "metadata": {},
   "source": [
    "We also check the text without preprocessing:"
   ]
  },
  {
   "cell_type": "code",
   "execution_count": 59,
   "id": "8443c230",
   "metadata": {},
   "outputs": [],
   "source": [
    "tweets['polarity_score'] = tweets['text'].apply(lambda x: sentiment.polarity_scores(str(x))['compound'])\n",
    "tweets['neutral'] = tweets['text'].apply(lambda x: sentiment.polarity_scores(str(x))['neu'])\n",
    "tweets['negative'] = tweets['text'].apply(lambda x: sentiment.polarity_scores(str(x))['neg'])\n",
    "tweets['positive'] = tweets['text'].apply(lambda x: sentiment.polarity_scores(str(x))['pos'])"
   ]
  },
  {
   "cell_type": "code",
   "execution_count": 60,
   "id": "e03abda5",
   "metadata": {},
   "outputs": [],
   "source": [
    "tweets['sentiment']=''\n",
    "tweets.loc[tweets.polarity_score>0.05,'sentiment']='Positive'\n",
    "tweets.loc[(tweets.polarity_score>-0.05) & (tweets.polarity_score<0.05),'sentiment']='Neutral'\n",
    "tweets.loc[tweets.polarity_score<-0.05,'sentiment']='Negative'"
   ]
  },
  {
   "cell_type": "code",
   "execution_count": 61,
   "id": "230372d5",
   "metadata": {},
   "outputs": [
    {
     "data": {
      "image/png": "[encoded data removed]",
      "text/plain": [
       "<Figure size 432x288 with 1 Axes>"
      ]
     },
     "metadata": {
      "needs_background": "light"
     },
     "output_type": "display_data"
    }
   ],
   "source": [
    "ax = sns.histplot(x = tweets['sentiment'], hue=tweets['username'], multiple=\"dodge\", \n",
    "                  stat = 'density', shrink = 0.8, common_norm=False)"
   ]
  },
  {
   "cell_type": "markdown",
   "id": "b42c9a44",
   "metadata": {},
   "source": [
    "it did not change much."
   ]
  },
  {
   "cell_type": "markdown",
   "id": "a4db9196",
   "metadata": {},
   "source": [
    "Negative sentiment prevails in both FoxNews and NYT. NYT however a bit more positive, while FoxNews is more neutral."
   ]
  },
  {
   "cell_type": "markdown",
   "id": "05fa6946",
   "metadata": {},
   "source": [
    "It was also interesting to look at the Polarity and Subjectivity scores given by the TextBlob.\n",
    "\n",
    "Polarity: How positive or negative a word is. -1 is very negative. +1 is very positive.\n",
    "Subjectivity: How subjective, or opinionated a word is. 0 is fact. +1 is very much an opinion."
   ]
  },
  {
   "cell_type": "code",
   "execution_count": 62,
   "id": "dab2ea92",
   "metadata": {},
   "outputs": [
    {
     "data": {
      "text/html": [
       "<div>\n",
       "<style scoped>\n",
       "    .dataframe tbody tr th:only-of-type {\n",
       "        vertical-align: middle;\n",
       "    }\n",
       "\n",
       "    .dataframe tbody tr th {\n",
       "        vertical-align: top;\n",
       "    }\n",
       "\n",
       "    .dataframe thead th {\n",
       "        text-align: right;\n",
       "    }\n",
       "</style>\n",
       "<table border=\"1\" class=\"dataframe\">\n",
       "  <thead>\n",
       "    <tr style=\"text-align: right;\">\n",
       "      <th></th>\n",
       "      <th>author_id</th>\n",
       "      <th>username</th>\n",
       "      <th>author_followers</th>\n",
       "      <th>author_tweets</th>\n",
       "      <th>text</th>\n",
       "      <th>created_at</th>\n",
       "      <th>retweets</th>\n",
       "      <th>replies</th>\n",
       "      <th>likes</th>\n",
       "      <th>quote_count</th>\n",
       "      <th>...</th>\n",
       "      <th>hash</th>\n",
       "      <th>hashtags</th>\n",
       "      <th>prep_text</th>\n",
       "      <th>polarity_score</th>\n",
       "      <th>neutral</th>\n",
       "      <th>negative</th>\n",
       "      <th>positive</th>\n",
       "      <th>sentiment</th>\n",
       "      <th>polarity</th>\n",
       "      <th>subjectivity</th>\n",
       "    </tr>\n",
       "  </thead>\n",
       "  <tbody>\n",
       "    <tr>\n",
       "      <th>0</th>\n",
       "      <td>1367531</td>\n",
       "      <td>FoxNews</td>\n",
       "      <td>20946694</td>\n",
       "      <td>456439</td>\n",
       "      <td>FLASHBACK: Ex-intel officials claimed the Hunt...</td>\n",
       "      <td>2022-03-18 15:50:00+00:00</td>\n",
       "      <td>26</td>\n",
       "      <td>39</td>\n",
       "      <td>68</td>\n",
       "      <td>0</td>\n",
       "      <td>...</td>\n",
       "      <td>False</td>\n",
       "      <td>NaN</td>\n",
       "      <td>ex-intel officials claimed hunter biden laptop...</td>\n",
       "      <td>0.0000</td>\n",
       "      <td>1.000</td>\n",
       "      <td>0.000</td>\n",
       "      <td>0.000</td>\n",
       "      <td>Neutral</td>\n",
       "      <td>0.000000</td>\n",
       "      <td>0.000000</td>\n",
       "    </tr>\n",
       "    <tr>\n",
       "      <th>1</th>\n",
       "      <td>1367531</td>\n",
       "      <td>FoxNews</td>\n",
       "      <td>20946694</td>\n",
       "      <td>456439</td>\n",
       "      <td>Biden must do more to counter Putin's propagan...</td>\n",
       "      <td>2022-03-18 15:45:00+00:00</td>\n",
       "      <td>23</td>\n",
       "      <td>94</td>\n",
       "      <td>92</td>\n",
       "      <td>7</td>\n",
       "      <td>...</td>\n",
       "      <td>False</td>\n",
       "      <td>NaN</td>\n",
       "      <td>biden must counter putin propaganda</td>\n",
       "      <td>-0.2500</td>\n",
       "      <td>0.800</td>\n",
       "      <td>0.200</td>\n",
       "      <td>0.000</td>\n",
       "      <td>Negative</td>\n",
       "      <td>-0.100000</td>\n",
       "      <td>0.100000</td>\n",
       "    </tr>\n",
       "    <tr>\n",
       "      <th>2</th>\n",
       "      <td>1367531</td>\n",
       "      <td>FoxNews</td>\n",
       "      <td>20946694</td>\n",
       "      <td>456439</td>\n",
       "      <td>NASCAR: What to expect from Atlanta's super ne...</td>\n",
       "      <td>2022-03-18 15:40:00+00:00</td>\n",
       "      <td>10</td>\n",
       "      <td>9</td>\n",
       "      <td>21</td>\n",
       "      <td>0</td>\n",
       "      <td>...</td>\n",
       "      <td>False</td>\n",
       "      <td>NaN</td>\n",
       "      <td>nascar expect atlanta super new speedway</td>\n",
       "      <td>0.5994</td>\n",
       "      <td>0.698</td>\n",
       "      <td>0.000</td>\n",
       "      <td>0.302</td>\n",
       "      <td>Positive</td>\n",
       "      <td>0.234848</td>\n",
       "      <td>0.560606</td>\n",
       "    </tr>\n",
       "    <tr>\n",
       "      <th>3</th>\n",
       "      <td>1367531</td>\n",
       "      <td>FoxNews</td>\n",
       "      <td>20946694</td>\n",
       "      <td>456439</td>\n",
       "      <td>BREAKING: Biden, Xi discuss Russia's war again...</td>\n",
       "      <td>2022-03-18 15:34:43+00:00</td>\n",
       "      <td>33</td>\n",
       "      <td>71</td>\n",
       "      <td>87</td>\n",
       "      <td>3</td>\n",
       "      <td>...</td>\n",
       "      <td>False</td>\n",
       "      <td>NaN</td>\n",
       "      <td>biden xi discuss russia war ukraine 'other iss...</td>\n",
       "      <td>-0.5994</td>\n",
       "      <td>0.813</td>\n",
       "      <td>0.187</td>\n",
       "      <td>0.000</td>\n",
       "      <td>Negative</td>\n",
       "      <td>-0.125000</td>\n",
       "      <td>0.375000</td>\n",
       "    </tr>\n",
       "    <tr>\n",
       "      <th>4</th>\n",
       "      <td>1367531</td>\n",
       "      <td>FoxNews</td>\n",
       "      <td>20946694</td>\n",
       "      <td>456439</td>\n",
       "      <td>Transgender swimmer's NCAA championship win 'j...</td>\n",
       "      <td>2022-03-18 15:30:00+00:00</td>\n",
       "      <td>51</td>\n",
       "      <td>69</td>\n",
       "      <td>254</td>\n",
       "      <td>4</td>\n",
       "      <td>...</td>\n",
       "      <td>False</td>\n",
       "      <td>NaN</td>\n",
       "      <td>transgender swimmer ncaa championship win 'jus...</td>\n",
       "      <td>0.7717</td>\n",
       "      <td>0.599</td>\n",
       "      <td>0.000</td>\n",
       "      <td>0.401</td>\n",
       "      <td>Positive</td>\n",
       "      <td>0.542857</td>\n",
       "      <td>0.467857</td>\n",
       "    </tr>\n",
       "  </tbody>\n",
       "</table>\n",
       "<p>5 rows × 24 columns</p>\n",
       "</div>"
      ],
      "text/plain": [
       "   author_id username  author_followers  author_tweets  \\\n",
       "0    1367531  FoxNews          20946694         456439   \n",
       "1    1367531  FoxNews          20946694         456439   \n",
       "2    1367531  FoxNews          20946694         456439   \n",
       "3    1367531  FoxNews          20946694         456439   \n",
       "4    1367531  FoxNews          20946694         456439   \n",
       "\n",
       "                                                text  \\\n",
       "0  FLASHBACK: Ex-intel officials claimed the Hunt...   \n",
       "1  Biden must do more to counter Putin's propagan...   \n",
       "2  NASCAR: What to expect from Atlanta's super ne...   \n",
       "3  BREAKING: Biden, Xi discuss Russia's war again...   \n",
       "4  Transgender swimmer's NCAA championship win 'j...   \n",
       "\n",
       "                  created_at  retweets  replies  likes  quote_count  ...  \\\n",
       "0  2022-03-18 15:50:00+00:00        26       39     68            0  ...   \n",
       "1  2022-03-18 15:45:00+00:00        23       94     92            7  ...   \n",
       "2  2022-03-18 15:40:00+00:00        10        9     21            0  ...   \n",
       "3  2022-03-18 15:34:43+00:00        33       71     87            3  ...   \n",
       "4  2022-03-18 15:30:00+00:00        51       69    254            4  ...   \n",
       "\n",
       "    hash  hashtags                                          prep_text  \\\n",
       "0  False       NaN  ex-intel officials claimed hunter biden laptop...   \n",
       "1  False       NaN                biden must counter putin propaganda   \n",
       "2  False       NaN           nascar expect atlanta super new speedway   \n",
       "3  False       NaN  biden xi discuss russia war ukraine 'other iss...   \n",
       "4  False       NaN  transgender swimmer ncaa championship win 'jus...   \n",
       "\n",
       "   polarity_score  neutral negative positive  sentiment  polarity  \\\n",
       "0          0.0000    1.000    0.000    0.000    Neutral  0.000000   \n",
       "1         -0.2500    0.800    0.200    0.000   Negative -0.100000   \n",
       "2          0.5994    0.698    0.000    0.302   Positive  0.234848   \n",
       "3         -0.5994    0.813    0.187    0.000   Negative -0.125000   \n",
       "4          0.7717    0.599    0.000    0.401   Positive  0.542857   \n",
       "\n",
       "   subjectivity  \n",
       "0      0.000000  \n",
       "1      0.100000  \n",
       "2      0.560606  \n",
       "3      0.375000  \n",
       "4      0.467857  \n",
       "\n",
       "[5 rows x 24 columns]"
      ]
     },
     "execution_count": 62,
     "metadata": {},
     "output_type": "execute_result"
    }
   ],
   "source": [
    "from textblob import TextBlob\n",
    "\n",
    "pol = lambda x: TextBlob(x).sentiment.polarity\n",
    "sub = lambda x: TextBlob(x).sentiment.subjectivity\n",
    "\n",
    "# Apply a function along an axis of the DataFrame.\n",
    "tweets['polarity'] = tweets['prep_text'].apply(pol)\n",
    "tweets['subjectivity'] = tweets['prep_text'].apply(sub)\n",
    "tweets.head()"
   ]
  },
  {
   "cell_type": "code",
   "execution_count": 63,
   "id": "81060cdc",
   "metadata": {},
   "outputs": [
    {
     "data": {
      "text/plain": [
       "array(['FoxNews', 'nytimes'], dtype=object)"
      ]
     },
     "execution_count": 63,
     "metadata": {},
     "output_type": "execute_result"
    }
   ],
   "source": [
    "tweets[\"username\"].unique()"
   ]
  },
  {
   "cell_type": "code",
   "execution_count": 64,
   "id": "c536930e",
   "metadata": {},
   "outputs": [
    {
     "data": {
      "image/png": "[encoded data removed]",
      "text/plain": [
       "<Figure size 432x288 with 1 Axes>"
      ]
     },
     "metadata": {
      "needs_background": "light"
     },
     "output_type": "display_data"
    }
   ],
   "source": [
    "import matplotlib.pyplot as plt\n",
    "\n",
    "#plt.rcParams['figure.figsize'] = [10, 8] \n",
    "\n",
    "for index, username in zip(tweets.index, tweets.username):\n",
    "    x = tweets.polarity.loc[index]\n",
    "    y = tweets.subjectivity.loc[index]\n",
    "    if username.startswith(\"Fox\"):\n",
    "        plt.scatter(x, y, color='red', label=\"FoxNews\")\n",
    "    else: \n",
    "        plt.scatter(x, y, color='blue', label=\"NYT\")\n",
    "    plt.xlim(-.12, .12) \n",
    "    plt.legend([\"FoxNews\"],loc=1)\n",
    "\n",
    "\n",
    "plt.title('Subjectivity and Polarity Analysis', fontsize=20)\n",
    "plt.xlabel('<-- Negative -------- Positive -->', fontsize=15)\n",
    "plt.ylabel('<-- Facts -------- Opinions -->', fontsize=15)\n",
    "\n",
    "plt.show()"
   ]
  },
  {
   "cell_type": "markdown",
   "id": "3b8ff43d",
   "metadata": {},
   "source": [
    "Visually there does not seem to be a significant difference between NYT and FoxNews in terms of subjectivity and polarity."
   ]
  },
  {
   "cell_type": "markdown",
   "id": "7e957bbe",
   "metadata": {},
   "source": [
    "# Part 6: Can we predict the outlet by the text of the tweet? "
   ]
  },
  {
   "cell_type": "code",
   "execution_count": 65,
   "id": "986bec11",
   "metadata": {},
   "outputs": [],
   "source": [
    "y= tweets[\"NYT\"]"
   ]
  },
  {
   "cell_type": "code",
   "execution_count": 66,
   "id": "d9fe5d92",
   "metadata": {},
   "outputs": [
    {
     "data": {
      "text/plain": [
       "0    False\n",
       "1    False\n",
       "2    False\n",
       "3    False\n",
       "4    False\n",
       "Name: NYT, dtype: bool"
      ]
     },
     "execution_count": 66,
     "metadata": {},
     "output_type": "execute_result"
    }
   ],
   "source": [
    "y.head()"
   ]
  },
  {
   "cell_type": "markdown",
   "id": "1f9b38ba",
   "metadata": {},
   "source": [
    "## CountVectorizer"
   ]
  },
  {
   "cell_type": "code",
   "execution_count": 67,
   "id": "12dee52b",
   "metadata": {},
   "outputs": [],
   "source": [
    "from sklearn.feature_extraction.text import CountVectorizer\n",
    "vectorizer = CountVectorizer(token_pattern=r'(?u)\\b[A-Za-z]+\\b', stop_words=stopwords_final)\n",
    "dtm_count = vectorizer.fit_transform(tweets[\"prep_text\"])\n",
    "df_count = pd.DataFrame(dtm_count.toarray(), columns=vectorizer.get_feature_names())"
   ]
  },
  {
   "cell_type": "code",
   "execution_count": 68,
   "id": "25103770",
   "metadata": {},
   "outputs": [
    {
     "data": {
      "text/plain": [
       "(1952, 6302)"
      ]
     },
     "execution_count": 68,
     "metadata": {},
     "output_type": "execute_result"
    }
   ],
   "source": [
    "df_count.shape"
   ]
  },
  {
   "cell_type": "code",
   "execution_count": 69,
   "id": "6bd0ded8",
   "metadata": {},
   "outputs": [],
   "source": [
    "X=df_count"
   ]
  },
  {
   "cell_type": "code",
   "execution_count": null,
   "id": "722977b0",
   "metadata": {},
   "outputs": [],
   "source": []
  },
  {
   "cell_type": "code",
   "execution_count": 70,
   "id": "fb7cd8d1",
   "metadata": {},
   "outputs": [
    {
     "data": {
      "text/plain": [
       "<AxesSubplot:xlabel='NYT', ylabel='count'>"
      ]
     },
     "execution_count": 70,
     "metadata": {},
     "output_type": "execute_result"
    },
    {
     "data": {
      "image/png": "[encoded data removed]",
      "text/plain": [
       "<Figure size 432x288 with 1 Axes>"
      ]
     },
     "metadata": {
      "needs_background": "light"
     },
     "output_type": "display_data"
    }
   ],
   "source": [
    "import seaborn as sns\n",
    "#plt.rcParams['figure.figsize']=[8,6]\n",
    "sns.countplot(y)\n"
   ]
  },
  {
   "cell_type": "code",
   "execution_count": 71,
   "id": "efff2ed2",
   "metadata": {},
   "outputs": [],
   "source": [
    "from sklearn.model_selection import train_test_split\n",
    "X_train, X_test, y_train, y_test = train_test_split(X, y, \n",
    "                                                    train_size=0.8,\n",
    "                                                    test_size=0.2,\n",
    "                                                    random_state=2009,\n",
    "                                                    stratify=y)"
   ]
  },
  {
   "cell_type": "markdown",
   "id": "eb308d0e",
   "metadata": {},
   "source": [
    "### Naive Bayes"
   ]
  },
  {
   "cell_type": "code",
   "execution_count": 72,
   "id": "662e7d55",
   "metadata": {},
   "outputs": [],
   "source": [
    "from sklearn.naive_bayes import MultinomialNB\n",
    "clf = MultinomialNB()"
   ]
  },
  {
   "cell_type": "code",
   "execution_count": 73,
   "id": "46f57ca5",
   "metadata": {},
   "outputs": [],
   "source": [
    "clf.fit(X_train, y_train)\n",
    "y_pred = clf.predict(X_test)"
   ]
  },
  {
   "cell_type": "code",
   "execution_count": 74,
   "id": "0ed77ba3",
   "metadata": {},
   "outputs": [
    {
     "data": {
      "text/plain": [
       "array([[237,  29],\n",
       "       [ 20, 105]], dtype=int64)"
      ]
     },
     "execution_count": 74,
     "metadata": {},
     "output_type": "execute_result"
    }
   ],
   "source": [
    "from sklearn.metrics import confusion_matrix, plot_confusion_matrix\n",
    "from sklearn.metrics import classification_report\n",
    "confusion_matrix(y_test, y_pred)"
   ]
  },
  {
   "cell_type": "code",
   "execution_count": 75,
   "id": "31d42eba",
   "metadata": {},
   "outputs": [
    {
     "data": {
      "text/plain": [
       "<sklearn.metrics._plot.confusion_matrix.ConfusionMatrixDisplay at 0x202a704cc40>"
      ]
     },
     "execution_count": 75,
     "metadata": {},
     "output_type": "execute_result"
    },
    {
     "data": {
      "image/png": "[encoded data removed]",
      "text/plain": [
       "<Figure size 432x288 with 2 Axes>"
      ]
     },
     "metadata": {
      "needs_background": "light"
     },
     "output_type": "display_data"
    }
   ],
   "source": [
    "plot_confusion_matrix(clf, X_test, y_test, cmap=plt.cm.Blues, normalize='pred')"
   ]
  },
  {
   "cell_type": "code",
   "execution_count": 76,
   "id": "264a4c5b",
   "metadata": {
    "scrolled": true
   },
   "outputs": [
    {
     "name": "stdout",
     "output_type": "stream",
     "text": [
      "              precision    recall  f1-score   support\n",
      "\n",
      "       False       0.92      0.89      0.91       266\n",
      "        True       0.78      0.84      0.81       125\n",
      "\n",
      "    accuracy                           0.87       391\n",
      "   macro avg       0.85      0.87      0.86       391\n",
      "weighted avg       0.88      0.87      0.88       391\n",
      "\n"
     ]
    }
   ],
   "source": [
    "print(classification_report(y_test, y_pred))"
   ]
  },
  {
   "cell_type": "markdown",
   "id": "1cded07d",
   "metadata": {},
   "source": [
    "We have been trying to predict whether the outlet is NYT (our y variable). In the confusion matrix and classification report: False means that the outlet is FoxNews and True means that the outlet is NY Times.\n",
    "The Multinomial Naive Bayes gave the following results:\n",
    "Precision for FoxNews was 0.92 representing the proportion of predicted FoxNews tweets which were actually correct (237 out of 257 values predicted to be FoxNews were correctly predicted). Precision for NYT was 0.78 (105 out of 134 values predicted to be NYT were correctly predicted). <br><br>  Recall for FoxNews was 0.89, meaning that 89% of actual FoxNews tweets were correctly classified (there were 237 correct predictions out of 266 actual FoxNews tweets). Recall for NYT was 0.84, meaning that 84% of actual NYT tweets were correctly classified (there were 105 correct predictions out of 125 actual NYT tweets).\n",
    "<br><br>  F1-score is a harmonic mean of precision and recall, representing a rate of performance. In this case, model was slightly better for FoxNews as suggested by f1-score of 0.91, and 0.81 for NYT.\n",
    "<br><br>  Support is just a number of actual FoxNews and NYTs in y_test.\n",
    "<br><br>  Macro average for the precision and recall score is just the harmonic mean.\n",
    "<br><br>  Weighted average is just the average metric (precision and recall) weighted by the support/size-of-sample."
   ]
  },
  {
   "cell_type": "markdown",
   "id": "30f447b3",
   "metadata": {},
   "source": [
    "#### GaussianNB with hyperparameter tuning"
   ]
  },
  {
   "cell_type": "code",
   "execution_count": 77,
   "id": "832dc150",
   "metadata": {},
   "outputs": [],
   "source": [
    "from sklearn.naive_bayes import GaussianNB\n",
    "from sklearn.model_selection import GridSearchCV\n",
    "\n",
    "param_grid_nb = {\n",
    "    'var_smoothing': np.logspace(0,-9, num=100)}\n",
    "grid_search = GridSearchCV(estimator=GaussianNB(), param_grid=param_grid_nb, verbose=1, cv=10, n_jobs=-1)"
   ]
  },
  {
   "cell_type": "code",
   "execution_count": 78,
   "id": "33e1140f",
   "metadata": {},
   "outputs": [
    {
     "name": "stdout",
     "output_type": "stream",
     "text": [
      "Fitting 10 folds for each of 100 candidates, totalling 1000 fits\n",
      "Test set score: 0.90\n",
      "Best parameters: {'var_smoothing': 0.005336699231206307}\n",
      "Best cross-validation score: 0.90\n",
      "Best estimator:\n",
      "GaussianNB(var_smoothing=0.005336699231206307)\n",
      "Accuracy on the testing set: 0.9003\n"
     ]
    }
   ],
   "source": [
    "grid_search.fit(X_train, y_train)\n",
    "\n",
    "print(\"Test set score: {:.2f}\".format(grid_search.score(X_test, y_test)))\n",
    "\n",
    "print(\"Best parameters: {}\".format(grid_search.best_params_))\n",
    "print(\"Best cross-validation score: {:.2f}\".format(grid_search.best_score_))\n",
    "print(\"Best estimator:\\n{}\".format(grid_search.best_estimator_))\n",
    "print('Accuracy on the testing set: {:.4f}'.format(grid_search.best_estimator_.score(X_test, y_test)))"
   ]
  },
  {
   "cell_type": "code",
   "execution_count": 79,
   "id": "f96a448d",
   "metadata": {},
   "outputs": [
    {
     "data": {
      "text/plain": [
       "array([[257,   9],\n",
       "       [ 30,  95]], dtype=int64)"
      ]
     },
     "execution_count": 79,
     "metadata": {},
     "output_type": "execute_result"
    }
   ],
   "source": [
    "y_pred = grid_search.predict(X_test)\n",
    "confusion_matrix(y_test, y_pred)"
   ]
  },
  {
   "cell_type": "code",
   "execution_count": 80,
   "id": "d952d47e",
   "metadata": {},
   "outputs": [
    {
     "data": {
      "text/plain": [
       "<sklearn.metrics._plot.confusion_matrix.ConfusionMatrixDisplay at 0x202b5d06fa0>"
      ]
     },
     "execution_count": 80,
     "metadata": {},
     "output_type": "execute_result"
    },
    {
     "data": {
      "image/png": "[encoded data removed]",
      "text/plain": [
       "<Figure size 432x288 with 2 Axes>"
      ]
     },
     "metadata": {
      "needs_background": "light"
     },
     "output_type": "display_data"
    }
   ],
   "source": [
    "plot_confusion_matrix(clf, X_test, y_test, cmap=plt.cm.Blues, normalize='pred')"
   ]
  },
  {
   "cell_type": "code",
   "execution_count": 81,
   "id": "b499a068",
   "metadata": {},
   "outputs": [
    {
     "name": "stdout",
     "output_type": "stream",
     "text": [
      "              precision    recall  f1-score   support\n",
      "\n",
      "       False       0.90      0.97      0.93       266\n",
      "        True       0.91      0.76      0.83       125\n",
      "\n",
      "    accuracy                           0.90       391\n",
      "   macro avg       0.90      0.86      0.88       391\n",
      "weighted avg       0.90      0.90      0.90       391\n",
      "\n"
     ]
    }
   ],
   "source": [
    "print(classification_report(y_test, y_pred))"
   ]
  },
  {
   "cell_type": "markdown",
   "id": "87bd8ffd",
   "metadata": {},
   "source": [
    "The Gaussian Naive Bayes with hyperparameter tuning gave the following results:\n",
    "Precision for FoxNews was 0.90 representing the proportion of predicted FoxNews tweets which were actually correct (257 out of 287 values predicted to be FoxNews were correctly predicted). Precision for NYT was 0.91 (95 out of 104 values predicted to be NYT were correctly predicted). <br><br>  Recall for FoxNews was 0.97, meaning that 97% of actual FoxNews tweets were correctly classified (there were 257 correct predictions out of 266 actual FoxNews tweets). Recall for NYT was 0.76, meaning that 76% of actual NYT tweets were correctly classified (there were 95 correct predictions out of 125 actual NYT tweets).\n",
    "<br><br>  F1-score is a harmonic mean of precision and recall, representing a rate of performance. In this case, model was slightly better for FoxNews as suggested by f1-score of 0.93, and 0.83 for NYT.\n",
    "<br><br>  Gaussian Naive Bayes with hyperparameter tuning performed better than Multinomial Naive Bayes.\n",
    "<br><br>  Support is just a number of actual FoxNews and NYTs in y_test.\n",
    "<br><br>  Macro average for the precision and recall score is just the harmonic mean.\n",
    "<br><br>  Weighted average is just the average metric (precision and recall) weighted by the support/size-of-sample."
   ]
  },
  {
   "cell_type": "markdown",
   "id": "4aeb2944",
   "metadata": {},
   "source": [
    "### Logistic"
   ]
  },
  {
   "cell_type": "code",
   "execution_count": 82,
   "id": "566bb17c",
   "metadata": {},
   "outputs": [],
   "source": [
    "from sklearn.linear_model import LogisticRegression\n",
    "logreg = LogisticRegression()\n",
    "\n",
    "logreg.fit(X_train, y_train)\n",
    "y_pred = logreg.predict(X_test)"
   ]
  },
  {
   "cell_type": "code",
   "execution_count": 83,
   "id": "f8936432",
   "metadata": {},
   "outputs": [
    {
     "data": {
      "text/plain": [
       "array([[265,   1],\n",
       "       [ 34,  91]], dtype=int64)"
      ]
     },
     "execution_count": 83,
     "metadata": {},
     "output_type": "execute_result"
    }
   ],
   "source": [
    "confusion_matrix(y_test, y_pred)"
   ]
  },
  {
   "cell_type": "code",
   "execution_count": 84,
   "id": "eba5cba0",
   "metadata": {},
   "outputs": [
    {
     "data": {
      "text/plain": [
       "<sklearn.metrics._plot.confusion_matrix.ConfusionMatrixDisplay at 0x202a7076b50>"
      ]
     },
     "execution_count": 84,
     "metadata": {},
     "output_type": "execute_result"
    },
    {
     "data": {
      "image/png": "[encoded data removed]",
      "text/plain": [
       "<Figure size 432x288 with 2 Axes>"
      ]
     },
     "metadata": {
      "needs_background": "light"
     },
     "output_type": "display_data"
    }
   ],
   "source": [
    "plot_confusion_matrix(logreg, X_test, y_test, cmap=plt.cm.Blues, normalize='pred')"
   ]
  },
  {
   "cell_type": "code",
   "execution_count": 85,
   "id": "308c5829",
   "metadata": {},
   "outputs": [
    {
     "name": "stdout",
     "output_type": "stream",
     "text": [
      "              precision    recall  f1-score   support\n",
      "\n",
      "       False       0.89      1.00      0.94       266\n",
      "        True       0.99      0.73      0.84       125\n",
      "\n",
      "    accuracy                           0.91       391\n",
      "   macro avg       0.94      0.86      0.89       391\n",
      "weighted avg       0.92      0.91      0.91       391\n",
      "\n"
     ]
    }
   ],
   "source": [
    "print(classification_report(y_test, y_pred))"
   ]
  },
  {
   "cell_type": "markdown",
   "id": "13826b6e",
   "metadata": {},
   "source": [
    "The Logistic Regression gave the following results:\n",
    "Precision for FoxNews was 0.89 representing the proportion of predicted FoxNews tweets which were actually correct (265 out of 299 values predicted to be FoxNews were correctly predicted). Precision for NYT was 0.99 (91 out of 92 values predicted to be NYT were correctly predicted). <br><br>  Recall for FoxNews was 1.00, meaning that 100% of actual FoxNews tweets were correctly classified (there were 265 correct predictions out of 266 actual FoxNews tweets, so there was rounding up). Recall for NYT was 0.73, meaning that 73% of actual NYT tweets were correctly classified (there were 91 correct predictions out of 125 actual NYT tweets).\n",
    "<br><br>  F1-score is a harmonic mean of precision and recall, representing a rate of performance. In this case, model was slightly better for FoxNews as suggested by f1-score of 0.94, and 0.84 for NYT.\n",
    "<br><br>  Logistic Regression performed better than the Naive Bayes Classifier.\n",
    "<br><br>  Support is just a number of actual FoxNews and NYTs in y_test.\n",
    "<br><br>  Macro average for the precision and recall score is just the harmonic mean.\n",
    "<br><br>  Weighted average is just the average metric (precision and recall) weighted by the support/size-of-sample.\n",
    "<br><br>  Let's try hyperparameter tuning in Logistic Regression:"
   ]
  },
  {
   "cell_type": "code",
   "execution_count": 86,
   "id": "a589c869",
   "metadata": {},
   "outputs": [],
   "source": [
    "logit = LogisticRegression()"
   ]
  },
  {
   "cell_type": "code",
   "execution_count": 87,
   "id": "b9231f8d",
   "metadata": {},
   "outputs": [],
   "source": [
    "hyperparameters = {\n",
    "    'penalty': ['l1', 'l2'],\n",
    "    'C': (1, 2, 3, 4)\n",
    "}"
   ]
  },
  {
   "cell_type": "code",
   "execution_count": 88,
   "id": "8398684d",
   "metadata": {},
   "outputs": [],
   "source": [
    "clf = GridSearchCV(logit, hyperparameters, n_jobs=-1, cv = 5)"
   ]
  },
  {
   "cell_type": "code",
   "execution_count": 89,
   "id": "79f597e2",
   "metadata": {},
   "outputs": [
    {
     "name": "stdout",
     "output_type": "stream",
     "text": [
      "Wall time: 15.2 s\n"
     ]
    },
    {
     "data": {
      "text/plain": [
       "GridSearchCV(cv=5, estimator=LogisticRegression(), n_jobs=-1,\n",
       "             param_grid={'C': (1, 2, 3, 4), 'penalty': ['l1', 'l2']})"
      ]
     },
     "execution_count": 89,
     "metadata": {},
     "output_type": "execute_result"
    }
   ],
   "source": [
    "%%time\n",
    "clf.fit(X_train, y_train)"
   ]
  },
  {
   "cell_type": "code",
   "execution_count": 90,
   "id": "6164410c",
   "metadata": {},
   "outputs": [
    {
     "data": {
      "text/plain": [
       "{'C': 4, 'penalty': 'l2'}"
      ]
     },
     "execution_count": 90,
     "metadata": {},
     "output_type": "execute_result"
    }
   ],
   "source": [
    "clf.best_params_"
   ]
  },
  {
   "cell_type": "code",
   "execution_count": 91,
   "id": "c8804e56",
   "metadata": {},
   "outputs": [
    {
     "data": {
      "text/plain": [
       "0.9058183828950602"
      ]
     },
     "execution_count": 91,
     "metadata": {},
     "output_type": "execute_result"
    }
   ],
   "source": [
    "clf.best_score_"
   ]
  },
  {
   "cell_type": "code",
   "execution_count": 92,
   "id": "5a9c4857",
   "metadata": {},
   "outputs": [],
   "source": [
    "y_pred = clf.predict(X_test)"
   ]
  },
  {
   "cell_type": "code",
   "execution_count": 93,
   "id": "2f7536b0",
   "metadata": {},
   "outputs": [
    {
     "data": {
      "text/plain": [
       "array([[264,   2],\n",
       "       [ 30,  95]], dtype=int64)"
      ]
     },
     "execution_count": 93,
     "metadata": {},
     "output_type": "execute_result"
    }
   ],
   "source": [
    "confusion_matrix(y_test, y_pred)"
   ]
  },
  {
   "cell_type": "code",
   "execution_count": 94,
   "id": "e0a15db0",
   "metadata": {},
   "outputs": [
    {
     "data": {
      "text/plain": [
       "<sklearn.metrics._plot.confusion_matrix.ConfusionMatrixDisplay at 0x202b5e4b850>"
      ]
     },
     "execution_count": 94,
     "metadata": {},
     "output_type": "execute_result"
    },
    {
     "data": {
      "image/png": "[encoded data removed]",
      "text/plain": [
       "<Figure size 432x288 with 2 Axes>"
      ]
     },
     "metadata": {
      "needs_background": "light"
     },
     "output_type": "display_data"
    }
   ],
   "source": [
    "plot_confusion_matrix(clf, X_test, y_test, cmap=plt.cm.Blues, normalize='pred')"
   ]
  },
  {
   "cell_type": "code",
   "execution_count": 95,
   "id": "f0f7e2ef",
   "metadata": {},
   "outputs": [
    {
     "name": "stdout",
     "output_type": "stream",
     "text": [
      "              precision    recall  f1-score   support\n",
      "\n",
      "       False       0.90      0.99      0.94       266\n",
      "        True       0.98      0.76      0.86       125\n",
      "\n",
      "    accuracy                           0.92       391\n",
      "   macro avg       0.94      0.88      0.90       391\n",
      "weighted avg       0.92      0.92      0.92       391\n",
      "\n"
     ]
    }
   ],
   "source": [
    "print(classification_report(y_test, y_pred))"
   ]
  },
  {
   "cell_type": "markdown",
   "id": "90a85d28",
   "metadata": {},
   "source": [
    "The Logistic Regression with hyperparameter tuning gave the following results:\n",
    "Precision for FoxNews was 0.90 representing the proportion of predicted FoxNews tweets which were actually correct (264 out of 294 values predicted to be FoxNews were correctly predicted). Precision for NYT was 0.98 (95 out of 97 values predicted to be NYT were correctly predicted). <br><br>  Recall for FoxNews was 0.99, meaning that 99% of actual FoxNews tweets were correctly classified (there were 264 correct predictions out of 266 actual FoxNews tweets). Recall for NYT was 0.76, meaning that 76% of actual NYT tweets were correctly classified (there were 95 correct predictions out of 125 actual NYT tweets).\n",
    "<br><br>  F1-score is a harmonic mean of precision and recall, representing a rate of performance. In this case, model was slightly better for FoxNews as suggested by f1-score of 0.94, and 0.86 for NYT.\n",
    "<br><br>  Logistic Regression with hyperparameter tuning performed slightly better in predicting NYT tweets, without damaging the results for FoxNews than simple Logistic Regression.\n",
    "<br><br>  Support is just a number of actual FoxNews and NYTs in y_test.\n",
    "<br><br>  Macro average for the precision and recall score is just the harmonic mean.\n",
    "<br><br>  Weighted average is just the average metric (precision and recall) weighted by the support/size-of-sample."
   ]
  },
  {
   "cell_type": "markdown",
   "id": "769199a0",
   "metadata": {},
   "source": [
    "### SVC"
   ]
  },
  {
   "cell_type": "code",
   "execution_count": 96,
   "id": "0c50d759",
   "metadata": {},
   "outputs": [
    {
     "data": {
      "text/plain": [
       "LinearSVC()"
      ]
     },
     "execution_count": 96,
     "metadata": {},
     "output_type": "execute_result"
    }
   ],
   "source": [
    "from sklearn.svm import LinearSVC\n",
    "clf = LinearSVC()\n",
    "clf.fit(X_train, y_train)"
   ]
  },
  {
   "cell_type": "code",
   "execution_count": 97,
   "id": "ca689f57",
   "metadata": {},
   "outputs": [],
   "source": [
    "y_pred = clf.predict(X_test)"
   ]
  },
  {
   "cell_type": "code",
   "execution_count": 98,
   "id": "654bcfd8",
   "metadata": {},
   "outputs": [
    {
     "name": "stdout",
     "output_type": "stream",
     "text": [
      "              precision    recall  f1-score   support\n",
      "\n",
      "       False       0.89      0.98      0.94       266\n",
      "        True       0.96      0.74      0.84       125\n",
      "\n",
      "    accuracy                           0.91       391\n",
      "   macro avg       0.92      0.86      0.89       391\n",
      "weighted avg       0.91      0.91      0.90       391\n",
      "\n"
     ]
    }
   ],
   "source": [
    "print(classification_report(y_test, y_pred))"
   ]
  },
  {
   "cell_type": "markdown",
   "id": "7a33a586",
   "metadata": {},
   "source": [
    "At this point it is slightly worse than the Logistic Regression with hyperparameter tuning, let's also try tuning C-hyperparameter."
   ]
  },
  {
   "cell_type": "markdown",
   "id": "613d8f91",
   "metadata": {},
   "source": [
    "SVC with hyperparameter tuning:"
   ]
  },
  {
   "cell_type": "code",
   "execution_count": 99,
   "id": "8a88cc72",
   "metadata": {},
   "outputs": [
    {
     "name": "stdout",
     "output_type": "stream",
     "text": [
      "{'C': array([1.00000000e-02, 6.30957344e-02, 3.98107171e-01, 2.51188643e+00,\n",
      "       1.58489319e+01, 1.00000000e+02])}\n"
     ]
    }
   ],
   "source": [
    "param_grid = {'C': np.logspace(-2, 2, 6)}\n",
    "print(param_grid)"
   ]
  },
  {
   "cell_type": "code",
   "execution_count": 100,
   "id": "134ee443",
   "metadata": {},
   "outputs": [
    {
     "name": "stdout",
     "output_type": "stream",
     "text": [
      "Test set score: 0.92\n",
      "Best parameters: {'C': 0.3981071705534973}\n",
      "Best cross-validation score: 0.91\n",
      "Best estimator:\n",
      "SVC(C=0.3981071705534973, kernel='linear')\n",
      "Accuracy on the testing set: 0.9182\n"
     ]
    }
   ],
   "source": [
    "from sklearn.svm import SVC\n",
    "\n",
    "grid_search = GridSearchCV(SVC(kernel='linear'), param_grid, cv=5, return_train_score=True)\n",
    "grid_search.fit(X_train, y_train)\n",
    "\n",
    "print(\"Test set score: {:.2f}\".format(grid_search.score(X_test, y_test)))\n",
    "\n",
    "print(\"Best parameters: {}\".format(grid_search.best_params_))\n",
    "print(\"Best cross-validation score: {:.2f}\".format(grid_search.best_score_))\n",
    "print(\"Best estimator:\\n{}\".format(grid_search.best_estimator_))\n",
    "print('Accuracy on the testing set: {:.4f}'.format(grid_search.best_estimator_.score(X_test, y_test)))"
   ]
  },
  {
   "cell_type": "code",
   "execution_count": 101,
   "id": "d069fce5",
   "metadata": {},
   "outputs": [
    {
     "data": {
      "image/png": "[encoded data removed]",
      "text/plain": [
       "<Figure size 432x288 with 1 Axes>"
      ]
     },
     "metadata": {
      "needs_background": "light"
     },
     "output_type": "display_data"
    }
   ],
   "source": [
    "results = pd.DataFrame(grid_search.cv_results_)\n",
    "results.plot('param_C', 'mean_train_score', ax=plt.gca())\n",
    "results.plot('param_C', 'mean_test_score', ax=plt.gca())\n",
    "\n",
    "plt.legend()\n",
    "plt.xscale(\"log\")"
   ]
  },
  {
   "cell_type": "code",
   "execution_count": 102,
   "id": "f47a6794",
   "metadata": {},
   "outputs": [
    {
     "data": {
      "text/plain": [
       "SVC(C=0.3981071705534973, kernel='linear')"
      ]
     },
     "execution_count": 102,
     "metadata": {},
     "output_type": "execute_result"
    }
   ],
   "source": [
    "final_model = SVC(kernel='linear', C=grid_search.best_params_['C'])\n",
    "final_model.fit(X_train, y_train)\n"
   ]
  },
  {
   "cell_type": "code",
   "execution_count": 103,
   "id": "65e9defb",
   "metadata": {},
   "outputs": [],
   "source": [
    "y_pred = final_model.predict(X_test)"
   ]
  },
  {
   "cell_type": "code",
   "execution_count": 104,
   "id": "76e1dab7",
   "metadata": {},
   "outputs": [
    {
     "data": {
      "text/plain": [
       "array([[263,   3],\n",
       "       [ 29,  96]], dtype=int64)"
      ]
     },
     "execution_count": 104,
     "metadata": {},
     "output_type": "execute_result"
    }
   ],
   "source": [
    "confusion_matrix(y_test, y_pred)"
   ]
  },
  {
   "cell_type": "code",
   "execution_count": 105,
   "id": "0ed0981f",
   "metadata": {},
   "outputs": [
    {
     "data": {
      "text/plain": [
       "<sklearn.metrics._plot.confusion_matrix.ConfusionMatrixDisplay at 0x202b60085b0>"
      ]
     },
     "execution_count": 105,
     "metadata": {},
     "output_type": "execute_result"
    },
    {
     "data": {
      "image/png": "[encoded data removed]",
      "text/plain": [
       "<Figure size 432x288 with 2 Axes>"
      ]
     },
     "metadata": {
      "needs_background": "light"
     },
     "output_type": "display_data"
    }
   ],
   "source": [
    "plot_confusion_matrix(final_model, X_test, y_test, cmap=plt.cm.Blues, normalize='pred')"
   ]
  },
  {
   "cell_type": "code",
   "execution_count": 106,
   "id": "a286f26c",
   "metadata": {},
   "outputs": [
    {
     "name": "stdout",
     "output_type": "stream",
     "text": [
      "              precision    recall  f1-score   support\n",
      "\n",
      "       False       0.90      0.99      0.94       266\n",
      "        True       0.97      0.77      0.86       125\n",
      "\n",
      "    accuracy                           0.92       391\n",
      "   macro avg       0.94      0.88      0.90       391\n",
      "weighted avg       0.92      0.92      0.92       391\n",
      "\n"
     ]
    }
   ],
   "source": [
    "print(classification_report(y_test, y_pred))"
   ]
  },
  {
   "cell_type": "markdown",
   "id": "71c5c084",
   "metadata": {},
   "source": [
    "The Support Vector Classifier with hyperparameter tuning gave the following results:\n",
    "Precision for FoxNews was 0.90 representing the proportion of predicted FoxNews tweets which were actually correct (263 out of 292 values predicted to be FoxNews were correctly predicted). Precision for NYT was 0.97 (96 out of 99 values predicted to be NYT were correctly predicted). <br><br>  Recall for FoxNews was 0.99, meaning that 99% of actual FoxNews tweets were correctly classified (there were 263 correct predictions out of 266 actual FoxNews tweets). Recall for NYT was 0.77, meaning that 77% of actual NYT tweets were correctly classified (there were 96 correct predictions out of 125 actual NYT tweets).\n",
    "<br><br>  F1-score is a harmonic mean of precision and recall, representing a rate of performance. In this case, model was slightly better for FoxNews as suggested by f1-score of 0.94, and 0.86 for NYT.\n",
    "<br><br>  SVC with hyperparameter tuning performed similarly to the Logistic Regression with hyperparameter tuning.\n",
    "<br><br>  Support is just a number of actual FoxNews and NYTs in y_test.\n",
    "<br><br>  Macro average for the precision and recall score is just the harmonic mean.\n",
    "<br><br>  Weighted average is just the average metric (precision and recall) weighted by the support/size-of-sample."
   ]
  },
  {
   "cell_type": "markdown",
   "id": "8a5b7dc3",
   "metadata": {},
   "source": [
    "Overall, SVC and Logistic Regression gave similar results, while Naive Bayes was slightly worse. Hyperparameter tuning allowed to slightly improve the performance of each classifier. The reason for the worse performance of the Naive Bayes could be that the assumption that the posterior probability that every element is independent of each other fails to hold its significance, i.e. it cannot learn interactions between features because of the class-condition independence assumption, resulting in the loss in accuracy. Rather than taking a probabilistic approach SVM works on the geometric interpretation of the problems. The text being a high dimension problem fits right into its core since the model is independent of dimensions. It also take into account the interaction between the term to understand a “dense” concept which Naive Bayes fails due to its assumption but since SVM has the ability to plug a number of kernels which include Linear kernel can easily process on such predictors and separate out the independent term to max distance. Logistic Regression was also good as it made a prediction for the probability using a direct functional form. "
   ]
  },
  {
   "cell_type": "markdown",
   "id": "8a114c97",
   "metadata": {},
   "source": [
    "# Part 7: Do the usual word analogies hold in this sample?"
   ]
  },
  {
   "cell_type": "markdown",
   "id": "743516f3",
   "metadata": {},
   "source": [
    "As a matter of fact, they do. In the next question, by the help of those we created representative tweets. The only cases where it would not work is when we have a names. For example, when we found the most representative tweet for New York time, we could not find embedding for OXXXIMORON (stage name for a Russian rapper). As, logically, this word is not on the nlp.vocab."
   ]
  },
  {
   "cell_type": "markdown",
   "id": "ebaad536",
   "metadata": {},
   "source": [
    "# Part 8: Create the most representative tweet by outlet "
   ]
  },
  {
   "cell_type": "code",
   "execution_count": 107,
   "id": "333a7867",
   "metadata": {},
   "outputs": [],
   "source": [
    "nlp = spacy.load('en_core_web_lg')\n"
   ]
  },
  {
   "cell_type": "markdown",
   "id": "905779cf",
   "metadata": {},
   "source": [
    "We need to vectorize our text. We define the following function to do the job. However, one thing needs to be noted that `doc.vector` does not work if there is a missing data. So we will check if there is a missing observation before we apply it."
   ]
  },
  {
   "cell_type": "code",
   "execution_count": 108,
   "id": "15efc5da",
   "metadata": {},
   "outputs": [],
   "source": [
    "def get_vec(x):\n",
    "    doc = nlp(x)\n",
    "    vec = doc.vector\n",
    "    return vec"
   ]
  },
  {
   "cell_type": "code",
   "execution_count": 109,
   "id": "82c10fca",
   "metadata": {},
   "outputs": [],
   "source": [
    "tweets['vec']=tweets['prep_text'].apply(lambda x: get_vec(x))"
   ]
  },
  {
   "cell_type": "markdown",
   "id": "203241d3",
   "metadata": {},
   "source": [
    "We split the sample by the outlet, so that we can do the analysis. "
   ]
  },
  {
   "cell_type": "code",
   "execution_count": 110,
   "id": "68291600",
   "metadata": {},
   "outputs": [],
   "source": [
    "tweets_nyt=tweets[tweets['NYT']==True]#New York Times sample\n",
    "tweets_nyt=tweets_nyt.reset_index()\n",
    "\n",
    "tweets_fox=tweets[tweets['NYT']==False]#FoxNews sample\n"
   ]
  },
  {
   "cell_type": "markdown",
   "id": "a716bf0e",
   "metadata": {},
   "source": [
    "In order to find the most representative tweet we need to calculate the average vector for each sample."
   ]
  },
  {
   "cell_type": "code",
   "execution_count": 111,
   "id": "571daaf9",
   "metadata": {},
   "outputs": [],
   "source": [
    "avg_nyt=np.mean(tweets_nyt['vec'])\n",
    "avg_fox=np.mean(tweets_fox['vec'])"
   ]
  },
  {
   "cell_type": "markdown",
   "id": "df104495",
   "metadata": {},
   "source": [
    "We have the average vector and the vectors for all tweets. We can define the loss function and see which vector is the closest to our average vector. We chose Mean Squared Errors as a loss function."
   ]
  },
  {
   "cell_type": "code",
   "execution_count": 112,
   "id": "2f13be05",
   "metadata": {},
   "outputs": [
    {
     "name": "stdout",
     "output_type": "stream",
     "text": [
      "The most representative tweet of the New York Times is: Oxxxymiron, also known as Miron Fyodorov, one of Russia's most popular rappers, announced a series of anti-war charity concerts, which will happen outside Russia because of \"total censorship.\" The shows' proceeds will help those fleeing Ukraine, he said. https://t.co/SDPhrqPRCn\n",
      "The most representative tweet of the FoxNews is: ‘CREATING MORE PROBLEMS’: Ukrainian-born congresswoman Victoria Spartz says the actions of the Biden administration throughout the Russian invasion are contributing to previous failures and ultimately hurting the American people. https://t.co/2jsr0hWH47 https://t.co/eCWoXZGASC\n"
     ]
    }
   ],
   "source": [
    "def loss_sim(tweets,avrg):\n",
    "    losses=[]\n",
    "    for i in tweets:\n",
    "        losses.append(np.square(np.subtract(i,avrg)).mean())\n",
    "    minimum_index=losses.index(min(losses))\n",
    "    return minimum_index\n",
    "\n",
    "print('The most representative tweet of the New York Times is:',str(tweets_nyt['text'][loss_sim(tweets_nyt['vec'],avg_nyt)]))\n",
    "\n",
    "print('The most representative tweet of the FoxNews is:',str(tweets_fox['text'][loss_sim(tweets_fox['vec'],avg_fox)]))\n"
   ]
  },
  {
   "cell_type": "markdown",
   "id": "0239a2ce",
   "metadata": {},
   "source": [
    "Now the next thing is to create a new tweet based on these best representative tweets"
   ]
  },
  {
   "cell_type": "code",
   "execution_count": 113,
   "id": "77df28dd",
   "metadata": {},
   "outputs": [],
   "source": [
    "original_tweet=str(tweets_nyt['text'][loss_sim(tweets_nyt['vec'],avg_nyt)])\n",
    "words= str(tweets_nyt['text'][loss_sim(tweets_nyt['vec'],avg_nyt)]).split()"
   ]
  },
  {
   "cell_type": "code",
   "execution_count": 114,
   "id": "33ad2ddd",
   "metadata": {},
   "outputs": [],
   "source": [
    "similar_tweet=[]\n",
    "for word in words:\n",
    "    try:\n",
    "        ms = nlp.vocab.vectors.most_similar(np.asarray([nlp.vocab.vectors[nlp.vocab.strings[word]]]), n=10)\n",
    "        similar_word = [nlp.vocab.strings[w] for w in ms[0][0]]\n",
    "        similar_tweet.append(similar_word[5])\n",
    "    except:\n",
    "        pass"
   ]
  },
  {
   "cell_type": "code",
   "execution_count": 115,
   "id": "ec0007ce",
   "metadata": {},
   "outputs": [
    {
     "name": "stdout",
     "output_type": "stream",
     "text": [
      "Similar: \n",
      "['WHICH', 'Called', 'WEll', 'hanny', 'One', 'The', 'most', 'most', 'announce', 'another', 'Episodes', 'The', 'antiwar', 'CHARITIES', 'That', 'bE', 'happens', 'INside', 'UKRAINE', 'buT', 'The', 'THe', 'funds', 'bE', 'helping', 'these', 'Fled', 'Him', 'SAY.']\n",
      "Original tweet: \n",
      "Oxxxymiron, also known as Miron Fyodorov, one of Russia's most popular rappers, announced a series of anti-war charity concerts, which will happen outside Russia because of \"total censorship.\" The shows' proceeds will help those fleeing Ukraine, he said. https://t.co/SDPhrqPRCn\n"
     ]
    }
   ],
   "source": [
    "print('Similar: ')\n",
    "print(similar_tweet)\n",
    "print('Original tweet: ')\n",
    "print(original_tweet)"
   ]
  },
  {
   "cell_type": "code",
   "execution_count": 116,
   "id": "958d9955",
   "metadata": {},
   "outputs": [
    {
     "name": "stdout",
     "output_type": "stream",
     "text": [
      "The most representative tweet for New York Times is: WHICH Called WEll hanny One The most most announce another Episodes The antiwar CHARITIES That bE happens INside UKRAINE buT The THe funds bE helping these Fled Him SAY.\n"
     ]
    }
   ],
   "source": [
    "representative_tweet=' '.join(word for word in similar_tweet)\n",
    "print('The most representative tweet for New York Times is:', representative_tweet)"
   ]
  },
  {
   "cell_type": "code",
   "execution_count": 117,
   "id": "cf21f617",
   "metadata": {},
   "outputs": [],
   "source": [
    "original_tweet=str(tweets_fox['text'][loss_sim(tweets_fox['vec'],avg_fox)])\n",
    "words= str(tweets_fox['text'][loss_sim(tweets_fox['vec'],avg_fox)]).split()"
   ]
  },
  {
   "cell_type": "code",
   "execution_count": 118,
   "id": "b3ffcbff",
   "metadata": {},
   "outputs": [],
   "source": [
    "similar_tweet=[]\n",
    "for word in words:\n",
    "    try:\n",
    "        ms = nlp.vocab.vectors.most_similar(np.asarray([nlp.vocab.vectors[nlp.vocab.strings[word]]]), n=10)\n",
    "        similar_word = [nlp.vocab.strings[w] for w in ms[0][0]]\n",
    "        similar_tweet.append(similar_word[5])\n",
    "    except:\n",
    "        pass"
   ]
  },
  {
   "cell_type": "code",
   "execution_count": 119,
   "id": "72674cdf",
   "metadata": {},
   "outputs": [
    {
     "name": "stdout",
     "output_type": "stream",
     "text": [
      "Similar: \n",
      "['less', 'congressman', 'sydney', 'Said', 'THe', 'action', 'The', 'THe', 'mccain', 'ADMINISTRATIONS', 'Across', 'THe', 'Ukrainian', 'INVADING', 'arE', 'Contribute', 'Able', 'EARLIER', 'failure', 'anD', 'Eventually', 'Hurt', 'THe', 'AMerica', 'Person.']\n",
      "Original tweet: \n",
      "‘CREATING MORE PROBLEMS’: Ukrainian-born congresswoman Victoria Spartz says the actions of the Biden administration throughout the Russian invasion are contributing to previous failures and ultimately hurting the American people. https://t.co/2jsr0hWH47 https://t.co/eCWoXZGASC\n"
     ]
    }
   ],
   "source": [
    "print('Similar: ')\n",
    "print(similar_tweet)\n",
    "print('Original tweet: ')\n",
    "print(original_tweet)"
   ]
  },
  {
   "cell_type": "code",
   "execution_count": 120,
   "id": "ee054f1b",
   "metadata": {},
   "outputs": [
    {
     "name": "stdout",
     "output_type": "stream",
     "text": [
      "The most representative tweet for FoxNews is: less congressman sydney Said THe action The THe mccain ADMINISTRATIONS Across THe Ukrainian INVADING arE Contribute Able EARLIER failure anD Eventually Hurt THe AMerica Person.\n"
     ]
    }
   ],
   "source": [
    "representative_tweet=' '.join(word for word in similar_tweet)\n",
    "print('The most representative tweet for FoxNews is:', representative_tweet)"
   ]
  },
  {
   "cell_type": "markdown",
   "id": "3f1fe41b",
   "metadata": {},
   "source": [
    "# Bonus Part: Create at least two own explorations"
   ]
  },
  {
   "cell_type": "markdown",
   "id": "a9980e91",
   "metadata": {},
   "source": [
    "## Lasso: Guessing the outlet from the vectors we derived"
   ]
  },
  {
   "cell_type": "markdown",
   "id": "fe5a629c",
   "metadata": {},
   "source": [
    "We will perform this task using different models, starting with `Lasso`."
   ]
  },
  {
   "cell_type": "code",
   "execution_count": 121,
   "id": "1b97b6eb",
   "metadata": {},
   "outputs": [
    {
     "data": {
      "text/plain": [
       "Index(['author_id', 'username', 'author_followers', 'author_tweets', 'text',\n",
       "       'created_at', 'retweets', 'replies', 'likes', 'quote_count', 'tweet_id',\n",
       "       'NYT', 'mentions', 'breaking', 'hash', 'hashtags', 'prep_text',\n",
       "       'polarity_score', 'neutral', 'negative', 'positive', 'sentiment',\n",
       "       'polarity', 'subjectivity', 'vec'],\n",
       "      dtype='object')"
      ]
     },
     "execution_count": 121,
     "metadata": {},
     "output_type": "execute_result"
    }
   ],
   "source": [
    "tweets.columns"
   ]
  },
  {
   "cell_type": "code",
   "execution_count": 122,
   "id": "e3dfc62e",
   "metadata": {},
   "outputs": [
    {
     "data": {
      "text/plain": [
       "(1952, 1)"
      ]
     },
     "execution_count": 122,
     "metadata": {},
     "output_type": "execute_result"
    }
   ],
   "source": [
    "X = tweets['vec'].to_numpy()\n",
    "X = X.reshape(-1, 1)\n",
    "X.shape"
   ]
  },
  {
   "cell_type": "code",
   "execution_count": 123,
   "id": "d9ad2fa0",
   "metadata": {},
   "outputs": [
    {
     "data": {
      "text/plain": [
       "(1952, 300)"
      ]
     },
     "execution_count": 123,
     "metadata": {},
     "output_type": "execute_result"
    }
   ],
   "source": [
    "X = np.concatenate(np.concatenate(X, axis = 0), axis = 0).reshape(-1, 300)\n",
    "X.shape"
   ]
  },
  {
   "cell_type": "code",
   "execution_count": 124,
   "id": "475cf74d",
   "metadata": {},
   "outputs": [
    {
     "data": {
      "text/plain": [
       "(1952,)"
      ]
     },
     "execution_count": 124,
     "metadata": {},
     "output_type": "execute_result"
    }
   ],
   "source": [
    "y=tweets['NYT'].to_numpy()\n",
    "y.shape"
   ]
  },
  {
   "cell_type": "code",
   "execution_count": 125,
   "id": "3eaf0246",
   "metadata": {},
   "outputs": [
    {
     "data": {
      "text/plain": [
       "((1268, 300), (684, 300))"
      ]
     },
     "execution_count": 125,
     "metadata": {},
     "output_type": "execute_result"
    }
   ],
   "source": [
    "X_train, X_test, y_train, y_test = train_test_split(X, y, test_size = 0.35, random_state = 3123, stratify = y)\n",
    "X_train.shape, X_test.shape"
   ]
  },
  {
   "cell_type": "code",
   "execution_count": 126,
   "id": "82ac6060",
   "metadata": {},
   "outputs": [],
   "source": [
    "lasso = Lasso()\n",
    "lasso.fit(X_train, y_train)\n",
    "y_pred=lasso.predict(X_test)"
   ]
  },
  {
   "cell_type": "code",
   "execution_count": 127,
   "id": "5b4cf04f",
   "metadata": {},
   "outputs": [
    {
     "name": "stdout",
     "output_type": "stream",
     "text": [
      "Training set score: 0.00\n",
      "Test set score: -0.00\n"
     ]
    }
   ],
   "source": [
    "print(\"Training set score: {:.2f}\".format(lasso.score(X_train, y_train))) \n",
    "print(\"Test set score: {:.2f}\".format (lasso.score(X_test, y_test)))"
   ]
  },
  {
   "cell_type": "code",
   "execution_count": 128,
   "id": "48d38d98",
   "metadata": {},
   "outputs": [
    {
     "name": "stdout",
     "output_type": "stream",
     "text": [
      "Number of features used: 0\n"
     ]
    }
   ],
   "source": [
    "print(\"Number of features used: {}\".format(np.sum(lasso.coef_ != 0 ))) "
   ]
  },
  {
   "cell_type": "code",
   "execution_count": 129,
   "id": "a10efcf9",
   "metadata": {},
   "outputs": [
    {
     "name": "stdout",
     "output_type": "stream",
     "text": [
      "Training set score: 0.20\n",
      "Test set score: 0.18\n",
      "Number of features used: 9\n"
     ]
    }
   ],
   "source": [
    "lasso001 = Lasso(alpha=0.01)\n",
    "lasso001.fit(X_train, y_train) \n",
    "print(\"Training set score: {:.2f}\".format(lasso001.score(X_train, y_train))) \n",
    "print(\"Test set score: {:.2f}\".format (lasso001.score(X_test, y_test)))\n",
    "print(\"Number of features used: {}\".format(np.sum(lasso001.coef_ != 0 )))"
   ]
  },
  {
   "cell_type": "code",
   "execution_count": 130,
   "id": "36c3decc",
   "metadata": {},
   "outputs": [
    {
     "name": "stdout",
     "output_type": "stream",
     "text": [
      "Training set score: 0.00\n",
      "Test set score: -0.00\n",
      "Number of features used: 0\n"
     ]
    }
   ],
   "source": [
    "lasso10 = Lasso(alpha=10)\n",
    "lasso10.fit(X_train, y_train) \n",
    "print(\"Training set score: {:.2f}\".format(lasso10.score(X_train, y_train))) \n",
    "print(\"Test set score: {:.2f}\".format (lasso10.score(X_test, y_test)))\n",
    "print(\"Number of features used: {}\".format(np.sum(lasso10.coef_ != 0 )))"
   ]
  },
  {
   "cell_type": "code",
   "execution_count": 131,
   "id": "62e778a5",
   "metadata": {},
   "outputs": [
    {
     "data": {
      "text/plain": [
       "Text(0, 0.5, 'Coefficient magnitude')"
      ]
     },
     "execution_count": 131,
     "metadata": {},
     "output_type": "execute_result"
    },
    {
     "data": {
      "image/png": "[encoded data removed]",
      "text/plain": [
       "<Figure size 432x288 with 1 Axes>"
      ]
     },
     "metadata": {
      "needs_background": "light"
     },
     "output_type": "display_data"
    }
   ],
   "source": [
    "plt.plot(lasso.coef_ , 'o', color=\"gray\", alpha=0.3, label = \"Lasso alpha=1\" ) \n",
    "plt.plot(lasso001.coef_ , '^', color=\"blue\" , alpha=0.7, label = \"Lasso alpha=0.01\" ) \n",
    "plt.plot(lasso10.coef_ , 'v', color=\"orange\", alpha=0.8 , label = \"Lasso alpha=10\" )\n",
    "plt.ylim (-0.5 , 0.5 ) \n",
    "plt.xlabel(\"Coefficient index\" ) \n",
    "plt.ylabel (\"Coefficient magnitude\" ) "
   ]
  },
  {
   "cell_type": "code",
   "execution_count": 132,
   "id": "ca1ddc14",
   "metadata": {},
   "outputs": [],
   "source": [
    "alpha=[0.0001, 0.001, 0.01, 0.1, 0.5, 1, 10, 100, 1000]\n",
    "score=[]\n",
    "for i in alpha:\n",
    "    lasso = Lasso(alpha=i)\n",
    "    lasso.fit(X_train, y_train) \n",
    "    score.append(lasso.score(X_test, y_test))"
   ]
  },
  {
   "cell_type": "code",
   "execution_count": 133,
   "id": "3ea3f833",
   "metadata": {},
   "outputs": [
    {
     "data": {
      "image/png": "[encoded data removed]",
      "text/plain": [
       "<Figure size 432x288 with 1 Axes>"
      ]
     },
     "metadata": {
      "needs_background": "light"
     },
     "output_type": "display_data"
    }
   ],
   "source": [
    "plt.plot(alpha, score)\n",
    "plt.xscale(\"log\")"
   ]
  },
  {
   "cell_type": "markdown",
   "id": "540722bf",
   "metadata": {},
   "source": [
    "The smaller `alpha` is, the better `Lasso` fits our data. With that logic, the best model for our data is when `alpha` is equal to `0`. Which also happens to be `Linear Regression`. Let's consider both cases:"
   ]
  },
  {
   "cell_type": "code",
   "execution_count": 134,
   "id": "bdc0d8fe",
   "metadata": {},
   "outputs": [
    {
     "name": "stdout",
     "output_type": "stream",
     "text": [
      "Training set score: 0.67\n",
      "Test set score: 0.44\n",
      "Number of features used: 300\n"
     ]
    }
   ],
   "source": [
    "#LASSO when alpha=0\n",
    "lasso0 = Lasso(alpha=0)\n",
    "lasso0.fit(X_train, y_train) \n",
    "print(\"Training set score: {:.2f}\".format(lasso0.score(X_train, y_train))) \n",
    "print(\"Test set score: {:.2f}\".format (lasso0.score(X_test, y_test)))\n",
    "print(\"Number of features used: {}\".format(np.sum(lasso0.coef_ != 0 )))"
   ]
  },
  {
   "cell_type": "markdown",
   "id": "53236d9e",
   "metadata": {},
   "source": [
    "## Linear Regression"
   ]
  },
  {
   "cell_type": "code",
   "execution_count": 135,
   "id": "b47577ab",
   "metadata": {},
   "outputs": [
    {
     "name": "stdout",
     "output_type": "stream",
     "text": [
      "Training set score: 0.67\n",
      "Test set score: 0.44\n",
      "Number of features used: 300\n"
     ]
    },
    {
     "data": {
      "image/png": "[encoded data removed]",
      "text/plain": [
       "<Figure size 432x288 with 1 Axes>"
      ]
     },
     "metadata": {
      "needs_background": "light"
     },
     "output_type": "display_data"
    }
   ],
   "source": [
    "reg = LinearRegression()\n",
    "reg.fit(X_train, y_train)\n",
    "y_pred = reg.predict(X_train)\n",
    "residuals_train = y_train - y_pred\n",
    "plt.scatter(y_train, y_pred)\n",
    "plt.xlabel(\"FoxNews <-----------------------------------------------------------> New York Times\")\n",
    "plt.ylabel(\"Predicted Outlet $\\hat{Y}$\")\n",
    "plt.title(\"Outlet vs Predicted Outlet: $Y$ vs $\\hat{Y}$\")\n",
    "print (\"Training set score: {:.2f}\".format(reg.score (X_train , y_train )))\n",
    "print (\"Test set score: {:.2f}\".format (reg.score(X_test , y_test ))) \n",
    "print(\"Number of features used: {}\".format(np.sum(reg.coef_ != 0 )))"
   ]
  },
  {
   "cell_type": "markdown",
   "id": "da9cbeb6",
   "metadata": {},
   "source": [
    "We got the same results"
   ]
  },
  {
   "cell_type": "markdown",
   "id": "fd4ac260",
   "metadata": {},
   "source": [
    "# Support Vector Machine"
   ]
  },
  {
   "cell_type": "code",
   "execution_count": 136,
   "id": "9745c979",
   "metadata": {},
   "outputs": [
    {
     "name": "stdout",
     "output_type": "stream",
     "text": [
      "              precision    recall  f1-score   support\n",
      "\n",
      "       False       0.90      0.92      0.91       466\n",
      "        True       0.81      0.78      0.79       218\n",
      "\n",
      "    accuracy                           0.87       684\n",
      "   macro avg       0.85      0.85      0.85       684\n",
      "weighted avg       0.87      0.87      0.87       684\n",
      "\n"
     ]
    }
   ],
   "source": [
    "clf = LinearSVC()\n",
    "clf.fit(X_train, y_train)\n",
    "y_pred = clf.predict(X_test)\n",
    "print(classification_report(y_test, y_pred))"
   ]
  },
  {
   "cell_type": "markdown",
   "id": "b8653632",
   "metadata": {},
   "source": [
    "## Grid Search Cross Validation for Hyperparameters Tuning"
   ]
  },
  {
   "cell_type": "code",
   "execution_count": 137,
   "id": "62a3a241",
   "metadata": {},
   "outputs": [
    {
     "name": "stdout",
     "output_type": "stream",
     "text": [
      "Test set score: 0.88\n",
      "Best parameters: {'C': 4, 'penalty': 'l2'}\n",
      "Best cross-validation score: 0.89\n",
      "Best estimator:\n",
      "LogisticRegression(C=4, max_iter=10000)\n",
      "Accuracy on the testing set: 0.8845\n",
      "              precision    recall  f1-score   support\n",
      "\n",
      "       False       0.90      0.92      0.91       466\n",
      "        True       0.81      0.78      0.79       218\n",
      "\n",
      "    accuracy                           0.87       684\n",
      "   macro avg       0.85      0.85      0.85       684\n",
      "weighted avg       0.87      0.87      0.87       684\n",
      "\n"
     ]
    },
    {
     "data": {
      "text/plain": [
       "<sklearn.metrics._plot.confusion_matrix.ConfusionMatrixDisplay at 0x202baa7f0d0>"
      ]
     },
     "execution_count": 137,
     "metadata": {},
     "output_type": "execute_result"
    },
    {
     "data": {
      "image/png": "[encoded data removed]",
      "text/plain": [
       "<Figure size 432x288 with 2 Axes>"
      ]
     },
     "metadata": {
      "needs_background": "light"
     },
     "output_type": "display_data"
    }
   ],
   "source": [
    "logit = LogisticRegression(solver='lbfgs',max_iter=10000)\n",
    "hyperparameters = {\n",
    "    'penalty': ['l1', 'l2'],\n",
    "    'C': (1, 2, 3, 4)\n",
    "}\n",
    "grid_search = GridSearchCV(logit, hyperparameters, n_jobs=-1, cv = 5)\n",
    "grid_search.fit(X_train, y_train)\n",
    "print(\"Test set score: {:.2f}\".format(grid_search.score(X_test, y_test)))\n",
    "\n",
    "print(\"Best parameters: {}\".format(grid_search.best_params_))\n",
    "print(\"Best cross-validation score: {:.2f}\".format(grid_search.best_score_))\n",
    "print(\"Best estimator:\\n{}\".format(grid_search.best_estimator_))\n",
    "print('Accuracy on the testing set: {:.4f}'.format(grid_search.best_estimator_.score(X_test, y_test)))\n",
    "\n",
    "y_pred = clf.predict(X_test)\n",
    "print(classification_report(y_test, y_pred))\n",
    "confusion_matrix(y_test, y_pred)\n",
    "plot_confusion_matrix(clf, X_test, y_test, cmap=plt.cm.Blues, normalize='pred')"
   ]
  },
  {
   "cell_type": "markdown",
   "id": "86659e1d",
   "metadata": {},
   "source": [
    "## Ridge "
   ]
  },
  {
   "cell_type": "code",
   "execution_count": 138,
   "id": "10707ec0",
   "metadata": {},
   "outputs": [
    {
     "name": "stdout",
     "output_type": "stream",
     "text": [
      "Training set score: 0.65\n",
      "Test set score: 0.50\n"
     ]
    }
   ],
   "source": [
    "ridge = Ridge() \n",
    "ridge.fit(X_train, y_train)\n",
    "print (\"Training set score: {:.2f}\".format(ridge.score (X_train , y_train )))\n",
    "print (\"Test set score: {:.2f}\".format (ridge.score(X_test , y_test ))) "
   ]
  },
  {
   "cell_type": "markdown",
   "id": "773c112b",
   "metadata": {},
   "source": [
    "## Logistic Regression"
   ]
  },
  {
   "cell_type": "code",
   "execution_count": 139,
   "id": "840b011b",
   "metadata": {},
   "outputs": [
    {
     "name": "stdout",
     "output_type": "stream",
     "text": [
      "Training set score: 0.93\n",
      "Test set score: 0.89\n"
     ]
    }
   ],
   "source": [
    "clf = LogisticRegression()\n",
    "clf.fit(X_train, y_train)\n",
    "print (\"Training set score: {:.2f}\".format(clf.score (X_train , y_train )))\n",
    "print (\"Test set score: {:.2f}\".format (clf.score(X_test , y_test ))) \n"
   ]
  },
  {
   "cell_type": "code",
   "execution_count": 140,
   "id": "86974f9a",
   "metadata": {},
   "outputs": [],
   "source": [
    "y_pred = clf.predict(X_test)"
   ]
  },
  {
   "cell_type": "code",
   "execution_count": 141,
   "id": "f26a280e",
   "metadata": {},
   "outputs": [
    {
     "name": "stdout",
     "output_type": "stream",
     "text": [
      "              precision    recall  f1-score   support\n",
      "\n",
      "       False       0.91      0.94      0.92       466\n",
      "        True       0.85      0.79      0.82       218\n",
      "\n",
      "    accuracy                           0.89       684\n",
      "   macro avg       0.88      0.86      0.87       684\n",
      "weighted avg       0.89      0.89      0.89       684\n",
      "\n"
     ]
    }
   ],
   "source": [
    "print(classification_report(y_test, y_pred))"
   ]
  },
  {
   "cell_type": "code",
   "execution_count": 142,
   "id": "9dba9fb7",
   "metadata": {},
   "outputs": [
    {
     "data": {
      "text/plain": [
       "array([[436,  30],\n",
       "       [ 45, 173]], dtype=int64)"
      ]
     },
     "execution_count": 142,
     "metadata": {},
     "output_type": "execute_result"
    }
   ],
   "source": [
    "confusion_matrix(y_test,y_pred)"
   ]
  },
  {
   "cell_type": "code",
   "execution_count": 143,
   "id": "455a48ef",
   "metadata": {},
   "outputs": [
    {
     "data": {
      "text/plain": [
       "<sklearn.metrics._plot.confusion_matrix.ConfusionMatrixDisplay at 0x202a77a9d90>"
      ]
     },
     "execution_count": 143,
     "metadata": {},
     "output_type": "execute_result"
    },
    {
     "data": {
      "image/png": "[encoded data removed]",
      "text/plain": [
       "<Figure size 432x288 with 2 Axes>"
      ]
     },
     "metadata": {
      "needs_background": "light"
     },
     "output_type": "display_data"
    }
   ],
   "source": [
    "plot_confusion_matrix(clf, X_test, y_test, cmap=plt.cm.Blues, normalize='pred')"
   ]
  },
  {
   "cell_type": "markdown",
   "id": "2e907dc5",
   "metadata": {},
   "source": [
    "As mentioned in the bonus part, we tried to predict the outlet with the vectors. We tried multiple models to do so. Looking at the performances of the models, one can see that the Logistic Regression fits our data and exploration the best. "
   ]
  }
 ],
 "metadata": {
  "colab": {
   "collapsed_sections": [],
   "name": "Assignment1-ML-for-NLP2.ipynb",
   "provenance": []
  },
  "kernelspec": {
   "display_name": "Python 3 (ipykernel)",
   "language": "python",
   "name": "python3"
  },
  "language_info": {
   "codemirror_mode": {
    "name": "ipython",
    "version": 3
   },
   "file_extension": ".py",
   "mimetype": "text/x-python",
   "name": "python",
   "nbconvert_exporter": "python",
   "pygments_lexer": "ipython3",
   "version": "3.9.7"
  }
 },
 "nbformat": 4,
 "nbformat_minor": 5
}
